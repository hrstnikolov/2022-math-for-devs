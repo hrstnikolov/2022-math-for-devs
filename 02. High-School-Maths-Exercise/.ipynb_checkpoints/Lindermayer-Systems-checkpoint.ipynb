{
 "cells": [
  {
   "cell_type": "markdown",
   "id": "189b2cdf-639a-4005-a21f-a3e7c00cdd34",
   "metadata": {},
   "source": [
    "# Lindermayer Systems (L-Systems)"
   ]
  },
  {
   "cell_type": "markdown",
   "id": "673a7e05-7c4e-47a6-96ac-d9b4318140bc",
   "metadata": {},
   "source": [
    "## 1. Algae (Водорасли)"
   ]
  },
  {
   "cell_type": "code",
   "execution_count": 14,
   "id": "63fe62d1-4601-4da0-bec4-aca1fd2232b1",
   "metadata": {},
   "outputs": [],
   "source": [
    "def algae(sequence, order):\n",
    "    if order == 0:\n",
    "        return sequence\n",
    "    \n",
    "    new_sequence = ''\n",
    "    for letter in sequence:\n",
    "        # Apply rules\n",
    "        if letter == 'A':\n",
    "            new_sequence += 'AB'\n",
    "        elif letter == 'B':\n",
    "            new_sequence += 'A'\n",
    "    \n",
    "    return algae(new_sequence, order - 1)"
   ]
  },
  {
   "cell_type": "code",
   "execution_count": 15,
   "id": "5eb71642-d403-48c2-a4b2-4bbc399ef531",
   "metadata": {},
   "outputs": [
    {
     "data": {
      "text/plain": [
       "'ABAABABAABAABABAABABAABAABABAABAABABAABABAABAABABAABABAABAABABAABAABABAABABAABAABABAABAABABAABABAABAABABAABABAABAABABAABAABABAABABAABAABABAABABA'"
      ]
     },
     "execution_count": 15,
     "metadata": {},
     "output_type": "execute_result"
    }
   ],
   "source": [
    "axiom = 'A'\n",
    "order = 10\n",
    "algae(axiom, order)"
   ]
  },
  {
   "cell_type": "markdown",
   "id": "51ba1604-e8a8-4509-97a0-20d516517b00",
   "metadata": {},
   "source": [
    "The number of elements in each sequence turns out to match the fibonacci sequence:"
   ]
  },
  {
   "cell_type": "code",
   "execution_count": 16,
   "id": "2df9eb92-e825-497e-a68b-94759eb092a4",
   "metadata": {},
   "outputs": [
    {
     "data": {
      "text/plain": [
       "[1, 2, 3, 5, 8, 13, 21, 34, 55, 89, 144, 233, 377, 610, 987, 1597]"
      ]
     },
     "execution_count": 16,
     "metadata": {},
     "output_type": "execute_result"
    }
   ],
   "source": [
    "axiom = 'A'\n",
    "letters_count = []\n",
    "for order in range(16):\n",
    "    letters_count.append(len(algae(axiom, order)))\n",
    "\n",
    "letters_count"
   ]
  },
  {
   "cell_type": "markdown",
   "id": "ee172bc2-4ae3-4444-8e64-162d634310d4",
   "metadata": {},
   "source": [
    "## 2. Koch Curve with Right Angle"
   ]
  },
  {
   "cell_type": "code",
   "execution_count": 30,
   "id": "e015fff4-8e2d-4f44-b341-a9e2e070f3a5",
   "metadata": {},
   "outputs": [
    {
     "data": {
      "text/plain": [
       "'F+F−F−F+F'"
      ]
     },
     "execution_count": 30,
     "metadata": {},
     "output_type": "execute_result"
    }
   ],
   "source": [
    "# constant_1 = '+'\n",
    "# constant_2 = '-'\n",
    "\n",
    "\n",
    "def koch_curve(text, order):\n",
    "    if order == 0:\n",
    "        return text\n",
    "    \n",
    "    new_text = ''\n",
    "    for ch in text:\n",
    "        # Rule\n",
    "        if ch == 'F':\n",
    "            new_text += 'F+F−F−F+F'\n",
    "    \n",
    "    return koch_curve(new_text, order - 1)\n",
    "\n",
    "\n",
    "start = ['F']\n",
    "koch_curve(start, 1)\n"
   ]
  },
  {
   "cell_type": "code",
   "execution_count": null,
   "id": "0a25e965-1108-438e-b249-3afd4133ee63",
   "metadata": {},
   "outputs": [],
   "source": []
  }
 ],
 "metadata": {
  "kernelspec": {
   "display_name": "Python 3 (ipykernel)",
   "language": "python",
   "name": "python3"
  },
  "language_info": {
   "codemirror_mode": {
    "name": "ipython",
    "version": 3
   },
   "file_extension": ".py",
   "mimetype": "text/x-python",
   "name": "python",
   "nbconvert_exporter": "python",
   "pygments_lexer": "ipython3",
   "version": "3.9.7"
  }
 },
 "nbformat": 4,
 "nbformat_minor": 5
}
