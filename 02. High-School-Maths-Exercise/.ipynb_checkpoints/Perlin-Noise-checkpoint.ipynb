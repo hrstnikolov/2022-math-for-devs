{
 "cells": [
  {
   "cell_type": "code",
   "execution_count": 2,
   "id": "7612158a-0662-492c-ad21-7ebcaef18a89",
   "metadata": {},
   "outputs": [],
   "source": [
    "%matplotlib inline"
   ]
  },
  {
   "cell_type": "code",
   "execution_count": 3,
   "id": "5df9f866-9d58-4f68-8f30-efb5f754c62b",
   "metadata": {},
   "outputs": [],
   "source": [
    "import numpy as np\n",
    "import matplotlib as mpl\n",
    "import matplotlib.pyplot as plt\n",
    "from matplotlib.transforms import Affine2D"
   ]
  },
  {
   "cell_type": "markdown",
   "id": "4d33f061-1bb8-4143-993c-b6ff48b6cbbf",
   "metadata": {
    "tags": []
   },
   "source": [
    "# Perlin Noise"
   ]
  },
  {
   "cell_type": "code",
   "execution_count": null,
   "id": "a07979f5-aebb-49da-a344-decced6bb27f",
   "metadata": {},
   "outputs": [],
   "source": [
    "def calculate_random_noise(x, y):\n",
    "    return np.random.uniform(0, 1)\n",
    "\n",
    "img = np.zeros((40, 40))\n",
    "for x in range(40):\n",
    "    for y in range(40):\n",
    "        noise = calculate_random_noise(x, y)\n",
    "        img[x, y] = noise * 255\n",
    "\n",
    "\n",
    "        plt.imshow(img, cmap='gray')"
   ]
  },
  {
   "cell_type": "code",
   "execution_count": null,
   "id": "461435e9-8182-4c7b-b180-432ad8d69d0b",
   "metadata": {},
   "outputs": [],
   "source": [
    "5 << 2"
   ]
  },
  {
   "cell_type": "code",
   "execution_count": 78,
   "id": "d8bc230a-730a-430d-b559-f142d9b47fe5",
   "metadata": {},
   "outputs": [
    {
     "name": "stdout",
     "output_type": "stream",
     "text": [
      "32, 0, 2\n",
      "31, 4, 1\n",
      "30, 4, 0\n",
      "29, 4, 4\n",
      "28, 4, 3\n",
      "27, 0, 2\n",
      "26, 0, 1\n",
      "25, 0, 0\n",
      "24, 0, 4\n",
      "23, 4, 3\n",
      "22, 4, 2\n",
      "21, 4, 1\n",
      "20, 4, 0\n",
      "19, 0, 4\n",
      "18, 0, 3\n",
      "17, 0, 2\n",
      "16, 0, 1\n",
      "15, 4, 0\n",
      "14, 4, 4\n",
      "13, 4, 3\n",
      "12, 4, 2\n",
      "11, 0, 1\n",
      "10, 0, 0\n",
      "9, 0, 4\n",
      "8, 0, 3\n",
      "7, 4, 2\n",
      "6, 4, 1\n",
      "5, 4, 0\n",
      "4, 4, 4\n",
      "3, 0, 3\n",
      "2, 0, 2\n",
      "1, 0, 1\n",
      "0, 0, 0\n",
      "-1, 4, 4\n",
      "-2, 4, 3\n",
      "-3, 4, 2\n",
      "-4, 4, 1\n",
      "-5, 0, 0\n",
      "-6, 0, 4\n",
      "-7, 0, 3\n",
      "-8, 0, 2\n",
      "-9, 4, 1\n",
      "-10, 4, 0\n",
      "-11, 4, 4\n",
      "-12, 4, 3\n",
      "-13, 0, 2\n",
      "-14, 0, 1\n",
      "-15, 0, 0\n",
      "-16, 0, 4\n",
      "-17, 4, 3\n",
      "-18, 4, 2\n",
      "-19, 4, 1\n",
      "-20, 4, 0\n",
      "-21, 0, 4\n",
      "-22, 0, 3\n",
      "-23, 0, 2\n",
      "-24, 0, 1\n",
      "-25, 4, 0\n",
      "-26, 4, 4\n",
      "-27, 4, 3\n",
      "-28, 4, 2\n",
      "-29, 0, 1\n",
      "-30, 0, 0\n",
      "-31, 0, 4\n"
     ]
    }
   ],
   "source": [
    "for x in range(32, -32, -1):\n",
    "    print(f'{x}, {x & 4}, {x % 5}')\n"
   ]
  },
  {
   "cell_type": "code",
   "execution_count": null,
   "id": "36193879-a2bf-48d3-b371-05cdca6099b4",
   "metadata": {},
   "outputs": [],
   "source": [
    "P = [151, 160, 137, 91, 90, 15, 131, 13, 201, 95, 96, 53, 194, 233, 7, 225, 140, 36, \n",
    "                      103, 30, 69, 142, 8, 99, 37, 240, 21, 10, 23, 190, 6, 148, 247, 120, 234, 75, 0, \n",
    "                      26, 197, 62, 94, 252, 219, 203, 117, 35, 11, 32, 57, 177, 33, 88, 237, 149, 56, \n",
    "                      87, 174, 20, 125, 136, 171, 168, 68, 175, 74, 165, 71, 134, 139, 48, 27, 166, \n",
    "                      77, 146, 158, 231, 83, 111, 229, 122, 60, 211, 133, 230, 220, 105, 92, 41, 55, \n",
    "                      46, 245, 40, 244, 102, 143, 54, 65, 25, 63, 161, 1, 216, 80, 73, 209, 76, 132, \n",
    "                      187, 208, 89, 18, 169, 200, 196, 135, 130, 116, 188, 159, 86, 164, 100, 109, \n",
    "                      198, 173, 186, 3, 64, 52, 217, 226, 250, 124, 123, 5, 202, 38, 147, 118, 126, \n",
    "                      255, 82, 85, 212, 207, 206, 59, 227, 47, 16, 58, 17, 182, 189, 28, 42, 223, 183, \n",
    "                      170, 213, 119, 248, 152, 2, 44, 154, 163, 70, 221, 153, 101, 155, 167, 43, \n",
    "                      172, 9, 129, 22, 39, 253, 19, 98, 108, 110, 79, 113, 224, 232, 178, 185, 112, \n",
    "                      104, 218, 246, 97, 228, 251, 34, 242, 193, 238, 210, 144, 12, 191, 179, 162, \n",
    "                      241, 81, 51, 145, 235, 249, 14, 239, 107, 49, 192, 214, 31, 181, 199, 106, \n",
    "                      157, 184, 84, 204, 176, 115, 121, 50, 45, 127, 4, 150, 254, 138, 236, 205, \n",
    "                      93, 222, 114, 67, 29, 24, 72, 243, 141, 128, 195, 78, 66, 215, 61, 156, 180, 151, 160, 137, 91, 90, 15, 131, 13, 201, 95, 96, 53, 194, 233, 7, 225, 140, 36, \n",
    "                      103, 30, 69, 142, 8, 99, 37, 240, 21, 10, 23, 190, 6, 148, 247, 120, 234, 75, 0, \n",
    "                      26, 197, 62, 94, 252, 219, 203, 117, 35, 11, 32, 57, 177, 33, 88, 237, 149, 56, \n",
    "                      87, 174, 20, 125, 136, 171, 168, 68, 175, 74, 165, 71, 134, 139, 48, 27, 166, \n",
    "                      77, 146, 158, 231, 83, 111, 229, 122, 60, 211, 133, 230, 220, 105, 92, 41, 55, \n",
    "                      46, 245, 40, 244, 102, 143, 54, 65, 25, 63, 161, 1, 216, 80, 73, 209, 76, 132, \n",
    "                      187, 208, 89, 18, 169, 200, 196, 135, 130, 116, 188, 159, 86, 164, 100, 109, \n",
    "                      198, 173, 186, 3, 64, 52, 217, 226, 250, 124, 123, 5, 202, 38, 147, 118, 126, \n",
    "                      255, 82, 85, 212, 207, 206, 59, 227, 47, 16, 58, 17, 182, 189, 28, 42, 223, 183, \n",
    "                      170, 213, 119, 248, 152, 2, 44, 154, 163, 70, 221, 153, 101, 155, 167, 43, \n",
    "                      172, 9, 129, 22, 39, 253, 19, 98, 108, 110, 79, 113, 224, 232, 178, 185, 112, \n",
    "                      104, 218, 246, 97, 228, 251, 34, 242, 193, 238, 210, 144, 12, 191, 179, 162, \n",
    "                      241, 81, 51, 145, 235, 249, 14, 239, 107, 49, 192, 214, 31, 181, 199, 106, \n",
    "                      157, 184, 84, 204, 176, 115, 121, 50, 45, 127, 4, 150, 254, 138, 236, 205, \n",
    "                      93, 222, 114, 67, 29, 24, 72, 243, 141, 128, 195, 78, 66, 215, 61, 156, 180, ]\n",
    "def get_const_vec(v):\n",
    "    if v % 4 == 0:\n",
    "        ll = [-1, -1]\n",
    "    elif v % 4 == 1:\n",
    "        ll = [1, -1]\n",
    "    elif v % 4 == 2:\n",
    "        ll = [-1, 1]\n",
    "    elif v % 4 == 3:\n",
    "        ll = [1, 1]\n",
    "    return np.array(ll)\n",
    "\n",
    "\n",
    "def fade(t):\n",
    "    return ((6 * t - 15) * t + 10)*t*t*t\n",
    "\n",
    "def lerp(t, a1, a2):\n",
    "    return a1 + t * (a2-a1)\n",
    "\n",
    "\n",
    "def perlin(x, y):\n",
    "    X = int(x % 256)\n",
    "    Y = int(y % 256)\n",
    "    \n",
    "    xf, yf = x % 1, y % 1\n",
    "    \n",
    "    tr = np.array([xf - 1, yf - 1])\n",
    "    tl = np.array([xf, yf - 1])\n",
    "    br = np.array([xf - 1, yf])\n",
    "    bl = np.array([xf, yf])\n",
    "    \n",
    "    vtr = P[P[X+1]+Y+1]\n",
    "    vtl = P[P[X]+Y+1]\n",
    "    vbr = P[P[X+1]+Y]\n",
    "    vbl = P[P[X]+Y]\n",
    "    \n",
    "    dtr = tr @ get_const_vec(vtr)\n",
    "    dtl = tl @ get_const_vec(vtl)\n",
    "    dbr = br @ get_const_vec(vbr)\n",
    "    dbl = bl @ get_const_vec(vbl)\n",
    "    \n",
    "    u = Fade(xf)\n",
    "    v = Fade(yf)\n",
    "    \n",
    "    \n",
    "    return Lerp(u, Lerp(v, dbl, dtl), Lerp(v, dbr, dtr))"
   ]
  },
  {
   "cell_type": "code",
   "execution_count": null,
   "id": "a0fd4f96-2fd0-4719-b378-a6a2636b2153",
   "metadata": {},
   "outputs": [],
   "source": [
    "\n",
    "img = np.zeros((400, 400))\n",
    "        \n",
    "for x in np.arange(400):\n",
    "    for y in np.arange(400):\n",
    "        n = 0\n",
    "        a = 1\n",
    "        f = 0.005\n",
    "        for o in range(2):\n",
    "            v = a * perlin(x * f, y * f)\n",
    "            n += v\n",
    "            a *= 0.5\n",
    "            f *= 2\n",
    "        img[x, y] = n * 255\n",
    "\n",
    "plt.imshow(img, cmap='gray')"
   ]
  },
  {
   "cell_type": "code",
   "execution_count": null,
   "id": "9c81e90f-406c-4212-8e29-1550cb6afe91",
   "metadata": {},
   "outputs": [],
   "source": []
  },
  {
   "cell_type": "code",
   "execution_count": null,
   "id": "a253529a-1e78-409f-98c7-2c8f85d71597",
   "metadata": {},
   "outputs": [],
   "source": []
  },
  {
   "cell_type": "code",
   "execution_count": null,
   "id": "d5f18809-77b1-4af6-8fc9-ea1556c42ef2",
   "metadata": {},
   "outputs": [],
   "source": []
  },
  {
   "cell_type": "code",
   "execution_count": null,
   "id": "026deb63-33bc-4d97-b473-24a8c270a8a5",
   "metadata": {},
   "outputs": [],
   "source": []
  },
  {
   "cell_type": "code",
   "execution_count": null,
   "id": "51ef485f-5465-4b50-aaa0-bd31f201d9c4",
   "metadata": {},
   "outputs": [],
   "source": []
  },
  {
   "cell_type": "code",
   "execution_count": null,
   "id": "a555dfdc-f6fc-44a2-8753-3f0e33bda318",
   "metadata": {},
   "outputs": [],
   "source": []
  },
  {
   "cell_type": "code",
   "execution_count": null,
   "id": "4693c00d-57ea-4179-8321-a87ef4aa8ab9",
   "metadata": {},
   "outputs": [],
   "source": []
  },
  {
   "cell_type": "code",
   "execution_count": null,
   "id": "a31b651b-9a82-4523-96e5-76551d5de414",
   "metadata": {},
   "outputs": [],
   "source": []
  },
  {
   "cell_type": "code",
   "execution_count": null,
   "id": "5c3a843d-6df9-480e-8d9e-2a7167ef7396",
   "metadata": {},
   "outputs": [],
   "source": [
    "\n"
   ]
  },
  {
   "cell_type": "markdown",
   "id": "17415962-12fa-4996-ab2e-40861b72188d",
   "metadata": {},
   "source": [
    "## 1D Space"
   ]
  },
  {
   "cell_type": "markdown",
   "id": "b7b1e153-45e1-4f67-90ab-5651bff2be3e",
   "metadata": {},
   "source": [
    "Draw points on the x-axis and plot a line with random slope."
   ]
  },
  {
   "cell_type": "code",
   "execution_count": 62,
   "id": "9ecd207c-5dd9-4312-afc1-73de20163495",
   "metadata": {},
   "outputs": [
    {
     "data": {
      "image/png": "[encoded data removed]",
      "text/plain": [
       "<Figure size 720x432 with 1 Axes>"
      ]
     },
     "metadata": {
      "needs_background": "light"
     },
     "output_type": "display_data"
    }
   ],
   "source": [
    "num_points = 4\n",
    "points = np.arange(1, num_points + 1)\n",
    "slopes = np.random.uniform(-1, 1, 4)\n",
    "\n",
    "def draw_lines(points, slopes):\n",
    "    for index, xi in enumerate(points):\n",
    "        x = np.array([-0.3, 0.3]) + xi\n",
    "        y = slopes[index] * (x - xi)\n",
    "        plt.plot(x, y, 'b')\n",
    "    \n",
    "    plt.xlabel('x')\n",
    "    plt.ylabel('y')\n",
    "    plt.axhline(0)\n",
    "    plt.axis('equal')\n",
    "    \n",
    "plt.figure(figsize=(10,6))\n",
    "draw_lines(points, slopes)\n",
    "plt.title('Lines with random slopes')\n",
    "plt.show()"
   ]
  },
  {
   "cell_type": "markdown",
   "id": "30d6e742-c851-4111-ae1d-2a44ac665d1a",
   "metadata": {},
   "source": [
    "Add a second plotting function to plot the line extensions as stem-type plot."
   ]
  },
  {
   "cell_type": "code",
   "execution_count": 63,
   "id": "e3288d0d-df91-41fb-a191-28ec7b1e69c7",
   "metadata": {},
   "outputs": [
    {
     "data": {
      "image/png": "[encoded data removed]",
      "text/plain": [
       "<Figure size 720x432 with 1 Axes>"
      ]
     },
     "metadata": {
      "needs_background": "light"
     },
     "output_type": "display_data"
    }
   ],
   "source": [
    "def draw_stems(points, slopes, divisions):\n",
    "    for index, xi in enumerate(points[:-1]):\n",
    "        x = np.linspace(xi, xi + 1, divisions)[1:-1]\n",
    "        y1 = slopes[index] * (x - xi)\n",
    "        y2 = slopes[index + 1] * (x - xi - 1)\n",
    "        plt.stem(x, y1, basefmt=' ', linefmt='C1:', markerfmt='C1.')\n",
    "        plt.stem(x, y2, basefmt=' ', linefmt='C1:', markerfmt='C1.')\n",
    "    plt.axis('equal')\n",
    "\n",
    "plt.figure(figsize=(10,6))\n",
    "draw_lines(points, slopes)\n",
    "draw_stems(points, slopes, divisions=8)\n",
    "plt.title('Lines with random slopes and extensions')\n",
    "plt.show()"
   ]
  },
  {
   "cell_type": "markdown",
   "id": "41b85c62-6c03-4b34-845b-ff3ce4b2b28a",
   "metadata": {},
   "source": [
    "Define linear interpolation function (abreviated as lerp; don't know reason). Also add a third plot function to plot interpolations."
   ]
  },
  {
   "cell_type": "code",
   "execution_count": 64,
   "id": "213b08e3-53fb-4999-b679-5f63967d7705",
   "metadata": {},
   "outputs": [
    {
     "data": {
      "image/png": "[encoded data removed]",
      "text/plain": [
       "<Figure size 720x432 with 1 Axes>"
      ]
     },
     "metadata": {
      "needs_background": "light"
     },
     "output_type": "display_data"
    }
   ],
   "source": [
    "def lerp(a,b,t):\n",
    "    \"\"\"\n",
    "    Linear Interpolation between two points.\n",
    "    a - starting position\n",
    "    b - the other position\n",
    "    t - percentage of the distance between a and b\n",
    "    \"\"\"\n",
    "    return a + (b - a) * t\n",
    "\n",
    "\n",
    "def draw_interpolation(points, slopes, divisions):\n",
    "    for index, xi in enumerate(points[:-1]):\n",
    "        x = np.linspace(xi, xi + 1, divisions)[1:-1]\n",
    "        y1 = slopes[index] * (x - xi)\n",
    "        y2 = slopes[index + 1] * (x - xi - 1)\n",
    "       \n",
    "        t = x - xi\n",
    "        y_interpolated = np.vectorize(lerp)(y1, y2, t)\n",
    "        plt.scatter(x, y_interpolated, marker='.', c='purple')\n",
    "\n",
    "plt.figure(figsize=(10,6))\n",
    "draw_lines(points, slopes)\n",
    "draw_stems(points, slopes, divisions=8)\n",
    "draw_interpolation(points, slopes, 8)\n",
    "\n",
    "plt.title('Lines with random slopes, extensions, and interpolations')\n",
    "plt.show()"
   ]
  },
  {
   "cell_type": "markdown",
   "id": "4c2f823e-ec72-43ca-88c7-6aece7a49366",
   "metadata": {},
   "source": [
    "Bias t with the smoothstep function (let's call it f) before lin interpolation. E.g. at t = 1/2, f(t) = 1/2. However, near the ends: t=0.9, f(t) = 0.972."
   ]
  },
  {
   "cell_type": "code",
   "execution_count": 65,
   "id": "b0bf2af7-b6d6-4a8a-9f79-d307cc31f036",
   "metadata": {},
   "outputs": [
    {
     "data": {
      "image/png": "[encoded data removed]",
      "text/plain": [
       "<Figure size 720x432 with 1 Axes>"
      ]
     },
     "metadata": {
      "needs_background": "light"
     },
     "output_type": "display_data"
    }
   ],
   "source": [
    "def draw_smooth_interpolation(points, slopes, divisions, smooth_func, color='blue'):\n",
    "    for index, xi in enumerate(points[:-1]):\n",
    "        x = np.linspace(xi, xi + 1, divisions)[1:-1]\n",
    "        y1 = slopes[index] * (x - xi)\n",
    "        y2 = slopes[index + 1] * (x - xi - 1)\n",
    "        \n",
    "        t = smooth_func(x - xi)\n",
    "        y_interpolated = np.vectorize(lerp)(y1, y2, t)\n",
    "        plt.plot(x, y_interpolated, c=color)\n",
    "\n",
    "\n",
    "plt.figure(figsize=(10,6))\n",
    "draw_lines(points, slopes)\n",
    "draw_stems(points, slopes, divisions=8)\n",
    "draw_interpolation(points, slopes, 8)\n",
    "\n",
    "# Standard smoothstep function\n",
    "smoothstep_function = np.vectorize(lambda x: -2 * x ** 3 + 3 * x ** 2)\n",
    "draw_smooth_interpolation(points, slopes, 100, smoothstep_function, 'green')\n",
    "\n",
    "# Improved smoothstep function\n",
    "smoothstep_function = np.vectorize(lambda x: 6 * x ** 5 - 15 * x ** 4 + 10 * x ** 3)\n",
    "draw_smooth_interpolation(points, slopes, 100, smoothstep_function, 'cyan')\n",
    "\n",
    "plt.title('Lines with random slopes and extensions')\n",
    "plt.xlim(2.7, 3.3)\n",
    "plt.ylim(-0.4, 0.4)\n",
    "plt.show()"
   ]
  },
  {
   "cell_type": "markdown",
   "id": "7aa78cc6-b874-4acb-a091-829041ae5c81",
   "metadata": {},
   "source": [
    "TODO: write code to plot octaves."
   ]
  },
  {
   "cell_type": "markdown",
   "id": "fb6dc20b-6f85-490e-a57c-6635886f1e3a",
   "metadata": {},
   "source": [
    "## 2D Space"
   ]
  },
  {
   "cell_type": "markdown",
   "id": "a9d214ef-6210-49c1-94b5-369e18897c49",
   "metadata": {},
   "source": [
    "Helper function to plot vectors in 2d space."
   ]
  },
  {
   "cell_type": "code",
   "execution_count": 93,
   "id": "f0fc588c-1e16-4df1-b27e-de509a3f05c2",
   "metadata": {},
   "outputs": [],
   "source": [
    "def plot_vectors(vectors):\n",
    "    \"\"\"\n",
    "    Plots vectors on the xy-plane. The `vectors` parameter is a Python list.\n",
    "    Each vector is specified in the format [start_x, start_y, end_x, end_y]\n",
    "    \"\"\"\n",
    "\n",
    "    # Calculate the absolute end points\n",
    "    start_x, start_y, end_x, end_y = np.array(vectors).T\n",
    "    end_x = end_x - start_x\n",
    "    end_y = end_y - start_y\n",
    "    \n",
    "    # Plot an arrow for each vector\n",
    "    plt.quiver(start_x, start_y, end_x, end_y, scale=1, scale_units='xy', angles = \"xy\")\n",
    "    \n",
    "    # Make the plot pretty\n",
    "    all_x = np.concatenate((start_x, end_x))\n",
    "    all_y = np.concatenate((start_y, end_y))\n",
    "    min_x, max_x = min(all_x), max(all_x)\n",
    "    min_y, max_y = min(all_y), max(all_y)\n",
    "    correction = 1\n",
    "    plt.xlim(min_x - correction, max_x + correction)\n",
    "    plt.ylim(min_y - correction, max_y + correction)\n",
    "    ax = plt.gca()\n",
    "    ax.set_aspect('equal')\n",
    "    plt.grid()\n",
    "    \n",
    "    # Move the origin to (0,0)\n",
    "    ax.spines['bottom'].set_position('zero')\n",
    "    ax.spines['left'].set_position('zero')\n",
    "    ax.spines['right'].set_visible(False)\n",
    "    ax.spines['top'].set_visible(False)\n",
    "\n",
    "# Unit Test\n",
    "# plot_vectors([[0, 0, 1, 0], [0, 0, 0, 1]], [\"red\", \"blue\"]) # Two orthogonal vectors"
   ]
  },
  {
   "cell_type": "code",
   "execution_count": 96,
   "id": "a84a2cb4-cc94-4972-86d7-83245ff8f29a",
   "metadata": {},
   "outputs": [
    {
     "data": {
      "image/png": "[encoded data removed]",
      "text/plain": [
       "<Figure size 432x288 with 1 Axes>"
      ]
     },
     "metadata": {
      "needs_background": "light"
     },
     "output_type": "display_data"
    }
   ],
   "source": [
    "def generate_vector(start_x, start_y, r=1, theta=0):\n",
    "    end_x = start_x + np.cos(theta) * r\n",
    "    end_y = start_y + np.sin(theta) * r\n",
    "    return [start_x, start_y, end_x, end_y]\n",
    "\n",
    "\n",
    "vectors = [generate_vector(i, j, theta=np.random.uniform(0, 2 * np.pi)) for i in range(1, 5) for j in range(1, 5)]\n",
    "plot_vectors(vectors)\n",
    "\n",
    "plt.show()"
   ]
  },
  {
   "cell_type": "markdown",
   "id": "9e64d020-b5e0-4e3c-8953-6be99301ce64",
   "metadata": {},
   "source": [
    "## References\n",
    "\n",
    "* [https://eev.ee/blog/2016/05/29/perlin-noise/](https://eev.ee/blog/2016/05/29/perlin-noise/)\n",
    "* [perlin-noise-algorithm](https://rtouti.github.io/graphics/perlin-noise-algorithm)\n",
    "* [link]()\n",
    "* [link]()\n",
    "* [link]()\n",
    "* [link]()\n",
    "* [link]()"
   ]
  },
  {
   "cell_type": "code",
   "execution_count": null,
   "id": "7a787c72-988f-441d-a026-e17b22c3962e",
   "metadata": {},
   "outputs": [],
   "source": []
  }
 ],
 "metadata": {
  "kernelspec": {
   "display_name": "Python 3 (ipykernel)",
   "language": "python",
   "name": "python3"
  },
  "language_info": {
   "codemirror_mode": {
    "name": "ipython",
    "version": 3
   },
   "file_extension": ".py",
   "mimetype": "text/x-python",
   "name": "python",
   "nbconvert_exporter": "python",
   "pygments_lexer": "ipython3",
   "version": "3.9.7"
  }
 },
 "nbformat": 4,
 "nbformat_minor": 5
}
