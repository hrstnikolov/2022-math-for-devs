{
 "cells": [
  {
   "cell_type": "code",
   "execution_count": 2,
   "id": "86ad3aef-26c6-4629-a932-af5c2e7fa87a",
   "metadata": {},
   "outputs": [],
   "source": [
    "from sympy import *"
   ]
  },
  {
   "cell_type": "code",
   "execution_count": 3,
   "id": "c721f00f-ad69-4288-8134-b247a7403d08",
   "metadata": {},
   "outputs": [
    {
     "data": {
      "text/latex": [
       "$\\displaystyle \\int e^{x} \\cos{\\left(x \\right)}\\, dx = \\frac{e^{x} \\sin{\\left(x \\right)}}{2} + \\frac{e^{x} \\cos{\\left(x \\right)}}{2}$"
      ],
      "text/plain": [
       "Eq(Integral(exp(x)*cos(x), x), exp(x)*sin(x)/2 + exp(x)*cos(x)/2)"
      ]
     },
     "execution_count": 3,
     "metadata": {},
     "output_type": "execute_result"
    }
   ],
   "source": [
    "x = symbols('x')\n",
    "a = Integral(cos(x)*exp(x), x)\n",
    "Eq(a, a.doit())"
   ]
  },
  {
   "cell_type": "code",
   "execution_count": 5,
   "id": "e719577a-5436-4a6d-af5e-eccb377a9f31",
   "metadata": {},
   "outputs": [],
   "source": [
    "b = Derivative(sin(x),x)"
   ]
  },
  {
   "cell_type": "code",
   "execution_count": 9,
   "id": "23f8ea89-c917-4e96-87c4-63f4f942d065",
   "metadata": {},
   "outputs": [
    {
     "data": {
      "text/latex": [
       "$\\displaystyle \\cos{\\left(x \\right)}$"
      ],
      "text/plain": [
       "cos(x)"
      ]
     },
     "execution_count": 9,
     "metadata": {},
     "output_type": "execute_result"
    }
   ],
   "source": [
    "b.doit()"
   ]
  },
  {
   "cell_type": "code",
   "execution_count": null,
   "id": "6cd9e8b6-ae59-4ae3-8edf-2a70496c83f7",
   "metadata": {},
   "outputs": [],
   "source": [
    "c = Integral(acos(cos(x) / (1 + 2 * cos(x))), x)\n",
    "c.doit()"
   ]
  },
  {
   "cell_type": "code",
   "execution_count": null,
   "id": "0922a5a6-e3b3-4c14-ac46-c9f847652a24",
   "metadata": {},
   "outputs": [],
   "source": []
  }
 ],
 "metadata": {
  "kernelspec": {
   "display_name": "Python 3 (ipykernel)",
   "language": "python",
   "name": "python3"
  },
  "language_info": {
   "codemirror_mode": {
    "name": "ipython",
    "version": 3
   },
   "file_extension": ".py",
   "mimetype": "text/x-python",
   "name": "python",
   "nbconvert_exporter": "python",
   "pygments_lexer": "ipython3",
   "version": "3.9.7"
  }
 },
 "nbformat": 4,
 "nbformat_minor": 5
}
