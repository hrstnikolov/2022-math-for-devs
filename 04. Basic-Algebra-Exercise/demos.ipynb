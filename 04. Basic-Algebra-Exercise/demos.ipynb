{
 "cells": [
  {
   "cell_type": "code",
   "execution_count": 75,
   "id": "b1aedb62-7f68-480d-b7c2-2fd4f7c6b643",
   "metadata": {},
   "outputs": [],
   "source": [
    "%matplotlib inline"
   ]
  },
  {
   "cell_type": "code",
   "execution_count": 1,
   "id": "a48cfb6d-ecb4-4750-b1c0-d957b7fcad63",
   "metadata": {},
   "outputs": [],
   "source": [
    "import sympy\n",
    "import numpy as np\n",
    "import matplotlib.pyplot as plt\n",
    "\n",
    "import itertools\n",
    "\n",
    "# I will be using numpy.polynomial package instead of the legacy polynomial module.\n",
    "# See https://numpy.org/doc/stable/reference/routines.polynomials.html for details.\n",
    "# import numpy.polynomial.polynomial as p\n",
    "from numpy.polynomial import Polynomial\n",
    "\n"
   ]
  },
  {
   "cell_type": "markdown",
   "id": "dd05f203-8d78-4219-b6e0-eb3f61e5e29e",
   "metadata": {},
   "source": [
    "# Demos Algebra Fundamentals"
   ]
  },
  {
   "cell_type": "markdown",
   "id": "2c11d7ce-188b-4220-9503-672e5e62470a",
   "metadata": {},
   "source": [
    "## Polynoms"
   ]
  },
  {
   "cell_type": "code",
   "execution_count": 156,
   "id": "9d7bd9f8-b06d-43ba-8a5f-b7d1b1569910",
   "metadata": {},
   "outputs": [],
   "source": [
    "# Define data points\n",
    "points = np.array([(2, 3), (-1, -1), (-3, 5), ])\n",
    "\n",
    "# Extract x and y coordinates\n",
    "x = points[:, 0]\n",
    "y = points[:, 1]"
   ]
  },
  {
   "cell_type": "markdown",
   "id": "8554635c-badd-4d3d-ae69-7af9d9d05fb1",
   "metadata": {},
   "source": [
    "Method 1 below is recommended by numpy documentation.\n",
    "\n",
    "However, the coefficients seem wrong"
   ]
  },
  {
   "cell_type": "code",
   "execution_count": 171,
   "id": "ef79437f-9afd-4c9c-baac-946938d9201b",
   "metadata": {},
   "outputs": [
    {
     "name": "stdout",
     "output_type": "stream",
     "text": [
      "<class 'numpy.ndarray'>\n",
      "[ 0.86666667  0.46666667 -1.4       ]\n",
      "<class 'numpy.poly1d'>\n",
      "        2\n",
      "0.8667 x + 0.4667 x - 1.4\n"
     ]
    }
   ],
   "source": [
    "# Fit the unique polynom of a degree = len(points) - 1\n",
    "\n",
    "# # Method 1 (recommended): Using numpy.polynomial\n",
    "# poly = Polynomial.fit(x, y, len(points) - 1, window=[0, 10])\n",
    "# print(type(poly))\n",
    "# print(poly)\n",
    "\n",
    "# Method 2 (legacy): using numpy.poly1d class and numpy.lib.polynomial\n",
    "coefficients = np.polyfit(x, y, len(points) - 1)\n",
    "print(type(coefficients))\n",
    "print(coefficients)\n",
    "\n",
    "poly = np.poly1d(coefficients)\n",
    "print(type(poly))\n",
    "print(poly)\n"
   ]
  },
  {
   "cell_type": "code",
   "execution_count": 202,
   "id": "2b473cac-fdc3-4a6d-9204-ef75f15a78a1",
   "metadata": {},
   "outputs": [
    {
     "data": {
      "image/png": "[encoded data removed]",
      "text/plain": [
       "<Figure size 432x288 with 1 Axes>"
      ]
     },
     "metadata": {
      "needs_background": "light"
     },
     "output_type": "display_data"
    }
   ],
   "source": [
    "# Generate values for x and calculate the corresponding polynom values (=y)\n",
    "x_plot = np.linspace(-5,5,1000)\n",
    "y_plot = poly(x_plot)\n",
    "\n",
    "# Plot the fitted polynom (line) and the initial data points (scatter)\n",
    "plt.plot(x_plot, y_plot, 'r', label='fitted polynom', linewidth=2)\n",
    "plt.scatter(x, y, label='data points')\n",
    "plt.xlabel('x')\n",
    "plt.ylabel('y')\n",
    "plt.legend()\n",
    "plt.show()"
   ]
  },
  {
   "cell_type": "code",
   "execution_count": 173,
   "id": "4fa97915-5091-4bf7-9d20-e95ad05aa3db",
   "metadata": {},
   "outputs": [],
   "source": [
    "def interpolate_polynomial(points, degree):\n",
    "    \"\"\"\n",
    "    Interpolates a polynomial of the specified degree through the given points and plots it.\n",
    "    points - a list of points (x, y) to plot\n",
    "    degree - the polynomial degree\n",
    "    min_x, max_x - range of x values used to plot the interpolating polynomial\n",
    "    \"\"\"\n",
    "    # extracting the x and y coordinates\n",
    "    x = points[:, 0]\n",
    "    y = points[:, 1]\n",
    "    \n",
    "    # fitting a polynom\n",
    "    coefficients = np.polyfit(x, y, degree)\n",
    "    poly = np.poly1d(coefficients)\n",
    "    \n",
    "    return poly"
   ]
  },
  {
   "cell_type": "code",
   "execution_count": 174,
   "id": "3fcf39c9-9cd8-403b-80f8-d65e529175f1",
   "metadata": {},
   "outputs": [],
   "source": [
    "def plot_function(func, min_x, max_x, num_points):\n",
    "    \"\"\"\n",
    "    Draws a line plot of a function with \n",
    "    \"\"\"\n",
    "    # generating values for x and calculating the corresponding polynom values (y)\n",
    "    x_plot = np.linspace(min_x, max_x, num_points)\n",
    "    y_plot = func(x_plot)\n",
    "\n",
    "    # plotting the fitted polynom (line) and the initial data points (scatter)\n",
    "    plt.plot(x_plot, y_plot, 'r', label='fitted polynom', linewidth=2)\n",
    "    plt.xlabel('x')\n",
    "    plt.ylabel('y')\n",
    "    plt.legend()\n",
    "    plt.show()\n",
    "    \n",
    "    \n",
    "def plot_data_points_and_fitted_polynom(points):\n",
    "    pass"
   ]
  },
  {
   "cell_type": "code",
   "execution_count": 175,
   "id": "ef18d8d3-c78e-4f1b-ad1a-2726e76e7b23",
   "metadata": {},
   "outputs": [
    {
     "data": {
      "image/png": "[encoded data removed]",
      "text/plain": [
       "<Figure size 432x288 with 1 Axes>"
      ]
     },
     "metadata": {
      "needs_background": "light"
     },
     "output_type": "display_data"
    }
   ],
   "source": [
    "points = np.array([(2, 3), (-1, -1), (-3, 5), ])\n",
    "deg = len(points) - 1\n",
    "poly = interpolate_polynomial(points, deg)\n",
    "\n",
    "min_x, max_x = -10, 10\n",
    "plot_function(poly, min_x, max_x, 1000)\n"
   ]
  },
  {
   "cell_type": "markdown",
   "id": "efe81995-a1c0-412f-9ac5-edda4d861c1b",
   "metadata": {},
   "source": [
    "## Complex Numbers"
   ]
  },
  {
   "cell_type": "code",
   "execution_count": 176,
   "id": "4853886c-6595-4349-8755-2e32d5dd806f",
   "metadata": {},
   "outputs": [
    {
     "data": {
      "text/plain": [
       "(5-2j)"
      ]
     },
     "execution_count": 176,
     "metadata": {},
     "output_type": "execute_result"
    }
   ],
   "source": [
    "z1 = 2 + 3j\n",
    "z2 = 3 - 5j\n",
    "z1 + z2"
   ]
  },
  {
   "cell_type": "code",
   "execution_count": 184,
   "id": "9e4ac2b1-19de-4d09-8f96-e15b06ac5263",
   "metadata": {},
   "outputs": [
    {
     "data": {
      "text/plain": [
       "complex"
      ]
     },
     "execution_count": 184,
     "metadata": {},
     "output_type": "execute_result"
    }
   ],
   "source": [
    "type(z1)"
   ]
  },
  {
   "cell_type": "code",
   "execution_count": 185,
   "id": "6adae7a6-0a2c-4885-85bc-273dda73e599",
   "metadata": {},
   "outputs": [
    {
     "data": {
      "text/plain": [
       "'(2+3j)'"
      ]
     },
     "execution_count": 185,
     "metadata": {},
     "output_type": "execute_result"
    }
   ],
   "source": [
    "repr(z1)"
   ]
  },
  {
   "cell_type": "code",
   "execution_count": 186,
   "id": "36f754d2-f8f0-4054-9dbf-dab367256657",
   "metadata": {},
   "outputs": [
    {
     "data": {
      "text/plain": [
       "'(2+3j)'"
      ]
     },
     "execution_count": 186,
     "metadata": {},
     "output_type": "execute_result"
    }
   ],
   "source": [
    "str(z1)"
   ]
  },
  {
   "cell_type": "code",
   "execution_count": 187,
   "id": "8ecc6b47-757f-46f3-a905-fccce29bb716",
   "metadata": {},
   "outputs": [
    {
     "data": {
      "text/plain": [
       "(2+3j)"
      ]
     },
     "execution_count": 187,
     "metadata": {},
     "output_type": "execute_result"
    }
   ],
   "source": [
    "z1"
   ]
  },
  {
   "cell_type": "code",
   "execution_count": 190,
   "id": "88b40848-c3b9-4140-a194-1fb578423a72",
   "metadata": {},
   "outputs": [
    {
     "data": {
      "text/plain": [
       "<function complex.conjugate>"
      ]
     },
     "execution_count": 191,
     "metadata": {},
     "output_type": "execute_result"
    }
   ],
   "source": [
    "z1.conjugate"
   ]
  },
  {
   "cell_type": "code",
   "execution_count": 193,
   "id": "56dd89b7-4092-4940-9db2-3d5f5b869a0f",
   "metadata": {},
   "outputs": [
    {
     "name": "stdout",
     "output_type": "stream",
     "text": [
      "(2+3j) (2-3j)\n"
     ]
    }
   ],
   "source": [
    "print(z1, z1.conjugate())"
   ]
  },
  {
   "cell_type": "code",
   "execution_count": 196,
   "id": "f0816b52-0efc-4cfb-a8e6-a45b56601c1d",
   "metadata": {},
   "outputs": [
    {
     "data": {
      "text/plain": [
       "3.0"
      ]
     },
     "execution_count": 196,
     "metadata": {},
     "output_type": "execute_result"
    }
   ],
   "source": [
    "z1.imag"
   ]
  },
  {
   "cell_type": "code",
   "execution_count": 197,
   "id": "9e02d7a3-4287-44d1-aacc-b52a24839e65",
   "metadata": {},
   "outputs": [
    {
     "data": {
      "text/plain": [
       "float"
      ]
     },
     "execution_count": 197,
     "metadata": {},
     "output_type": "execute_result"
    }
   ],
   "source": [
    "type(z1.imag)"
   ]
  },
  {
   "cell_type": "code",
   "execution_count": 200,
   "id": "5d867660-43aa-4ef8-9f4c-a5310258aa79",
   "metadata": {},
   "outputs": [
    {
     "data": {
      "text/plain": [
       "['__abs__',\n",
       " '__add__',\n",
       " '__bool__',\n",
       " '__class__',\n",
       " '__delattr__',\n",
       " '__dir__',\n",
       " '__divmod__',\n",
       " '__doc__',\n",
       " '__eq__',\n",
       " '__float__',\n",
       " '__floordiv__',\n",
       " '__format__',\n",
       " '__ge__',\n",
       " '__getattribute__',\n",
       " '__getnewargs__',\n",
       " '__gt__',\n",
       " '__hash__',\n",
       " '__init__',\n",
       " '__init_subclass__',\n",
       " '__int__',\n",
       " '__le__',\n",
       " '__lt__',\n",
       " '__mod__',\n",
       " '__mul__',\n",
       " '__ne__',\n",
       " '__neg__',\n",
       " '__new__',\n",
       " '__pos__',\n",
       " '__pow__',\n",
       " '__radd__',\n",
       " '__rdivmod__',\n",
       " '__reduce__',\n",
       " '__reduce_ex__',\n",
       " '__repr__',\n",
       " '__rfloordiv__',\n",
       " '__rmod__',\n",
       " '__rmul__',\n",
       " '__rpow__',\n",
       " '__rsub__',\n",
       " '__rtruediv__',\n",
       " '__setattr__',\n",
       " '__sizeof__',\n",
       " '__str__',\n",
       " '__sub__',\n",
       " '__subclasshook__',\n",
       " '__truediv__',\n",
       " 'conjugate',\n",
       " 'imag',\n",
       " 'real']"
      ]
     },
     "execution_count": 200,
     "metadata": {},
     "output_type": "execute_result"
    }
   ],
   "source": [
    "dir(z1)"
   ]
  },
  {
   "cell_type": "markdown",
   "id": "1cd8a8b2-312d-4fdf-bf6c-8829507c997c",
   "metadata": {},
   "source": [
    "## Demo: Itertools Groupby"
   ]
  },
  {
   "cell_type": "code",
   "execution_count": 68,
   "id": "cf26ff7e-0edf-41c4-876e-f0b54711e867",
   "metadata": {},
   "outputs": [],
   "source": [
    "def print_groupby(iterable, keyfunc=lambda x:x):\n",
    "    grouped = itertools.groupby(iterable, keyfunc)\n",
    "    for k, g in grouped:\n",
    "        print(f'{k}: ', end = '')\n",
    "        for el in g:\n",
    "            print(el, end=', ')\n",
    "        print()"
   ]
  },
  {
   "cell_type": "code",
   "execution_count": 66,
   "id": "8b3c64eb-1842-4a99-b31c-88dadb4bebc3",
   "metadata": {},
   "outputs": [],
   "source": [
    "def get_groupby_sizes(iterable, keyfunc=lambda x:x):\n",
    "    grouped = itertools.groupby(iterable, keyfunc)\n",
    "    res = []\n",
    "    for k, g in grouped:\n",
    "        res.append((k, sum(1 for _ in g)))\n",
    "    \n",
    "    return res"
   ]
  },
  {
   "cell_type": "code",
   "execution_count": 60,
   "id": "05bc15f9-dc5c-4f30-89b7-60a8793e97b4",
   "metadata": {},
   "outputs": [
    {
     "data": {
      "text/plain": [
       "[('A', 2), ('B', 1), ('C', 3), ('D', 1), ('E', 4)]"
      ]
     },
     "execution_count": 60,
     "metadata": {},
     "output_type": "execute_result"
    }
   ],
   "source": [
    "text = \"AABCCCDEEEE\"\n",
    "get_groupby_sizes(text)"
   ]
  },
  {
   "cell_type": "code",
   "execution_count": 61,
   "id": "b6473f6e-0387-423f-b355-cff7f18e696c",
   "metadata": {},
   "outputs": [
    {
     "name": "stdout",
     "output_type": "stream",
     "text": [
      "A: A, A, \n",
      "B: B, \n",
      "C: C, C, C, \n",
      "B: B, B, B, \n",
      "D: D, \n",
      "E: E, E, E, E, \n",
      "A: A, A, A, \n"
     ]
    }
   ],
   "source": [
    "text = \"AABCCCBBBDEEEEAAA\"\n",
    "print_groupby(text)"
   ]
  },
  {
   "cell_type": "code",
   "execution_count": 65,
   "id": "55410fdb-0485-405e-abe6-914003a0de45",
   "metadata": {
    "tags": []
   },
   "outputs": [
    {
     "name": "stdout",
     "output_type": "stream",
     "text": [
      "[('dairy', 1), ('meat', 2), ('dairy', 1)]\n",
      "dairy: ('dairy', 'milk'), \n",
      "meat: ('meat', 'port'), ('meat', 'beef'), \n",
      "dairy: ('dairy', 'cheese'), \n",
      "\n",
      "[('dairy', 2), ('meat', 2)]\n",
      "dairy: ('dairy', 'cheese'), ('dairy', 'milk'), \n",
      "meat: ('meat', 'beef'), ('meat', 'port'), \n"
     ]
    }
   ],
   "source": [
    "ll = [('dairy', 'milk'), ('meat', 'port'), ('meat', 'beef'), ('dairy', 'cheese'), ]\n",
    "keyfunc = lambda x: x[0]\n",
    "\n",
    "print(get_groupby_sizes(ll, keyfunc))\n",
    "print_groupby(ll, keyfunc)\n",
    "\n",
    "print()\n",
    "\n",
    "ll.sort()\n",
    "print(get_groupby_sizes(ll, keyfunc))\n",
    "print_groupby(ll, keyfunc)   "
   ]
  },
  {
   "cell_type": "code",
   "execution_count": null,
   "id": "c9858b7d-f830-4771-b79f-202e3e0782dd",
   "metadata": {},
   "outputs": [],
   "source": []
  }
 ],
 "metadata": {
  "kernelspec": {
   "display_name": "Python 3 (ipykernel)",
   "language": "python",
   "name": "python3"
  },
  "language_info": {
   "codemirror_mode": {
    "name": "ipython",
    "version": 3
   },
   "file_extension": ".py",
   "mimetype": "text/x-python",
   "name": "python",
   "nbconvert_exporter": "python",
   "pygments_lexer": "ipython3",
   "version": "3.9.7"
  }
 },
 "nbformat": 4,
 "nbformat_minor": 5
}
