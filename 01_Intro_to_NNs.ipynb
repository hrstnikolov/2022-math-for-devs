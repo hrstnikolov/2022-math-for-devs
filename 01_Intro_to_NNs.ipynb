{
  "nbformat": 4,
  "nbformat_minor": 0,
  "metadata": {
    "colab": {
      "provenance": [],
      "authorship_tag": "ABX9TyNfU/orubYn3MA9BF08Hh1O",
      "include_colab_link": true
    },
    "kernelspec": {
      "name": "python3",
      "display_name": "Python 3"
    },
    "language_info": {
      "name": "python"
    },
    "accelerator": "GPU",
    "gpuClass": "standard"
  },
  "cells": [
    {
      "cell_type": "markdown",
      "metadata": {
        "id": "view-in-github",
        "colab_type": "text"
      },
      "source": [
        "<a href=\"https://colab.research.google.com/github/hrstnikolov/Mathematics-for-Developers/blob/main/01_Intro_to_NNs.ipynb\" target=\"_parent\"><img src=\"https://colab.research.google.com/assets/colab-badge.svg\" alt=\"Open In Colab\"/></a>"
      ]
    },
    {
      "cell_type": "code",
      "execution_count": 1,
      "metadata": {
        "id": "kCs4pk-84PJT"
      },
      "outputs": [],
      "source": [
        "%matplotlib inline"
      ]
    },
    {
      "cell_type": "code",
      "source": [
        "import numpy as np\n",
        "import pandas as pd\n",
        "import matplotlib.pyplot as plt\n",
        "\n",
        "from datetime import datetime\n",
        "\n",
        "import tensorflow as tf\n",
        "from tensorflow import keras\n",
        "\n",
        "from keras.datasets import mnist\n",
        "from keras.models import Sequential\n",
        "from keras.layers import Input, Dense"
      ],
      "metadata": {
        "id": "KTCeIuP54ZQw"
      },
      "execution_count": 2,
      "outputs": []
    },
    {
      "cell_type": "markdown",
      "source": [
        "# Intro to NNs\n",
        "\n",
        "## Computational graphs"
      ],
      "metadata": {
        "id": "FhO0SDtA4gGR"
      }
    },
    {
      "cell_type": "code",
      "source": [
        "# Using tf functions\n",
        "a = tf.constant(7)\n",
        "b = tf.constant(5)\n",
        "\n",
        "def compute(a, b):\n",
        "    return tf.pow(tf.add(tf.multiply(2, a), tf.multiply(3, b)), 2)\n",
        "\n",
        "compute(a, b).numpy()"
      ],
      "metadata": {
        "colab": {
          "base_uri": "https://localhost:8080/"
        },
        "id": "b0w-BDN-4fY8",
        "outputId": "d28cf63e-1e0c-42fc-a1d9-0d6fa9353fe9"
      },
      "execution_count": 3,
      "outputs": [
        {
          "output_type": "execute_result",
          "data": {
            "text/plain": [
              "841"
            ]
          },
          "metadata": {},
          "execution_count": 3
        }
      ]
    },
    {
      "cell_type": "code",
      "source": [
        "# Simpler\n",
        "def compute(a, b):\n",
        "    return (2 * a + 3 * b) ** 2\n",
        "\n",
        "compute(a, b).numpy()"
      ],
      "metadata": {
        "colab": {
          "base_uri": "https://localhost:8080/"
        },
        "id": "4XiiAZL6uqlo",
        "outputId": "1c470bfb-1c6b-44db-aa34-63f3a9746c3b"
      },
      "execution_count": 4,
      "outputs": [
        {
          "output_type": "execute_result",
          "data": {
            "text/plain": [
              "841"
            ]
          },
          "metadata": {},
          "execution_count": 4
        }
      ]
    },
    {
      "cell_type": "code",
      "source": [
        "# Functions works with any type of inputs\n",
        "compute(2.0, 3.0)\n",
        "compute(np.array([2, 3, 4]), np.array([3, 4, 5]))\n",
        "compute(tf.constant(2), tf.constant(3))\n",
        "compute(tf.constant([2, 3, 4]), tf.constant([3, 4, 5]))"
      ],
      "metadata": {
        "colab": {
          "base_uri": "https://localhost:8080/"
        },
        "id": "Lo6ycPpovNKJ",
        "outputId": "519f7700-dd25-41f0-cb99-4a76b2484ddb"
      },
      "execution_count": 5,
      "outputs": [
        {
          "output_type": "execute_result",
          "data": {
            "text/plain": [
              "<tf.Tensor: shape=(3,), dtype=int32, numpy=array([169, 324, 529], dtype=int32)>"
            ]
          },
          "metadata": {},
          "execution_count": 5
        }
      ]
    },
    {
      "cell_type": "code",
      "source": [
        "# TODO Visualize the computational graph.\n",
        "# @tf.function\n",
        "# def compute(a, b):\n",
        "#     return (2 * a + 3 * b) ** 2\n",
        "\n",
        "# %load_ext tensorboard\n",
        "\n",
        "# # Set up logging.\n",
        "# stamp = datetime.now().strftime(\"%Y%m%d-%H%M%S\")\n",
        "# logdir = 'logs/func/%s' % stamp\n",
        "# writer = tf.summary.create_file_writer(logdir)\n",
        "\n",
        "# a, b = tf.constant([2, 3, 4]), tf.constant([3, 4, 5])\n",
        "# tf.summary.trace_on(graph = True, profiler = True)\n",
        "# result = compute(a, b)\n",
        "# print(result.numpy())\n",
        "\n",
        "# with writer.as_default():\n",
        "#     tf.summary.trace_export(\n",
        "#         name = \"compute_trace\",\n",
        "#         step = 0,\n",
        "#         profiler_outdir = \"logs\"\n",
        "#     )"
      ],
      "metadata": {
        "id": "yc3a0vtd2iWs"
      },
      "execution_count": 6,
      "outputs": []
    },
    {
      "cell_type": "markdown",
      "source": [
        "## MNIST\n",
        "\n",
        "Why? To make the computer recongnize hand-written digits!"
      ],
      "metadata": {
        "id": "C02cpPs2rN7B"
      }
    },
    {
      "cell_type": "code",
      "source": [
        "# Read MNIST.\n",
        "\n",
        "(images_train, labels_train),  (images_test, labels_test) = mnist.load_data()"
      ],
      "metadata": {
        "id": "-ZB7U9BosPRD"
      },
      "execution_count": 17,
      "outputs": []
    },
    {
      "cell_type": "code",
      "source": [
        "# Plot some random digits.\n",
        "\n",
        "def plot_random_mnist_digits(attributes, labels):\n",
        "    n_images = 8\n",
        "    n_rows = 1\n",
        "    n_cols = 8\n",
        "    figsize = (12, 3)\n",
        "    title = 'Random sample of MNIST handwritten digits and their labels'\n",
        "\n",
        "    indeces = np.random.randint(0, len(attributes), size=n_images)    \n",
        "    fig, axs = plt.subplots(nrows=n_rows, ncols=n_cols, figsize=figsize)\n",
        "    \n",
        "    for i, ax in zip(indeces, axs.ravel()):\n",
        "        ax.set_title(labels[i])\n",
        "        ax.imshow(attributes[i], cmap='gray_r')\n",
        "        ax.axis('off')\n",
        "    \n",
        "    plt.suptitle(title, fontsize='xx-large')\n",
        "\n",
        "\n",
        "plot_random_mnist_digits(images_train, labels_train)"
      ],
      "metadata": {
        "colab": {
          "base_uri": "https://localhost:8080/",
          "height": 170
        },
        "id": "bWd5cACmtg0_",
        "outputId": "c4920610-e4d0-4dff-c06f-ce6516b024cc"
      },
      "execution_count": 18,
      "outputs": [
        {
          "output_type": "display_data",
          "data": {
            "text/plain": [
              "<Figure size 864x216 with 8 Axes>"
            ],
            "image/png": "[encoded data removed]"
          },
          "metadata": {
            "needs_background": "light"
          }
        }
      ]
    },
    {
      "cell_type": "code",
      "source": [
        "# Investigate the images shapes.\n",
        "\n",
        "image_shape = images_train.shape[1:]\n",
        "n_classes = len(set(labels_train))\n",
        "\n",
        "print(f'The data consists of images with shape {image_shape}.')\n",
        "print(f'There are {n_classes} distinct symbols (digits).')"
      ],
      "metadata": {
        "colab": {
          "base_uri": "https://localhost:8080/"
        },
        "id": "Q7-JzH6E0HQV",
        "outputId": "976b1348-4834-48e4-db32-82e38b391de3"
      },
      "execution_count": 19,
      "outputs": [
        {
          "output_type": "stream",
          "name": "stdout",
          "text": [
            "The data consists of images with shape (28, 28).\n",
            "There are 10 distinct symbols (digits).\n"
          ]
        }
      ]
    },
    {
      "cell_type": "code",
      "source": [
        "# Reshape images to a single row.\n",
        "\n",
        "n_train_images = len(images_train)\n",
        "n_test_images = len(images_test)\n",
        "\n",
        "images_train = images_train.reshape((n_train_images, -1))\n",
        "images_test = images_test.reshape((n_test_images, -1))\n",
        "\n",
        "new_image_shape = images_train.shape[1:]\n",
        "print(f'The images are now in a single row with shape {new_image_shape}.')"
      ],
      "metadata": {
        "colab": {
          "base_uri": "https://localhost:8080/"
        },
        "id": "sQ9cdpTU3JcS",
        "outputId": "9ac96c5e-c278-4993-863c-7a9da93f531b"
      },
      "execution_count": 20,
      "outputs": [
        {
          "output_type": "stream",
          "name": "stdout",
          "text": [
            "The images are now in a single row with shape (784,).\n"
          ]
        }
      ]
    },
    {
      "cell_type": "code",
      "source": [
        "# Scale data.\n",
        "\n",
        "images_train = images_train / images_train.max()\n",
        "images_test = images_test / images_test.max()"
      ],
      "metadata": {
        "id": "Lwp5tEq5M8g9"
      },
      "execution_count": 21,
      "outputs": []
    },
    {
      "cell_type": "code",
      "source": [
        "# Create model.\n",
        "n_neurons = 16\n",
        "\n",
        "model = Sequential(\n",
        "    layers = [\n",
        "        Input(shape=new_image_shape),\n",
        "        Dense(n_neurons, activation='relu'),\n",
        "        Dense(n_neurons, activation='relu'),\n",
        "    ]\n",
        ")"
      ],
      "metadata": {
        "id": "d-leKXNXyfIT"
      },
      "execution_count": 22,
      "outputs": []
    },
    {
      "cell_type": "markdown",
      "source": [
        "Calculate the number of weight coefficients.\n",
        "\n",
        "**NUMBER OF NEURONS**  \n",
        "Input 784  \n",
        "1st hidden 16  \n",
        "2st hidden 16  \n",
        "Output 10  \n",
        "<br>\n",
        "\n",
        "**NUMBER OF COEFFS**  \n",
        "input to 1st hidden  \n",
        "weights = 784 * 16  \n",
        "biases = 16  \n",
        "total = 784 * 16 + 16 = 12560  \n",
        "\n",
        "1st hidden to 2nd hidden  \n",
        "weights = 16 * 16  \n",
        "biases = 16  \n",
        "total = 16 * 16 + 16 = 272  \n",
        "\n",
        "2nd hidden to output\n",
        "weights = 16 * 10  \n",
        "biases = 10  \n",
        "total = 16 * 10 + 10 = 170\n",
        "\n",
        "grand total = 12560 + 272 + 170 = 13002  \n",
        "<br>\n",
        "\n",
        "**Finally...**  \n",
        "The gradient vector is a vector in 13,002-dimention space! The `summary` below however does not count the 170, reason is unknown to me."
      ],
      "metadata": {
        "id": "U_8hLB5j5ABg"
      }
    },
    {
      "cell_type": "code",
      "source": [
        "model.summary()"
      ],
      "metadata": {
        "colab": {
          "base_uri": "https://localhost:8080/"
        },
        "id": "Z-hYWCCc23jk",
        "outputId": "ce355c39-8d7f-4052-bc88-8f8c610e0905"
      },
      "execution_count": 23,
      "outputs": [
        {
          "output_type": "stream",
          "name": "stdout",
          "text": [
            "Model: \"sequential_1\"\n",
            "_________________________________________________________________\n",
            " Layer (type)                Output Shape              Param #   \n",
            "=================================================================\n",
            " dense_2 (Dense)             (None, 16)                12560     \n",
            "                                                                 \n",
            " dense_3 (Dense)             (None, 16)                272       \n",
            "                                                                 \n",
            "=================================================================\n",
            "Total params: 12,832\n",
            "Trainable params: 12,832\n",
            "Non-trainable params: 0\n",
            "_________________________________________________________________\n"
          ]
        }
      ]
    },
    {
      "cell_type": "code",
      "source": [
        "model.compile(loss='sparse_categorical_crossentropy', metrics=['accuracy'])"
      ],
      "metadata": {
        "id": "707FBEVy25Aw"
      },
      "execution_count": 24,
      "outputs": []
    },
    {
      "cell_type": "code",
      "source": [
        "model.fit(images_train, labels_train, epochs=10)"
      ],
      "metadata": {
        "colab": {
          "base_uri": "https://localhost:8080/"
        },
        "id": "otAbNuoyMInM",
        "outputId": "e59ed67f-9a1b-4843-948e-1ed9457d6e8b"
      },
      "execution_count": 25,
      "outputs": [
        {
          "output_type": "stream",
          "name": "stdout",
          "text": [
            "Epoch 1/10\n",
            "1875/1875 [==============================] - 6s 3ms/step - loss: 2.8304 - accuracy: 0.1562\n",
            "Epoch 2/10\n",
            "1875/1875 [==============================] - 5s 3ms/step - loss: 2.7189 - accuracy: 0.1217\n",
            "Epoch 3/10\n",
            "1875/1875 [==============================] - 5s 2ms/step - loss: 2.6887 - accuracy: 0.1333\n",
            "Epoch 4/10\n",
            "1875/1875 [==============================] - 5s 3ms/step - loss: 2.6184 - accuracy: 0.1607\n",
            "Epoch 5/10\n",
            "1875/1875 [==============================] - 4s 2ms/step - loss: 2.6320 - accuracy: 0.1548\n",
            "Epoch 6/10\n",
            "1875/1875 [==============================] - 4s 2ms/step - loss: 2.6289 - accuracy: 0.1550\n",
            "Epoch 7/10\n",
            "1875/1875 [==============================] - 4s 2ms/step - loss: 2.6251 - accuracy: 0.1566\n",
            "Epoch 8/10\n",
            "1875/1875 [==============================] - 4s 2ms/step - loss: 2.6412 - accuracy: 0.1500\n",
            "Epoch 9/10\n",
            "1875/1875 [==============================] - 4s 2ms/step - loss: 2.6099 - accuracy: 0.1613\n",
            "Epoch 10/10\n",
            "1875/1875 [==============================] - 4s 2ms/step - loss: 2.6049 - accuracy: 0.1626\n"
          ]
        },
        {
          "output_type": "execute_result",
          "data": {
            "text/plain": [
              "<keras.callbacks.History at 0x7f6bc3d5cb50>"
            ]
          },
          "metadata": {},
          "execution_count": 25
        }
      ]
    },
    {
      "cell_type": "code",
      "source": [],
      "metadata": {
        "id": "dFhYRrR3MSsD"
      },
      "execution_count": 15,
      "outputs": []
    }
  ]
}