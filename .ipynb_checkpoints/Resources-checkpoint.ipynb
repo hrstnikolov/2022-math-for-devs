{
 "cells": [
  {
   "cell_type": "markdown",
   "id": "4ff01ed0-fc43-4ab0-95af-a6926c677ad3",
   "metadata": {},
   "source": [
    "# Resources"
   ]
  },
  {
   "cell_type": "markdown",
   "id": "ff61c671-eb41-4b3c-8682-ebd26868dbbb",
   "metadata": {},
   "source": [
    "## Python"
   ]
  },
  {
   "cell_type": "markdown",
   "id": "1d46ad79-d089-4115-8710-593b7ff6ca1e",
   "metadata": {},
   "source": [
    "[The Python Tutorial](https://docs.python.org/3/tutorial/index.html)\n",
    "\n",
    "[Numfocus](https://numfocus.org/)\n",
    "\n",
    "[installing-python-packages-from-jupyter](https://jakevdp.github.io/blog/2017/12/05/installing-python-packages-from-jupyter/)"
   ]
  }
 ],
 "metadata": {
  "kernelspec": {
   "display_name": "Python 3 (ipykernel)",
   "language": "python",
   "name": "python3"
  },
  "language_info": {
   "codemirror_mode": {
    "name": "ipython",
    "version": 3
   },
   "file_extension": ".py",
   "mimetype": "text/x-python",
   "name": "python",
   "nbconvert_exporter": "python",
   "pygments_lexer": "ipython3",
   "version": "3.9.7"
  }
 },
 "nbformat": 4,
 "nbformat_minor": 5
}
