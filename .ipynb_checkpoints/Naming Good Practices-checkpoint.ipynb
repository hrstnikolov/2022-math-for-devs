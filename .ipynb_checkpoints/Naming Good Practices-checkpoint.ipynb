{
 "cells": [
  {
   "cell_type": "code",
   "execution_count": null,
   "id": "0d8629df-16ec-4cca-90af-2f485a3f38c2",
   "metadata": {},
   "outputs": [],
   "source": []
  },
  {
   "cell_type": "markdown",
   "id": "f1a91c49-701d-4ad4-90f5-1386e2cd3c51",
   "metadata": {},
   "source": [
    "база на колекцията - 0\n",
    "\n",
    "\n",
    "```python\n",
    "people = [\"pesho\", 'gosho']\n",
    "eigvectors = [(1,2), (3, 5)]\n",
    "\n",
    "people_count\n",
    "```"
   ]
  },
  {
   "cell_type": "code",
   "execution_count": null,
   "id": "6d12f1a7-eb9a-4bab-a9a7-c4f198a78780",
   "metadata": {},
   "outputs": [],
   "source": []
  },
  {
   "cell_type": "code",
   "execution_count": null,
   "id": "2875b581-8785-44f3-9136-6c1ab2852ddf",
   "metadata": {},
   "outputs": [],
   "source": []
  },
  {
   "cell_type": "code",
   "execution_count": null,
   "id": "e76e905f-c0e1-4262-8aeb-96d1d6555508",
   "metadata": {},
   "outputs": [],
   "source": []
  },
  {
   "cell_type": "code",
   "execution_count": null,
   "id": "08e9f410-4590-4cc7-850b-54032a5f22d4",
   "metadata": {},
   "outputs": [],
   "source": []
  },
  {
   "cell_type": "code",
   "execution_count": null,
   "id": "9be254c0-05b3-4440-a662-5140820ef989",
   "metadata": {},
   "outputs": [],
   "source": []
  },
  {
   "cell_type": "markdown",
   "id": "4c575cdf-db97-4394-9987-153bf556facd",
   "metadata": {},
   "source": [
    "## Resources\n",
    "\n",
    "### Python\n",
    "\n",
    "[The Python Tutorial](https://docs.python.org/3/tutorial/index.html)\n",
    "\n",
    "[Numfocus](https://numfocus.org/)\n",
    "\n",
    "[installing-python-packages-from-jupyter](https://jakevdp.github.io/blog/2017/12/05/installing-python-packages-from-jupyter/)"
   ]
  },
  {
   "cell_type": "code",
   "execution_count": null,
   "id": "2267ef1e-9843-4550-a867-649184212b89",
   "metadata": {},
   "outputs": [],
   "source": []
  }
 ],
 "metadata": {
  "kernelspec": {
   "display_name": "Python 3 (ipykernel)",
   "language": "python",
   "name": "python3"
  },
  "language_info": {
   "codemirror_mode": {
    "name": "ipython",
    "version": 3
   },
   "file_extension": ".py",
   "mimetype": "text/x-python",
   "name": "python",
   "nbconvert_exporter": "python",
   "pygments_lexer": "ipython3",
   "version": "3.9.7"
  }
 },
 "nbformat": 4,
 "nbformat_minor": 5
}
