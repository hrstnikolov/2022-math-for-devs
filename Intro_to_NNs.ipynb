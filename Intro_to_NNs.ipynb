{
  "nbformat": 4,
  "nbformat_minor": 0,
  "metadata": {
    "colab": {
      "provenance": [],
      "authorship_tag": "ABX9TyNr0jCR57DxbmLIDXyn5fXj",
      "include_colab_link": true
    },
    "kernelspec": {
      "name": "python3",
      "display_name": "Python 3"
    },
    "language_info": {
      "name": "python"
    },
    "accelerator": "GPU",
    "gpuClass": "standard"
  },
  "cells": [
    {
      "cell_type": "markdown",
      "metadata": {
        "id": "view-in-github",
        "colab_type": "text"
      },
      "source": [
        "<a href=\"https://colab.research.google.com/github/hrstnikolov/Mathematics-for-Developers/blob/main/Intro_to_NNs.ipynb\" target=\"_parent\"><img src=\"https://colab.research.google.com/assets/colab-badge.svg\" alt=\"Open In Colab\"/></a>"
      ]
    },
    {
      "cell_type": "code",
      "execution_count": 2,
      "metadata": {
        "id": "kCs4pk-84PJT"
      },
      "outputs": [],
      "source": [
        "%matplotlib inline"
      ]
    },
    {
      "cell_type": "code",
      "source": [
        "import numpy as np\n",
        "import pandas as pd\n",
        "import matplotlib.pyplot as plt\n",
        "\n",
        "from datetime import datetime\n",
        "\n",
        "import tensorflow as tf\n",
        "from tensorflow import keras\n",
        "\n",
        "from keras.datasets import mnist\n",
        "from keras.models import Sequential\n",
        "from keras.layers import Input, Dense"
      ],
      "metadata": {
        "id": "KTCeIuP54ZQw"
      },
      "execution_count": 13,
      "outputs": []
    },
    {
      "cell_type": "markdown",
      "source": [
        "# Intro to NNs\n",
        "\n",
        "## Computational graphs"
      ],
      "metadata": {
        "id": "FhO0SDtA4gGR"
      }
    },
    {
      "cell_type": "code",
      "source": [
        "# Using tf functions\n",
        "a = tf.constant(7)\n",
        "b = tf.constant(5)\n",
        "\n",
        "def compute(a, b):\n",
        "    return tf.pow(tf.add(tf.multiply(2, a), tf.multiply(3, b)), 2)\n",
        "\n",
        "compute(a, b).numpy()"
      ],
      "metadata": {
        "colab": {
          "base_uri": "https://localhost:8080/"
        },
        "id": "b0w-BDN-4fY8",
        "outputId": "0063ba8f-9281-40f2-dc71-fd987f748d07"
      },
      "execution_count": 13,
      "outputs": [
        {
          "output_type": "execute_result",
          "data": {
            "text/plain": [
              "841"
            ]
          },
          "metadata": {},
          "execution_count": 13
        }
      ]
    },
    {
      "cell_type": "code",
      "source": [
        "# Simpler\n",
        "def compute(a, b):\n",
        "    return (2 * a + 3 * b) ** 2\n",
        "\n",
        "compute(a, b).numpy()"
      ],
      "metadata": {
        "colab": {
          "base_uri": "https://localhost:8080/"
        },
        "id": "4XiiAZL6uqlo",
        "outputId": "2fb09b21-4e41-43fd-dc77-a4a8517639b6"
      },
      "execution_count": 14,
      "outputs": [
        {
          "output_type": "execute_result",
          "data": {
            "text/plain": [
              "841"
            ]
          },
          "metadata": {},
          "execution_count": 14
        }
      ]
    },
    {
      "cell_type": "code",
      "source": [
        "# Functions works with any type of inputs\n",
        "compute(2.0, 3.0)\n",
        "compute(np.array([2, 3, 4]), np.array([3, 4, 5]))\n",
        "compute(tf.constant(2), tf.constant(3))\n",
        "compute(tf.constant([2, 3, 4]), tf.constant([3, 4, 5]))"
      ],
      "metadata": {
        "colab": {
          "base_uri": "https://localhost:8080/"
        },
        "id": "Lo6ycPpovNKJ",
        "outputId": "26533fba-9a5c-4556-bdb5-42d99bd5a0b5"
      },
      "execution_count": 16,
      "outputs": [
        {
          "output_type": "execute_result",
          "data": {
            "text/plain": [
              "<tf.Tensor: shape=(3,), dtype=int32, numpy=array([169, 324, 529], dtype=int32)>"
            ]
          },
          "metadata": {},
          "execution_count": 16
        }
      ]
    },
    {
      "cell_type": "code",
      "source": [
        "# TODO Visualize the computational graph.\n",
        "# @tf.function\n",
        "# def compute(a, b):\n",
        "#     return (2 * a + 3 * b) ** 2\n",
        "\n",
        "# %load_ext tensorboard\n",
        "\n",
        "# # Set up logging.\n",
        "# stamp = datetime.now().strftime(\"%Y%m%d-%H%M%S\")\n",
        "# logdir = 'logs/func/%s' % stamp\n",
        "# writer = tf.summary.create_file_writer(logdir)\n",
        "\n",
        "# a, b = tf.constant([2, 3, 4]), tf.constant([3, 4, 5])\n",
        "# tf.summary.trace_on(graph = True, profiler = True)\n",
        "# result = compute(a, b)\n",
        "# print(result.numpy())\n",
        "\n",
        "# with writer.as_default():\n",
        "#     tf.summary.trace_export(\n",
        "#         name = \"compute_trace\",\n",
        "#         step = 0,\n",
        "#         profiler_outdir = \"logs\"\n",
        "#     )"
      ],
      "metadata": {
        "id": "yc3a0vtd2iWs"
      },
      "execution_count": 28,
      "outputs": []
    },
    {
      "cell_type": "markdown",
      "source": [
        "## MNIST"
      ],
      "metadata": {
        "id": "C02cpPs2rN7B"
      }
    },
    {
      "cell_type": "code",
      "source": [
        "(mnist_attributes_train, mnist_labels_train),  (mnist_attributes_test, mnist_labels_test) = mnist.load_data()"
      ],
      "metadata": {
        "colab": {
          "base_uri": "https://localhost:8080/"
        },
        "id": "-ZB7U9BosPRD",
        "outputId": "afa5be3d-1d41-4a1f-e685-8b67ab4b0b32"
      },
      "execution_count": 14,
      "outputs": [
        {
          "output_type": "stream",
          "name": "stdout",
          "text": [
            "Downloading data from https://storage.googleapis.com/tensorflow/tf-keras-datasets/mnist.npz\n",
            "11490434/11490434 [==============================] - 1s 0us/step\n"
          ]
        }
      ]
    },
    {
      "cell_type": "code",
      "source": [
        "mnist_attributes_train.shape"
      ],
      "metadata": {
        "colab": {
          "base_uri": "https://localhost:8080/"
        },
        "id": "fj77BMAQtbji",
        "outputId": "f8876539-ae0c-477f-b7e1-d97bdfb94890"
      },
      "execution_count": 15,
      "outputs": [
        {
          "output_type": "execute_result",
          "data": {
            "text/plain": [
              "(60000, 28, 28)"
            ]
          },
          "metadata": {},
          "execution_count": 15
        }
      ]
    },
    {
      "cell_type": "code",
      "source": [
        "def plot_random_mnist_digits(attributes, labels):\n",
        "    indeces = np.random.randint(0, len(attributes), size=(8,))    \n",
        "    fig, axs = plt.subplots(nrows=1, ncols=8, figsize=(12,3))\n",
        "    for i, ax in zip(indeces, axs.ravel()):\n",
        "        ax.set_title(labels[i])\n",
        "        ax.imshow(attributes[i])\n",
        "        ax.axis('off')\n",
        "    plt.suptitle('Random sample of MNIST digits and their labels', fontsize='xx-large')\n",
        "\n",
        "plot_random_mnist_digits(mnist_attributes_train, mnist_labels_train)"
      ],
      "metadata": {
        "colab": {
          "base_uri": "https://localhost:8080/",
          "height": 170
        },
        "id": "bWd5cACmtg0_",
        "outputId": "82278bc9-c36f-42d0-e507-56864dc380a8"
      },
      "execution_count": 50,
      "outputs": [
        {
          "output_type": "display_data",
          "data": {
            "text/plain": [
              "<Figure size 864x216 with 8 Axes>"
            ],
            "image/png": "[encoded data removed]"
          },
          "metadata": {
            "needs_background": "light"
          }
        }
      ]
    },
    {
      "cell_type": "code",
      "source": [],
      "metadata": {
        "id": "dKWBnVaquP_k"
      },
      "execution_count": null,
      "outputs": []
    }
  ]
}