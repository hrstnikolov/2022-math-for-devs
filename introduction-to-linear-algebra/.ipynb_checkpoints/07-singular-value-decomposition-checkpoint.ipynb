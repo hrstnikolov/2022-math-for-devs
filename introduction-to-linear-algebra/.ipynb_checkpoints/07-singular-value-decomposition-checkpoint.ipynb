{
 "cells": [
  {
   "cell_type": "code",
   "execution_count": 2,
   "id": "78ff4923-b61c-4f58-aace-464870a6522b",
   "metadata": {},
   "outputs": [],
   "source": [
    "%matplotlib inline"
   ]
  },
  {
   "cell_type": "code",
   "execution_count": 3,
   "id": "ac5ced83-ee4b-4fa4-aa83-aac88824b438",
   "metadata": {},
   "outputs": [],
   "source": [
    "import numpy as np\n",
    "import pandas as pd\n",
    "import matplotlib.pyplot as plt"
   ]
  },
  {
   "cell_type": "markdown",
   "id": "e1ccc2cc-83f4-4b67-842b-1cb972ed3626",
   "metadata": {
    "tags": []
   },
   "source": [
    "# SVD\n",
    "## 7.1 Image processing by Linear Algebra"
   ]
  },
  {
   "cell_type": "markdown",
   "id": "5644c46f-c06f-4f7c-86a6-e71187b5e291",
   "metadata": {},
   "source": [
    "### Example3: Embedded square "
   ]
  },
  {
   "cell_type": "code",
   "execution_count": 6,
   "id": "c263e203-7671-46f9-a7a8-26b17ad33b33",
   "metadata": {},
   "outputs": [
    {
     "name": "stdout",
     "output_type": "stream",
     "text": [
      "[[-0.9486833  -0.31622777]\n",
      " [ 0.31622777 -0.9486833 ]]\n",
      "[[-0.31622777 -0.9486833 ]\n",
      " [-0.9486833   0.31622777]]\n",
      "[[ 0.70710678 -0.70710678]\n",
      " [ 0.70710678  0.70710678]]\n",
      "[[ 0.70710678 -0.70710678]\n",
      " [ 0.70710678  0.70710678]]\n"
     ]
    },
    {
     "data": {
      "text/plain": [
       "array([[-4.4408921e-16, -3.0000000e+00],\n",
       "       [-5.0000000e+00, -4.0000000e+00]])"
      ]
     },
     "execution_count": 6,
     "metadata": {},
     "output_type": "execute_result"
    }
   ],
   "source": [
    "def get_sorted_eigens(A):\n",
    "    \"\"\"\n",
    "    Returns the sorted eigenvalues and eigenvectors of matrix `A`.\n",
    "    Descending order, larges eigenvalue first.\n",
    "    Eigenvectors are in the \n",
    "    \"\"\"\n",
    "    eigenvalues, eigenvectors = np.linalg.eig(A)\n",
    "    print(eigenvectors)\n",
    "    eigenvectors = eigenvectors.T  # from column to row vectors\n",
    "    zipped = zip(eigenvalues, eigenvectors)  \n",
    "    sorted_pairs = sorted(zipped, key=lambda x: x[0], reverse=True)\n",
    "    tuples = list(zip(*sorted_pairs))\n",
    "    eigenvalues, eigenvectors = tuples\n",
    "    eigenvectors = np.array(eigenvectors).T\n",
    "    print(eigenvectors)\n",
    "    \n",
    "    return eigenvalues, eigenvectors\n",
    "\n",
    "\n",
    "# A\n",
    "A = np.array([\n",
    "    [3, 0],\n",
    "    [4, 5],\n",
    "])\n",
    "\n",
    "eigenvalues, eigenvectors = np.linalg.eig(A)\n",
    "print(eigenvectors)\n",
    "eigenvectors = eigenvectors.T  # from column to row vectors\n",
    "zipped = zip(eigenvalues, eigenvectors)  \n",
    "sorted_pairs = sorted(zipped, key=lambda x: x[0], reverse=True)\n",
    "tuples = list(zip(*sorted_pairs))\n",
    "eigenvalues, eigenvectors = tuples\n",
    "eigenvectors = np.array(eigenvectors).T\n",
    "\n",
    "# U and V\n",
    "eigenvalues, U = get_sorted_eigens(A @ A.T)\n",
    "_, V = get_sorted_eigens(A.T @ A)\n",
    "\n",
    "# Sigma\n",
    "sigmas = [np.sqrt(e) for e in eigenvalues]\n",
    "S = np.diag(sigmas)\n",
    "\n",
    "# Singular Value Decomposition (SVD) of A\n",
    "U @ S @ V.T"
   ]
  },
  {
   "cell_type": "code",
   "execution_count": 12,
   "id": "2bd7999b-c743-41ea-ad75-e89b2ba5166f",
   "metadata": {},
   "outputs": [
    {
     "data": {
      "text/plain": [
       "array([[-4.4408921e-16, -3.0000000e+00],\n",
       "       [-5.0000000e+00, -4.0000000e+00]])"
      ]
     },
     "execution_count": 12,
     "metadata": {},
     "output_type": "execute_result"
    }
   ],
   "source": [
    "def get_sorted_eigens(A):\n",
    "    \"\"\"\n",
    "    Returns the sorted eigenvalues and eigenvectors of matrix `A`.\n",
    "    Descending order, larges eigenvalue first.\n",
    "    Eigenvectors are column vectors.\n",
    "    \"\"\"\n",
    "    eigenvalues, eigenvectors = np.linalg.eig(A)\n",
    "    eigenvectors = eigenvectors.T  # from column to row vectors\n",
    "    zipped = zip(eigenvalues, eigenvectors)  \n",
    "    sorted_pairs = sorted(zipped, key=lambda x: x[0], reverse=True)\n",
    "    tuples = list(zip(*sorted_pairs))\n",
    "    eigenvalues, eigenvectors = tuples\n",
    "    eigenvectors = np.array(eigenvectors).T\n",
    "    \n",
    "    return eigenvalues, eigenvectors\n",
    "\n",
    "\n",
    "# A\n",
    "A = np.array([\n",
    "    [3, 0],\n",
    "    [4, 5],\n",
    "])\n",
    "\n",
    "# U and V\n",
    "eigenvalues, U = get_sorted_eigens(A @ A.T)\n",
    "_, V = get_sorted_eigens(A.T @ A)\n",
    "\n",
    "# Sigma\n",
    "sigmas = [np.sqrt(e) for e in eigenvalues]\n",
    "S = np.diag(sigmas)\n",
    "\n",
    "# Singular Value Decomposition (SVD) of A\n",
    "U @ S @ V.T"
   ]
  },
  {
   "cell_type": "code",
   "execution_count": 8,
   "id": "2053511e-c999-4f68-9c95-e01a950dabdc",
   "metadata": {},
   "outputs": [
    {
     "data": {
      "text/plain": [
       "array([[3.00000000e+00, 1.33226763e-15],\n",
       "       [4.00000000e+00, 5.00000000e+00]])"
      ]
     },
     "execution_count": 8,
     "metadata": {},
     "output_type": "execute_result"
    }
   ],
   "source": [
    "# Test: compare to numpy's SVD\n",
    "u, s, vh = np.linalg.svd(A, full_matrices=True)\n",
    "u @ np.diag(s) @ vh.T"
   ]
  },
  {
   "cell_type": "code",
   "execution_count": 13,
   "id": "d2a0db63-aad1-4d42-8e34-220fb60d2c42",
   "metadata": {},
   "outputs": [
    {
     "data": {
      "text/plain": [
       "(array([[-0.31622777, -0.9486833 ],\n",
       "        [-0.9486833 ,  0.31622777]]),\n",
       " array([[-0.31622777, -0.9486833 ],\n",
       "        [-0.9486833 ,  0.31622777]]))"
      ]
     },
     "execution_count": 13,
     "metadata": {},
     "output_type": "execute_result"
    }
   ],
   "source": [
    "u, U"
   ]
  },
  {
   "cell_type": "code",
   "execution_count": 14,
   "id": "27fdf83b-37aa-4bd8-9f4d-7a2eb69f4a5e",
   "metadata": {},
   "outputs": [
    {
     "data": {
      "text/plain": [
       "(array([[ 0.70710678, -0.70710678],\n",
       "        [ 0.70710678,  0.70710678]]),\n",
       " array([[-0.70710678, -0.70710678],\n",
       "        [-0.70710678,  0.70710678]]))"
      ]
     },
     "execution_count": 14,
     "metadata": {},
     "output_type": "execute_result"
    }
   ],
   "source": [
    "V, vh"
   ]
  },
  {
   "cell_type": "code",
   "execution_count": 15,
   "id": "e390d1fb-9158-452f-b229-6db407115bbe",
   "metadata": {},
   "outputs": [
    {
     "data": {
      "text/plain": [
       "(array([[6.70820393, 0.        ],\n",
       "        [0.        , 2.23606798]]),\n",
       " array([[6.70820393, 0.        ],\n",
       "        [0.        , 2.23606798]]))"
      ]
     },
     "execution_count": 15,
     "metadata": {},
     "output_type": "execute_result"
    }
   ],
   "source": [
    "np.diag(s), S"
   ]
  },
  {
   "cell_type": "code",
   "execution_count": null,
   "id": "0cf2c438-ee62-4b3c-9605-d06ca4e7df58",
   "metadata": {},
   "outputs": [],
   "source": [
    "# First principle components (as column vectors)\n",
    "u1, v1 = U[0][:,np.newaxis], V[0][:,np.newaxis]"
   ]
  },
  {
   "cell_type": "markdown",
   "id": "dac13d7e-58bf-4128-b374-f54ea093013c",
   "metadata": {},
   "source": [
    "### Problem 1"
   ]
  },
  {
   "cell_type": "code",
   "execution_count": 78,
   "id": "1305a36c-ca71-44f1-8548-efe0589ba5f4",
   "metadata": {},
   "outputs": [
    {
     "data": {
      "text/plain": [
       "1"
      ]
     },
     "execution_count": 78,
     "metadata": {},
     "output_type": "execute_result"
    }
   ],
   "source": [
    "A = np.array([\n",
    "    [1, 2, 3, 4],\n",
    "    [2, 4, 6, 8],\n",
    "    [3, 6, 9, 12],\n",
    "    [4, 8, 12, 16],\n",
    "])\n",
    "np.linalg.matrix_rank(A)"
   ]
  },
  {
   "cell_type": "code",
   "execution_count": 93,
   "id": "57b8deb2-78c6-4fad-8bb6-2175a1f7f210",
   "metadata": {},
   "outputs": [],
   "source": [
    "vals, vecs = np.linalg.eig(A @ A.T)\n",
    "vals = np.abs(vals)  # to ensure no small negative numbers \n",
    "eigenpairs_u = sorted(list(zip(vals,vecs)), key=lambda x: x[0], reverse=True)"
   ]
  },
  {
   "cell_type": "code",
   "execution_count": 92,
   "id": "53678b2f-510b-4d40-ba2e-06f53c4d71e4",
   "metadata": {},
   "outputs": [],
   "source": [
    "vals, vecs = np.linalg.eig(A.T @ A)\n",
    "vals = np.abs(vals) \n",
    "eigenpairs_v = sorted(list(zip(vals,vecs)), key=lambda x: x[0], reverse=True)"
   ]
  },
  {
   "cell_type": "code",
   "execution_count": 90,
   "id": "77318ae7-7010-498c-98da-dea06617e781",
   "metadata": {},
   "outputs": [
    {
     "data": {
      "text/plain": [
       "array([[ 0.06780635],\n",
       "       [-0.36514837],\n",
       "       [ 0.06780635],\n",
       "       [-0.67159702]])"
      ]
     },
     "execution_count": 90,
     "metadata": {},
     "output_type": "execute_result"
    }
   ],
   "source": [
    "i = 0  # principle component index\n",
    "sigma = np.sqrt(eigenpairs_u[i][0])\n",
    "u = eigenpairs_u[i][1][:, np.newaxis]  # using [np.newaxis, :] to convert 1d array to 2d array (=matrix)\n",
    "v = eigenpairs_v[i][1][:, np.newaxis] \n",
    "v"
   ]
  },
  {
   "cell_type": "code",
   "execution_count": null,
   "id": "34ace366-a8cd-4da2-a7d5-81b3cbd74498",
   "metadata": {},
   "outputs": [
    {
     "data": {
      "text/plain": [
       "(array([[ -94.36378207],\n",
       "        [-188.72756413],\n",
       "        [-283.0913462 ],\n",
       "        [-377.45512827]]),\n",
       " array([[  61.02571533],\n",
       "        [-328.6335345 ],\n",
       "        [  61.02571533],\n",
       "        [-604.43731357]]))"
      ]
     },
     "execution_count": 95,
     "metadata": {},
     "output_type": "execute_result"
    }
   ],
   "source": [
    "A @ A.T @ u, sigma ** 2 * u"
   ]
  },
  {
   "cell_type": "code",
   "execution_count": 96,
   "id": "e1071e01-001c-4aec-b9f0-9e59332cecdb",
   "metadata": {},
   "outputs": [
    {
     "data": {
      "text/plain": [
       "(array([[ -94.36378207],\n",
       "        [-188.72756413],\n",
       "        [-283.0913462 ],\n",
       "        [-377.45512827]]),\n",
       " array([[  61.02571533],\n",
       "        [-328.6335345 ],\n",
       "        [  61.02571533],\n",
       "        [-604.43731357]]))"
      ]
     },
     "execution_count": 96,
     "metadata": {},
     "output_type": "execute_result"
    }
   ],
   "source": [
    "A.T @ A @ v, sigma ** 2 * v"
   ]
  },
  {
   "cell_type": "code",
   "execution_count": null,
   "id": "1c283f75-2e7d-41c5-99fe-2f296b1fd904",
   "metadata": {},
   "outputs": [],
   "source": []
  }
 ],
 "metadata": {
  "kernelspec": {
   "display_name": "Python 3 (ipykernel)",
   "language": "python",
   "name": "python3"
  },
  "language_info": {
   "codemirror_mode": {
    "name": "ipython",
    "version": 3
   },
   "file_extension": ".py",
   "mimetype": "text/x-python",
   "name": "python",
   "nbconvert_exporter": "python",
   "pygments_lexer": "ipython3",
   "version": "3.9.7"
  }
 },
 "nbformat": 4,
 "nbformat_minor": 5
}
