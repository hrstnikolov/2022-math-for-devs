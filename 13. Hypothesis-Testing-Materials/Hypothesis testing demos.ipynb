{
 "cells": [
  {
   "cell_type": "code",
   "execution_count": 3,
   "id": "3f63ecb0-c9bb-4bc8-9573-54b9c9d1ae01",
   "metadata": {},
   "outputs": [],
   "source": [
    "%matplotlib inline"
   ]
  },
  {
   "cell_type": "code",
   "execution_count": 4,
   "id": "bf84c094-24af-46ed-a62f-2343de7b8cf7",
   "metadata": {},
   "outputs": [],
   "source": [
    "import numpy as np\n",
    "import matplotlib.pyplot as plt\n",
    "import pandas as pd\n",
    "\n",
    "import scipy.stats as st\n",
    "\n",
    "from sklearn import datasets"
   ]
  },
  {
   "cell_type": "markdown",
   "id": "bdd031e3-8052-434c-ad69-820a24ea2b96",
   "metadata": {
    "tags": []
   },
   "source": [
    "# Тестване на Хипотези - демонстрации"
   ]
  },
  {
   "cell_type": "markdown",
   "id": "4eb8909f-2459-481d-a8c9-c10114f3fad5",
   "metadata": {},
   "source": [
    "## Heights"
   ]
  },
  {
   "cell_type": "code",
   "execution_count": 5,
   "id": "d9ca3caf-3618-47a3-8420-015abdbb1ab8",
   "metadata": {},
   "outputs": [],
   "source": [
    "heights = pd.read_csv(\"heights.csv\")"
   ]
  },
  {
   "cell_type": "code",
   "execution_count": 6,
   "id": "69cf31f7-4ad8-4ab7-a049-071a1529dffa",
   "metadata": {},
   "outputs": [
    {
     "data": {
      "text/html": [
       "<div>\n",
       "<style scoped>\n",
       "    .dataframe tbody tr th:only-of-type {\n",
       "        vertical-align: middle;\n",
       "    }\n",
       "\n",
       "    .dataframe tbody tr th {\n",
       "        vertical-align: top;\n",
       "    }\n",
       "\n",
       "    .dataframe thead th {\n",
       "        text-align: right;\n",
       "    }\n",
       "</style>\n",
       "<table border=\"1\" class=\"dataframe\">\n",
       "  <thead>\n",
       "    <tr style=\"text-align: right;\">\n",
       "      <th></th>\n",
       "      <th>Height</th>\n",
       "    </tr>\n",
       "  </thead>\n",
       "  <tbody>\n",
       "    <tr>\n",
       "      <th>0</th>\n",
       "      <td>156</td>\n",
       "    </tr>\n",
       "    <tr>\n",
       "      <th>1</th>\n",
       "      <td>163</td>\n",
       "    </tr>\n",
       "    <tr>\n",
       "      <th>2</th>\n",
       "      <td>169</td>\n",
       "    </tr>\n",
       "    <tr>\n",
       "      <th>3</th>\n",
       "      <td>161</td>\n",
       "    </tr>\n",
       "    <tr>\n",
       "      <th>4</th>\n",
       "      <td>154</td>\n",
       "    </tr>\n",
       "  </tbody>\n",
       "</table>\n",
       "</div>"
      ],
      "text/plain": [
       "   Height\n",
       "0     156\n",
       "1     163\n",
       "2     169\n",
       "3     161\n",
       "4     154"
      ]
     },
     "execution_count": 6,
     "metadata": {},
     "output_type": "execute_result"
    }
   ],
   "source": [
    "plt.hyst"
   ]
  },
  {
   "cell_type": "markdown",
   "id": "38d7d81a-41c5-4864-bea8-f2e08ace7054",
   "metadata": {},
   "source": [
    "## Grain"
   ]
  },
  {
   "cell_type": "markdown",
   "id": "740ec942-2546-4bdb-9f43-0ab2d6663324",
   "metadata": {},
   "source": [
    "Годишен добив на зърно от 2 ниви.\n",
    "\n",
    "Но: средният добив попринцип на двете ниви е равен.\n",
    "\n",
    "На: средния добив попринцип е различен.\n",
    "\n",
    "За да отхвърлим или неуспеем да отхвърлим Но правим измерване на извадка на добивите от 7 години: 1912 до 1918. На базата на данните от извадката правим заключение за попринцип."
   ]
  },
  {
   "cell_type": "code",
   "execution_count": 22,
   "id": "a75a34c2-2df3-4831-b65e-b807f5584284",
   "metadata": {},
   "outputs": [],
   "source": [
    "grain = pd.read_csv(\"grain_data.csv\", sep='\\t')"
   ]
  },
  {
   "cell_type": "code",
   "execution_count": 27,
   "id": "bef644dc-272c-4d86-9832-b53a9b2bc387",
   "metadata": {},
   "outputs": [
    {
     "data": {
      "text/html": [
       "<div>\n",
       "<style scoped>\n",
       "    .dataframe tbody tr th:only-of-type {\n",
       "        vertical-align: middle;\n",
       "    }\n",
       "\n",
       "    .dataframe tbody tr th {\n",
       "        vertical-align: top;\n",
       "    }\n",
       "\n",
       "    .dataframe thead th {\n",
       "        text-align: right;\n",
       "    }\n",
       "</style>\n",
       "<table border=\"1\" class=\"dataframe\">\n",
       "  <thead>\n",
       "    <tr style=\"text-align: right;\">\n",
       "      <th></th>\n",
       "      <th>Year</th>\n",
       "      <th>GreatNorthern</th>\n",
       "      <th>BigFour</th>\n",
       "    </tr>\n",
       "  </thead>\n",
       "  <tbody>\n",
       "    <tr>\n",
       "      <th>0</th>\n",
       "      <td>1912</td>\n",
       "      <td>71.0</td>\n",
       "      <td>54.7</td>\n",
       "    </tr>\n",
       "    <tr>\n",
       "      <th>1</th>\n",
       "      <td>1913</td>\n",
       "      <td>73.9</td>\n",
       "      <td>60.6</td>\n",
       "    </tr>\n",
       "    <tr>\n",
       "      <th>2</th>\n",
       "      <td>1914</td>\n",
       "      <td>48.9</td>\n",
       "      <td>45.1</td>\n",
       "    </tr>\n",
       "    <tr>\n",
       "      <th>3</th>\n",
       "      <td>1915</td>\n",
       "      <td>78.9</td>\n",
       "      <td>71.0</td>\n",
       "    </tr>\n",
       "    <tr>\n",
       "      <th>4</th>\n",
       "      <td>1916</td>\n",
       "      <td>43.5</td>\n",
       "      <td>40.9</td>\n",
       "    </tr>\n",
       "    <tr>\n",
       "      <th>5</th>\n",
       "      <td>1917</td>\n",
       "      <td>47.9</td>\n",
       "      <td>45.4</td>\n",
       "    </tr>\n",
       "    <tr>\n",
       "      <th>6</th>\n",
       "      <td>1918</td>\n",
       "      <td>63.0</td>\n",
       "      <td>53.4</td>\n",
       "    </tr>\n",
       "    <tr>\n",
       "      <th>7</th>\n",
       "      <td>1919</td>\n",
       "      <td>48.4</td>\n",
       "      <td>41.2</td>\n",
       "    </tr>\n",
       "    <tr>\n",
       "      <th>8</th>\n",
       "      <td>1920</td>\n",
       "      <td>48.1</td>\n",
       "      <td>44.8</td>\n",
       "    </tr>\n",
       "  </tbody>\n",
       "</table>\n",
       "</div>"
      ],
      "text/plain": [
       "   Year  GreatNorthern  BigFour\n",
       "0  1912           71.0     54.7\n",
       "1  1913           73.9     60.6\n",
       "2  1914           48.9     45.1\n",
       "3  1915           78.9     71.0\n",
       "4  1916           43.5     40.9\n",
       "5  1917           47.9     45.4\n",
       "6  1918           63.0     53.4\n",
       "7  1919           48.4     41.2\n",
       "8  1920           48.1     44.8"
      ]
     },
     "execution_count": 27,
     "metadata": {},
     "output_type": "execute_result"
    }
   ],
   "source": [
    "grain"
   ]
  },
  {
   "cell_type": "code",
   "execution_count": 24,
   "id": "13191709-9612-4a85-afd0-7f96abf589d8",
   "metadata": {},
   "outputs": [
    {
     "data": {
      "image/png": "[encoded data removed]",
      "text/plain": [
       "<Figure size 432x288 with 1 Axes>"
      ]
     },
     "metadata": {
      "needs_background": "light"
     },
     "output_type": "display_data"
    }
   ],
   "source": [
    "plt.hist(grain.GreatNorthern, bins = grain.GreatNorthern.size)\n",
    "plt.show()"
   ]
  },
  {
   "cell_type": "code",
   "execution_count": 25,
   "id": "42378d27-e036-476e-a7b5-c07b51ba31f3",
   "metadata": {},
   "outputs": [
    {
     "data": {
      "image/png": "[encoded data removed]",
      "text/plain": [
       "<Figure size 432x288 with 1 Axes>"
      ]
     },
     "metadata": {
      "needs_background": "light"
     },
     "output_type": "display_data"
    }
   ],
   "source": [
    "plt.hist(grain.BigFour, bins = grain.BigFour.size)\n",
    "plt.show()"
   ]
  },
  {
   "cell_type": "code",
   "execution_count": 26,
   "id": "788afba4-547b-4970-9c97-1e9a92088527",
   "metadata": {},
   "outputs": [
    {
     "data": {
      "text/html": [
       "<div>\n",
       "<style scoped>\n",
       "    .dataframe tbody tr th:only-of-type {\n",
       "        vertical-align: middle;\n",
       "    }\n",
       "\n",
       "    .dataframe tbody tr th {\n",
       "        vertical-align: top;\n",
       "    }\n",
       "\n",
       "    .dataframe thead th {\n",
       "        text-align: right;\n",
       "    }\n",
       "</style>\n",
       "<table border=\"1\" class=\"dataframe\">\n",
       "  <thead>\n",
       "    <tr style=\"text-align: right;\">\n",
       "      <th></th>\n",
       "      <th>count</th>\n",
       "      <th>mean</th>\n",
       "      <th>std</th>\n",
       "      <th>min</th>\n",
       "      <th>25%</th>\n",
       "      <th>50%</th>\n",
       "      <th>75%</th>\n",
       "      <th>max</th>\n",
       "    </tr>\n",
       "  </thead>\n",
       "  <tbody>\n",
       "    <tr>\n",
       "      <th>Year</th>\n",
       "      <td>9.0</td>\n",
       "      <td>1916.000000</td>\n",
       "      <td>2.738613</td>\n",
       "      <td>1912.0</td>\n",
       "      <td>1914.0</td>\n",
       "      <td>1916.0</td>\n",
       "      <td>1918.0</td>\n",
       "      <td>1920.0</td>\n",
       "    </tr>\n",
       "    <tr>\n",
       "      <th>GreatNorthern</th>\n",
       "      <td>9.0</td>\n",
       "      <td>58.177778</td>\n",
       "      <td>13.548872</td>\n",
       "      <td>43.5</td>\n",
       "      <td>48.1</td>\n",
       "      <td>48.9</td>\n",
       "      <td>71.0</td>\n",
       "      <td>78.9</td>\n",
       "    </tr>\n",
       "    <tr>\n",
       "      <th>BigFour</th>\n",
       "      <td>9.0</td>\n",
       "      <td>50.788889</td>\n",
       "      <td>10.086308</td>\n",
       "      <td>40.9</td>\n",
       "      <td>44.8</td>\n",
       "      <td>45.4</td>\n",
       "      <td>54.7</td>\n",
       "      <td>71.0</td>\n",
       "    </tr>\n",
       "  </tbody>\n",
       "</table>\n",
       "</div>"
      ],
      "text/plain": [
       "               count         mean        std     min     25%     50%     75%  \\\n",
       "Year             9.0  1916.000000   2.738613  1912.0  1914.0  1916.0  1918.0   \n",
       "GreatNorthern    9.0    58.177778  13.548872    43.5    48.1    48.9    71.0   \n",
       "BigFour          9.0    50.788889  10.086308    40.9    44.8    45.4    54.7   \n",
       "\n",
       "                  max  \n",
       "Year           1920.0  \n",
       "GreatNorthern    78.9  \n",
       "BigFour          71.0  "
      ]
     },
     "execution_count": 26,
     "metadata": {},
     "output_type": "execute_result"
    }
   ],
   "source": [
    "grain.describe().T"
   ]
  },
  {
   "cell_type": "code",
   "execution_count": 19,
   "id": "c5932cff-99dd-43a7-aa17-5f24c78c7766",
   "metadata": {},
   "outputs": [
    {
     "data": {
      "text/plain": [
       "Ttest_indResult(statistic=1.312336706487564, pvalue=0.20792200785311768)"
      ]
     },
     "execution_count": 19,
     "metadata": {},
     "output_type": "execute_result"
    }
   ],
   "source": [
    "st.ttest_ind(grain.GreatNorthern, grain.BigFour)"
   ]
  },
  {
   "cell_type": "markdown",
   "id": "2cc1122d-4359-463b-a444-c46401ddd56c",
   "metadata": {},
   "source": []
  },
  {
   "cell_type": "markdown",
   "id": "1be4f592-af3e-473b-b9b3-49f6201df98a",
   "metadata": {},
   "source": [
    "## Exploring Iris"
   ]
  },
  {
   "cell_type": "code",
   "execution_count": 52,
   "id": "942a4e7c-fa5d-469f-a0b5-af5c0646ed27",
   "metadata": {},
   "outputs": [],
   "source": [
    "iris_dataset = datasets.load_iris()"
   ]
  },
  {
   "cell_type": "code",
   "execution_count": 85,
   "id": "088a6d23-2274-4a38-bacf-35a04f39ea91",
   "metadata": {},
   "outputs": [
    {
     "data": {
      "text/plain": [
       "array(['setosa', 'versicolor', 'virginica'], dtype='<U10')"
      ]
     },
     "execution_count": 85,
     "metadata": {},
     "output_type": "execute_result"
    }
   ],
   "source": [
    "iris_dataset.target_names"
   ]
  },
  {
   "cell_type": "code",
   "execution_count": 79,
   "id": "24a8cf3b-0053-48d3-8b46-b891a8688aad",
   "metadata": {},
   "outputs": [],
   "source": [
    "data = iris_dataset.data\n",
    "columns = iris_dataset.feature_names\n",
    "target = iris_dataset.target\n",
    "\n",
    "data_and_target = np.concatenate((data, target.reshape((-1, 1))), axis = 1)"
   ]
  },
  {
   "cell_type": "code",
   "execution_count": 81,
   "id": "bc21d3e1-fac9-445c-9464-ed41bbd4509a",
   "metadata": {},
   "outputs": [],
   "source": [
    "iris = pd.DataFrame(data = data_and_target, columns=[*columns, 'target'])"
   ]
  },
  {
   "cell_type": "code",
   "execution_count": 82,
   "id": "8a670a33-ea61-4e17-a50a-0c329e4e6ec2",
   "metadata": {},
   "outputs": [
    {
     "data": {
      "text/html": [
       "<div>\n",
       "<style scoped>\n",
       "    .dataframe tbody tr th:only-of-type {\n",
       "        vertical-align: middle;\n",
       "    }\n",
       "\n",
       "    .dataframe tbody tr th {\n",
       "        vertical-align: top;\n",
       "    }\n",
       "\n",
       "    .dataframe thead th {\n",
       "        text-align: right;\n",
       "    }\n",
       "</style>\n",
       "<table border=\"1\" class=\"dataframe\">\n",
       "  <thead>\n",
       "    <tr style=\"text-align: right;\">\n",
       "      <th></th>\n",
       "      <th>sepal length (cm)</th>\n",
       "      <th>sepal width (cm)</th>\n",
       "      <th>petal length (cm)</th>\n",
       "      <th>petal width (cm)</th>\n",
       "      <th>target</th>\n",
       "    </tr>\n",
       "  </thead>\n",
       "  <tbody>\n",
       "    <tr>\n",
       "      <th>0</th>\n",
       "      <td>5.1</td>\n",
       "      <td>3.5</td>\n",
       "      <td>1.4</td>\n",
       "      <td>0.2</td>\n",
       "      <td>0.0</td>\n",
       "    </tr>\n",
       "    <tr>\n",
       "      <th>1</th>\n",
       "      <td>4.9</td>\n",
       "      <td>3.0</td>\n",
       "      <td>1.4</td>\n",
       "      <td>0.2</td>\n",
       "      <td>0.0</td>\n",
       "    </tr>\n",
       "    <tr>\n",
       "      <th>2</th>\n",
       "      <td>4.7</td>\n",
       "      <td>3.2</td>\n",
       "      <td>1.3</td>\n",
       "      <td>0.2</td>\n",
       "      <td>0.0</td>\n",
       "    </tr>\n",
       "    <tr>\n",
       "      <th>3</th>\n",
       "      <td>4.6</td>\n",
       "      <td>3.1</td>\n",
       "      <td>1.5</td>\n",
       "      <td>0.2</td>\n",
       "      <td>0.0</td>\n",
       "    </tr>\n",
       "    <tr>\n",
       "      <th>4</th>\n",
       "      <td>5.0</td>\n",
       "      <td>3.6</td>\n",
       "      <td>1.4</td>\n",
       "      <td>0.2</td>\n",
       "      <td>0.0</td>\n",
       "    </tr>\n",
       "    <tr>\n",
       "      <th>...</th>\n",
       "      <td>...</td>\n",
       "      <td>...</td>\n",
       "      <td>...</td>\n",
       "      <td>...</td>\n",
       "      <td>...</td>\n",
       "    </tr>\n",
       "    <tr>\n",
       "      <th>145</th>\n",
       "      <td>6.7</td>\n",
       "      <td>3.0</td>\n",
       "      <td>5.2</td>\n",
       "      <td>2.3</td>\n",
       "      <td>2.0</td>\n",
       "    </tr>\n",
       "    <tr>\n",
       "      <th>146</th>\n",
       "      <td>6.3</td>\n",
       "      <td>2.5</td>\n",
       "      <td>5.0</td>\n",
       "      <td>1.9</td>\n",
       "      <td>2.0</td>\n",
       "    </tr>\n",
       "    <tr>\n",
       "      <th>147</th>\n",
       "      <td>6.5</td>\n",
       "      <td>3.0</td>\n",
       "      <td>5.2</td>\n",
       "      <td>2.0</td>\n",
       "      <td>2.0</td>\n",
       "    </tr>\n",
       "    <tr>\n",
       "      <th>148</th>\n",
       "      <td>6.2</td>\n",
       "      <td>3.4</td>\n",
       "      <td>5.4</td>\n",
       "      <td>2.3</td>\n",
       "      <td>2.0</td>\n",
       "    </tr>\n",
       "    <tr>\n",
       "      <th>149</th>\n",
       "      <td>5.9</td>\n",
       "      <td>3.0</td>\n",
       "      <td>5.1</td>\n",
       "      <td>1.8</td>\n",
       "      <td>2.0</td>\n",
       "    </tr>\n",
       "  </tbody>\n",
       "</table>\n",
       "<p>150 rows × 5 columns</p>\n",
       "</div>"
      ],
      "text/plain": [
       "     sepal length (cm)  sepal width (cm)  petal length (cm)  petal width (cm)  \\\n",
       "0                  5.1               3.5                1.4               0.2   \n",
       "1                  4.9               3.0                1.4               0.2   \n",
       "2                  4.7               3.2                1.3               0.2   \n",
       "3                  4.6               3.1                1.5               0.2   \n",
       "4                  5.0               3.6                1.4               0.2   \n",
       "..                 ...               ...                ...               ...   \n",
       "145                6.7               3.0                5.2               2.3   \n",
       "146                6.3               2.5                5.0               1.9   \n",
       "147                6.5               3.0                5.2               2.0   \n",
       "148                6.2               3.4                5.4               2.3   \n",
       "149                5.9               3.0                5.1               1.8   \n",
       "\n",
       "     target  \n",
       "0       0.0  \n",
       "1       0.0  \n",
       "2       0.0  \n",
       "3       0.0  \n",
       "4       0.0  \n",
       "..      ...  \n",
       "145     2.0  \n",
       "146     2.0  \n",
       "147     2.0  \n",
       "148     2.0  \n",
       "149     2.0  \n",
       "\n",
       "[150 rows x 5 columns]"
      ]
     },
     "execution_count": 82,
     "metadata": {},
     "output_type": "execute_result"
    }
   ],
   "source": [
    "iris"
   ]
  },
  {
   "cell_type": "markdown",
   "id": "dc4ff297-bdc1-41d5-a6e2-a95618a82580",
   "metadata": {},
   "source": [
    "$H_0$: $\\mu_\\text{sepal length, setosa} = \\mu_\\text{sepal length, versicolor}$\n",
    "The mean sepal len for the first two iris species is equal.\n",
    "\n",
    "$H_1$: $\\mu_\\text{sepal length, setosa} \\neq \\mu_\\text{sepal length, versicolor}$\n",
    "The mean sepal len for the first two iris species is different.\n"
   ]
  },
  {
   "cell_type": "code",
   "execution_count": 90,
   "id": "c9fd8bc3-3108-4bb3-bb9e-943cf2562d3d",
   "metadata": {},
   "outputs": [
    {
     "data": {
      "text/plain": [
       "Ttest_indResult(statistic=-10.52098626754911, pvalue=8.985235037487077e-18)"
      ]
     },
     "execution_count": 90,
     "metadata": {},
     "output_type": "execute_result"
    }
   ],
   "source": [
    "a = iris[iris.target == 0]['sepal length (cm)']\n",
    "b = iris[iris.target == 1]['sepal length (cm)']\n",
    "st.ttest_ind(a, b)"
   ]
  },
  {
   "cell_type": "code",
   "execution_count": 92,
   "id": "b687124a-7658-4b8d-ad22-6e248f9f1b11",
   "metadata": {},
   "outputs": [
    {
     "data": {
      "text/plain": [
       "Ttest_indResult(statistic=-15.386195820079404, pvalue=6.892546060674059e-28)"
      ]
     },
     "execution_count": 92,
     "metadata": {},
     "output_type": "execute_result"
    }
   ],
   "source": [
    "a = iris[iris.target == 0]['sepal length (cm)']\n",
    "b = iris[iris.target == 2]['sepal length (cm)']\n",
    "st.ttest_ind(a, b)"
   ]
  },
  {
   "cell_type": "code",
   "execution_count": 97,
   "id": "0dbdd1de-26ec-40c8-9b0e-61488cb85294",
   "metadata": {},
   "outputs": [
    {
     "data": {
      "text/plain": [
       "1.7248563024547942e-07"
      ]
     },
     "execution_count": 97,
     "metadata": {},
     "output_type": "execute_result"
    }
   ],
   "source": [
    "a = iris[iris.target == 1]['sepal length (cm)']\n",
    "b = iris[iris.target == 2]['sepal length (cm)']\n",
    "st.ttest_ind(a, b).pvalue"
   ]
  },
  {
   "cell_type": "code",
   "execution_count": 100,
   "id": "1b054981-438e-411b-8e7a-bea24d4a2308",
   "metadata": {},
   "outputs": [],
   "source": [
    "iris['sepal_area'] = iris[\"sepal length (cm)\"] * iris[\"sepal width (cm)\"]"
   ]
  },
  {
   "cell_type": "code",
   "execution_count": 101,
   "id": "4cab82db-6aed-47c7-ab2c-4c339ec24b68",
   "metadata": {},
   "outputs": [
    {
     "name": "stdout",
     "output_type": "stream",
     "text": [
      "setosa and versicolor: p value = 0.2102478072252654\n",
      "setosa and virginica: p value = 0.00026621177924123103\n",
      "versicolor and virginica: p value = 2.829632841905837e-06\n"
     ]
    }
   ],
   "source": [
    "for i, j in [(0, 1), (0, 2), (1, 2)]:\n",
    "    a = iris[iris.target == i]['sepal_area']\n",
    "    b = iris[iris.target == j]['sepal_area']\n",
    "    p_value = st.ttest_ind(a, b).pvalue\n",
    "    print(f'{iris_dataset.target_names[i]} and {iris_dataset.target_names[j]}: p value = {p_value}')"
   ]
  },
  {
   "cell_type": "code",
   "execution_count": null,
   "id": "d05d285b-4389-4fb1-a1e3-fed6d077ebed",
   "metadata": {},
   "outputs": [],
   "source": []
  },
  {
   "cell_type": "code",
   "execution_count": null,
   "id": "b765c13f-6c00-430b-96ee-5fe65b5f8b67",
   "metadata": {},
   "outputs": [],
   "source": []
  },
  {
   "cell_type": "code",
   "execution_count": null,
   "id": "ad2e0bda-695e-438a-b3b5-198594a104a0",
   "metadata": {},
   "outputs": [],
   "source": []
  },
  {
   "cell_type": "markdown",
   "id": "b15feb0b-3856-47bf-ab83-4c6d97f023ef",
   "metadata": {},
   "source": [
    "## Light bulbs"
   ]
  },
  {
   "cell_type": "code",
   "execution_count": 30,
   "id": "917ae0e2-9eef-4a31-b220-e4fb1ae210ca",
   "metadata": {},
   "outputs": [],
   "source": [
    "x = np.linspace(350, 650, 1000)\n",
    "pdf = st.norm.pdf(x, loc=500, scale=50)"
   ]
  },
  {
   "cell_type": "code",
   "execution_count": 31,
   "id": "ed96ea3c-1620-4239-bef3-f3882f0b7e07",
   "metadata": {},
   "outputs": [
    {
     "data": {
      "image/png": "[encoded data removed]",
      "text/plain": [
       "<Figure size 432x288 with 1 Axes>"
      ]
     },
     "metadata": {
      "needs_background": "light"
     },
     "output_type": "display_data"
    }
   ],
   "source": [
    "plt.plot(x, pdf)\n",
    "plt.axvline(480, c='red')\n",
    "plt.show()"
   ]
  },
  {
   "cell_type": "code",
   "execution_count": 32,
   "id": "4c8fe267-9b96-4146-882f-daa4212e1cda",
   "metadata": {},
   "outputs": [],
   "source": [
    "# PDF of the distribution of means of samples with n=25\n",
    "pdf_of_sample_means = st.norm.pdf(x, loc=500, scale=50/np.sqrt(25))"
   ]
  },
  {
   "cell_type": "code",
   "execution_count": 36,
   "id": "72bc62f6-c714-493a-9cb9-b7232e8d2d90",
   "metadata": {},
   "outputs": [
    {
     "data": {
      "image/png": "[encoded data removed]",
      "text/plain": [
       "<Figure size 1080x648 with 1 Axes>"
      ]
     },
     "metadata": {
      "needs_background": "light"
     },
     "output_type": "display_data"
    }
   ],
   "source": [
    "plt.figure(figsize=(15, 9))\n",
    "plt.plot(x, pdf, label=\"Разпределение на живота на крушките на популацията им\")\n",
    "plt.plot(x, pdf_of_sample_means, label=\"разпределение на СРЕДНИТЕ стйности на ИЗВАДКИ с n=25\")\n",
    "\n",
    "plt.axvline(480, c='red')\n",
    "plt.xlim((400, 600))\n",
    "plt.legend()\n",
    "plt.show()"
   ]
  },
  {
   "cell_type": "code",
   "execution_count": 37,
   "id": "dd8d7fee-4aa5-4137-ac0a-5efb885b6440",
   "metadata": {},
   "outputs": [
    {
     "data": {
      "text/plain": [
       "0.022750131948179195"
      ]
     },
     "execution_count": 37,
     "metadata": {},
     "output_type": "execute_result"
    }
   ],
   "source": [
    "st.norm.cdf(480, loc=500, scale=50/np.sqrt(25))"
   ]
  },
  {
   "cell_type": "code",
   "execution_count": 40,
   "id": "12491ceb-081e-4f37-9ff3-082356209de1",
   "metadata": {},
   "outputs": [
    {
     "data": {
      "text/plain": [
       "-2.0"
      ]
     },
     "execution_count": 40,
     "metadata": {},
     "output_type": "execute_result"
    }
   ],
   "source": [
    "Z = (480 - 500) / (50 / np.sqrt(25))\n",
    "Z"
   ]
  },
  {
   "cell_type": "code",
   "execution_count": null,
   "id": "86d3e80b-8843-4535-8fdd-03a5b2b34573",
   "metadata": {},
   "outputs": [],
   "source": []
  },
  {
   "cell_type": "code",
   "execution_count": 11,
   "id": "b182b33f-9b0a-405b-a4b5-8a44b26d1edc",
   "metadata": {},
   "outputs": [],
   "source": [
    "dice_roll = np.random.randint(1,7,size = (25))"
   ]
  },
  {
   "cell_type": "code",
   "execution_count": 12,
   "id": "c204167f-5498-489d-a3e9-8aecf87a390e",
   "metadata": {},
   "outputs": [
    {
     "data": {
      "text/plain": [
       "[1, 1, 1, 1, 1, 2, 2, 2, 2, 2, 3, 3, 3, 4, 4, 4, 4, 4, 5, 5, 5, 5, 5, 6, 6]"
      ]
     },
     "execution_count": 12,
     "metadata": {},
     "output_type": "execute_result"
    }
   ],
   "source": [
    "sorted(dice_roll)"
   ]
  },
  {
   "cell_type": "code",
   "execution_count": 13,
   "id": "b964f887-0a8e-46ff-82e9-853b1b54f8f9",
   "metadata": {},
   "outputs": [
    {
     "data": {
      "text/plain": [
       "array([40.60256863, 12.51723809, 16.58133015,  9.95858721, 67.30967174,\n",
       "       46.54867689, 59.95356295, 63.91866304, 40.19979972, 96.32878211,\n",
       "        0.29409957, 14.08631449, 72.61829575, 77.76166416, 13.00568877,\n",
       "       19.38125014, 86.64534039,  7.98283812, 82.42102166, 93.95538493])"
      ]
     },
     "execution_count": 13,
     "metadata": {},
     "output_type": "execute_result"
    }
   ],
   "source": [
    "np.random.rand(20)*100"
   ]
  },
  {
   "cell_type": "code",
   "execution_count": null,
   "id": "c013f83e-da16-421f-9c54-a2422423aba1",
   "metadata": {},
   "outputs": [],
   "source": []
  },
  {
   "cell_type": "markdown",
   "id": "9cdab70c-b205-4d29-a6d9-42afcacd954f",
   "metadata": {},
   "source": [
    "## Доварителен интервал\n",
    "Какъв доварителен интервал мога да дам за доварително ниво 95%?"
   ]
  },
  {
   "cell_type": "code",
   "execution_count": 3,
   "id": "5be45bb7-6d26-4eba-b196-5fd24b6e0942",
   "metadata": {},
   "outputs": [
    {
     "data": {
      "text/html": [
       "<div>\n",
       "<style scoped>\n",
       "    .dataframe tbody tr th:only-of-type {\n",
       "        vertical-align: middle;\n",
       "    }\n",
       "\n",
       "    .dataframe tbody tr th {\n",
       "        vertical-align: top;\n",
       "    }\n",
       "\n",
       "    .dataframe thead th {\n",
       "        text-align: right;\n",
       "    }\n",
       "</style>\n",
       "<table border=\"1\" class=\"dataframe\">\n",
       "  <thead>\n",
       "    <tr style=\"text-align: right;\">\n",
       "      <th></th>\n",
       "      <th>Height</th>\n",
       "    </tr>\n",
       "  </thead>\n",
       "  <tbody>\n",
       "    <tr>\n",
       "      <th>0</th>\n",
       "      <td>156</td>\n",
       "    </tr>\n",
       "    <tr>\n",
       "      <th>1</th>\n",
       "      <td>163</td>\n",
       "    </tr>\n",
       "    <tr>\n",
       "      <th>2</th>\n",
       "      <td>169</td>\n",
       "    </tr>\n",
       "    <tr>\n",
       "      <th>3</th>\n",
       "      <td>161</td>\n",
       "    </tr>\n",
       "    <tr>\n",
       "      <th>4</th>\n",
       "      <td>154</td>\n",
       "    </tr>\n",
       "    <tr>\n",
       "      <th>...</th>\n",
       "      <td>...</td>\n",
       "    </tr>\n",
       "    <tr>\n",
       "      <th>346</th>\n",
       "      <td>159</td>\n",
       "    </tr>\n",
       "    <tr>\n",
       "      <th>347</th>\n",
       "      <td>170</td>\n",
       "    </tr>\n",
       "    <tr>\n",
       "      <th>348</th>\n",
       "      <td>160</td>\n",
       "    </tr>\n",
       "    <tr>\n",
       "      <th>349</th>\n",
       "      <td>152</td>\n",
       "    </tr>\n",
       "    <tr>\n",
       "      <th>350</th>\n",
       "      <td>153</td>\n",
       "    </tr>\n",
       "  </tbody>\n",
       "</table>\n",
       "<p>351 rows × 1 columns</p>\n",
       "</div>"
      ],
      "text/plain": [
       "     Height\n",
       "0       156\n",
       "1       163\n",
       "2       169\n",
       "3       161\n",
       "4       154\n",
       "..      ...\n",
       "346     159\n",
       "347     170\n",
       "348     160\n",
       "349     152\n",
       "350     153\n",
       "\n",
       "[351 rows x 1 columns]"
      ]
     },
     "execution_count": 3,
     "metadata": {},
     "output_type": "execute_result"
    }
   ],
   "source": [
    "heights = pd.read_csv('heights.csv')\n",
    "heights"
   ]
  },
  {
   "cell_type": "code",
   "execution_count": 10,
   "id": "3bffaf47-68cb-4db4-813d-6ec4f8031ea6",
   "metadata": {},
   "outputs": [
    {
     "data": {
      "image/png": "[encoded data removed]",
      "text/plain": [
       "<Figure size 432x288 with 1 Axes>"
      ]
     },
     "metadata": {
      "needs_background": "light"
     },
     "output_type": "display_data"
    }
   ],
   "source": [
    "plt.hist(heights, bins=30)\n",
    "plt.show()"
   ]
  },
  {
   "cell_type": "code",
   "execution_count": 11,
   "id": "601f06a2-3218-4ae0-88a6-bf864dc14c57",
   "metadata": {},
   "outputs": [
    {
     "data": {
      "text/plain": [
       "0.032272782138318024"
      ]
     },
     "execution_count": 11,
     "metadata": {},
     "output_type": "execute_result"
    }
   ],
   "source": [
    "st.norm.pdf(167, loc=heights.Height.mean(), scale=heights.Height.std())"
   ]
  },
  {
   "cell_type": "code",
   "execution_count": 9,
   "id": "3e2e5368-e114-4cda-9773-6e203a41e92b",
   "metadata": {},
   "outputs": [
    {
     "data": {
      "image/png": "[encoded data removed]",
      "text/plain": [
       "<Figure size 432x288 with 1 Axes>"
      ]
     },
     "metadata": {
      "needs_background": "light"
     },
     "output_type": "display_data"
    }
   ],
   "source": [
    "confidence_interal = 0.95\n",
    "# st.norm.pdf(167, loc=heights.Height.mean(), scale=heights.Height.std())\n",
    "x = np.linspace(130, 200, 1000)\n",
    "y = st.norm.pdf(x, loc=heights.Height.mean(), scale=heights.Height.std())\n",
    "plt.plot(x,y)\n",
    "plt.show()"
   ]
  },
  {
   "cell_type": "code",
   "execution_count": 12,
   "id": "d147a1b6-2093-45db-8fb6-64a651c451b7",
   "metadata": {},
   "outputs": [],
   "source": [
    "Z = (heights.Height - heights.Height.mean()) / heights.Height.std()"
   ]
  },
  {
   "cell_type": "code",
   "execution_count": 13,
   "id": "fb1ee807-d744-4e70-b99e-3ee1c6b4eb89",
   "metadata": {},
   "outputs": [
    {
     "data": {
      "text/plain": [
       "0     -0.626052\n",
       "1      0.534861\n",
       "2      1.529928\n",
       "3      0.203171\n",
       "4     -0.957741\n",
       "         ...   \n",
       "346   -0.128518\n",
       "347    1.695773\n",
       "348    0.037327\n",
       "349   -1.289430\n",
       "350   -1.123585\n",
       "Name: Height, Length: 351, dtype: float64"
      ]
     },
     "execution_count": 13,
     "metadata": {},
     "output_type": "execute_result"
    }
   ],
   "source": [
    "Z"
   ]
  },
  {
   "cell_type": "code",
   "execution_count": 15,
   "id": "9c7e25b4-5fd7-483b-9a57-9db261baf19e",
   "metadata": {},
   "outputs": [
    {
     "data": {
      "image/png": "[encoded data removed]",
      "text/plain": [
       "<Figure size 432x288 with 1 Axes>"
      ]
     },
     "metadata": {
      "needs_background": "light"
     },
     "output_type": "display_data"
    }
   ],
   "source": [
    "plt.hist(Z, bins=30)\n",
    "plt.show()"
   ]
  },
  {
   "cell_type": "code",
   "execution_count": 14,
   "id": "ed5cdb7e-f2aa-49fb-a579-45e5aa476828",
   "metadata": {},
   "outputs": [
    {
     "data": {
      "image/png": "[encoded data removed]",
      "text/plain": [
       "<Figure size 432x288 with 1 Axes>"
      ]
     },
     "metadata": {
      "needs_background": "light"
     },
     "output_type": "display_data"
    }
   ],
   "source": [
    "x = np.linspace(-3, 3, 1000)\n",
    "y = 100 * st.norm.pdf(x)\n",
    "plt.plot(x,y)\n",
    "plt.hist(Z, bins=20)\n",
    "plt.show()"
   ]
  },
  {
   "cell_type": "code",
   "execution_count": 19,
   "id": "24043905-a5f3-4c50-8675-a7e60cd4f754",
   "metadata": {},
   "outputs": [
    {
     "data": {
      "image/png": "[encoded data removed]",
      "text/plain": [
       "<Figure size 432x288 with 1 Axes>"
      ]
     },
     "metadata": {
      "needs_background": "light"
     },
     "output_type": "display_data"
    }
   ],
   "source": [
    "plt.hist(heights, bins=20)\n",
    "plt.show()"
   ]
  }
 ],
 "metadata": {
  "kernelspec": {
   "display_name": "Python 3 (ipykernel)",
   "language": "python",
   "name": "python3"
  },
  "language_info": {
   "codemirror_mode": {
    "name": "ipython",
    "version": 3
   },
   "file_extension": ".py",
   "mimetype": "text/x-python",
   "name": "python",
   "nbconvert_exporter": "python",
   "pygments_lexer": "ipython3",
   "version": "3.8.13"
  }
 },
 "nbformat": 4,
 "nbformat_minor": 5
}
