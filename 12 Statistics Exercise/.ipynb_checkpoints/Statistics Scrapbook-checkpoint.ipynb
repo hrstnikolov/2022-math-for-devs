{
 "cells": [
  {
   "cell_type": "code",
   "execution_count": 1,
   "id": "816d1dae-3da4-49e6-a632-3fd3e4808cd7",
   "metadata": {
    "tags": []
   },
   "outputs": [],
   "source": [
    "%matplotlib inline"
   ]
  },
  {
   "cell_type": "code",
   "execution_count": 3,
   "id": "27755e91-249f-4042-a477-bc520916f628",
   "metadata": {
    "tags": []
   },
   "outputs": [],
   "source": [
    "import numpy as np\n",
    "import matplotlib.pyplot as plt\n",
    "import pandas as pd"
   ]
  },
  {
   "cell_type": "markdown",
   "id": "7375b222-e21f-485a-832b-85562fb982b3",
   "metadata": {},
   "source": [
    "# Statistics Scrapbook"
   ]
  },
  {
   "cell_type": "markdown",
   "id": "0a1117e7-1060-4544-a888-9090ca649fb9",
   "metadata": {},
   "source": [
    "## Covariation"
   ]
  },
  {
   "cell_type": "code",
   "execution_count": 25,
   "id": "73b53fd1-f2bb-43f9-8c46-dda6f8e42d5c",
   "metadata": {},
   "outputs": [
    {
     "data": {
      "image/png": "[encoded data removed]",
      "text/plain": [
       "<Figure size 432x288 with 1 Axes>"
      ]
     },
     "metadata": {
      "needs_background": "light"
     },
     "output_type": "display_data"
    }
   ],
   "source": [
    "df = pd.read_table(\"alcohol_tobacco.dat\")\n",
    "alcohol = df['Alcohol']\n",
    "tobacco = df['Tobacco']\n",
    "\n",
    "plt.scatter(alhocol, tobacco)\n",
    "plt.xlabel('Alcohol')\n",
    "plt.ylabel('Tobacco')\n",
    "plt.title('Weekly spendings per family in pounds')\n",
    "plt.show()"
   ]
  },
  {
   "cell_type": "code",
   "execution_count": 56,
   "id": "6b302df9-5dbf-4a50-b26e-78a8e242bbff",
   "metadata": {},
   "outputs": [
    {
     "name": "stdout",
     "output_type": "stream",
     "text": [
      "alcohol_mean: 5.443636363636363, tobacco_mean: 3.6181818181818186\n"
     ]
    },
    {
     "data": {
      "text/html": [
       "<div>\n",
       "<style scoped>\n",
       "    .dataframe tbody tr th:only-of-type {\n",
       "        vertical-align: middle;\n",
       "    }\n",
       "\n",
       "    .dataframe tbody tr th {\n",
       "        vertical-align: top;\n",
       "    }\n",
       "\n",
       "    .dataframe thead th {\n",
       "        text-align: right;\n",
       "    }\n",
       "</style>\n",
       "<table border=\"1\" class=\"dataframe\">\n",
       "  <thead>\n",
       "    <tr style=\"text-align: right;\">\n",
       "      <th></th>\n",
       "      <th>Region</th>\n",
       "      <th>Alcohol</th>\n",
       "      <th>Tobacco</th>\n",
       "      <th>Alcohol Centered</th>\n",
       "      <th>Tobacco Centered</th>\n",
       "    </tr>\n",
       "  </thead>\n",
       "  <tbody>\n",
       "    <tr>\n",
       "      <th>0</th>\n",
       "      <td>North</td>\n",
       "      <td>6.47</td>\n",
       "      <td>4.03</td>\n",
       "      <td>1.026364</td>\n",
       "      <td>0.411818</td>\n",
       "    </tr>\n",
       "    <tr>\n",
       "      <th>1</th>\n",
       "      <td>Yorkshire</td>\n",
       "      <td>6.13</td>\n",
       "      <td>3.76</td>\n",
       "      <td>0.686364</td>\n",
       "      <td>0.141818</td>\n",
       "    </tr>\n",
       "    <tr>\n",
       "      <th>2</th>\n",
       "      <td>Northeast</td>\n",
       "      <td>6.19</td>\n",
       "      <td>3.77</td>\n",
       "      <td>0.746364</td>\n",
       "      <td>0.151818</td>\n",
       "    </tr>\n",
       "    <tr>\n",
       "      <th>3</th>\n",
       "      <td>East Midlands</td>\n",
       "      <td>4.89</td>\n",
       "      <td>3.34</td>\n",
       "      <td>-0.553636</td>\n",
       "      <td>-0.278182</td>\n",
       "    </tr>\n",
       "    <tr>\n",
       "      <th>4</th>\n",
       "      <td>West Midlands</td>\n",
       "      <td>5.63</td>\n",
       "      <td>3.47</td>\n",
       "      <td>0.186364</td>\n",
       "      <td>-0.148182</td>\n",
       "    </tr>\n",
       "    <tr>\n",
       "      <th>5</th>\n",
       "      <td>East Anglia</td>\n",
       "      <td>4.52</td>\n",
       "      <td>2.92</td>\n",
       "      <td>-0.923636</td>\n",
       "      <td>-0.698182</td>\n",
       "    </tr>\n",
       "    <tr>\n",
       "      <th>6</th>\n",
       "      <td>Southeast</td>\n",
       "      <td>5.89</td>\n",
       "      <td>3.20</td>\n",
       "      <td>0.446364</td>\n",
       "      <td>-0.418182</td>\n",
       "    </tr>\n",
       "    <tr>\n",
       "      <th>7</th>\n",
       "      <td>Southwest</td>\n",
       "      <td>4.79</td>\n",
       "      <td>2.71</td>\n",
       "      <td>-0.653636</td>\n",
       "      <td>-0.908182</td>\n",
       "    </tr>\n",
       "    <tr>\n",
       "      <th>8</th>\n",
       "      <td>Wales</td>\n",
       "      <td>5.27</td>\n",
       "      <td>3.53</td>\n",
       "      <td>-0.173636</td>\n",
       "      <td>-0.088182</td>\n",
       "    </tr>\n",
       "    <tr>\n",
       "      <th>9</th>\n",
       "      <td>Scotland</td>\n",
       "      <td>6.08</td>\n",
       "      <td>4.51</td>\n",
       "      <td>0.636364</td>\n",
       "      <td>0.891818</td>\n",
       "    </tr>\n",
       "    <tr>\n",
       "      <th>10</th>\n",
       "      <td>Northern Ireland</td>\n",
       "      <td>4.02</td>\n",
       "      <td>4.56</td>\n",
       "      <td>-1.423636</td>\n",
       "      <td>0.941818</td>\n",
       "    </tr>\n",
       "  </tbody>\n",
       "</table>\n",
       "</div>"
      ],
      "text/plain": [
       "              Region  Alcohol  Tobacco  Alcohol Centered  Tobacco Centered\n",
       "0              North     6.47     4.03          1.026364          0.411818\n",
       "1          Yorkshire     6.13     3.76          0.686364          0.141818\n",
       "2          Northeast     6.19     3.77          0.746364          0.151818\n",
       "3      East Midlands     4.89     3.34         -0.553636         -0.278182\n",
       "4      West Midlands     5.63     3.47          0.186364         -0.148182\n",
       "5        East Anglia     4.52     2.92         -0.923636         -0.698182\n",
       "6          Southeast     5.89     3.20          0.446364         -0.418182\n",
       "7          Southwest     4.79     2.71         -0.653636         -0.908182\n",
       "8              Wales     5.27     3.53         -0.173636         -0.088182\n",
       "9           Scotland     6.08     4.51          0.636364          0.891818\n",
       "10  Northern Ireland     4.02     4.56         -1.423636          0.941818"
      ]
     },
     "execution_count": 56,
     "metadata": {},
     "output_type": "execute_result"
    }
   ],
   "source": [
    "alcohol_mean = alcohol.mean()\n",
    "df[\"Alcohol Centered\"] = alcohol - alcohol_mean\n",
    "tobacco_mean = tobacco.mean()\n",
    "df[\"Tobacco Centered\"] = tobacco - tobacco_mean\n",
    "print(f'alcohol_mean: {alcohol_mean}, tobacco_mean: {tobacco_mean}')\n",
    "df"
   ]
  },
  {
   "cell_type": "code",
   "execution_count": 50,
   "id": "0465665a-ed0f-4d54-9e59-4eee1258bde9",
   "metadata": {},
   "outputs": [
    {
     "data": {
      "image/png": "[encoded data removed]",
      "text/plain": [
       "<Figure size 432x288 with 1 Axes>"
      ]
     },
     "metadata": {
      "needs_background": "light"
     },
     "output_type": "display_data"
    }
   ],
   "source": [
    "plt.scatter(alhocol, tobacco)\n",
    "plt.axvline(alcohol_mean)\n",
    "plt.axhline(tobacco_mean)\n",
    "plt.show()"
   ]
  },
  {
   "cell_type": "code",
   "execution_count": 54,
   "id": "66618e6a-cb2c-4999-81c9-2fe67d38bf87",
   "metadata": {},
   "outputs": [
    {
     "data": {
      "image/png": "[encoded data removed]",
      "text/plain": [
       "<Figure size 432x288 with 1 Axes>"
      ]
     },
     "metadata": {
      "needs_background": "light"
     },
     "output_type": "display_data"
    }
   ],
   "source": [
    "plt.scatter(alhocol, tobacco, alpha=0.5)\n",
    "plt.axvline(alcohol_mean, alpha=0.5)\n",
    "plt.axhline(tobacco_mean, alpha=0.5)\n",
    "\n",
    "\n",
    "plt.scatter(df[\"Alcohol Centered\"], df[\"Tobacco Centered\"],c='b')\n",
    "plt.axvline()\n",
    "plt.axhline()\n",
    "\n",
    "plt.xlabel('Alcohol')\n",
    "plt.ylabel('Tobacco')\n",
    "plt.title('Weekly spendings per family in pounds')\n",
    "plt.show()"
   ]
  },
  {
   "cell_type": "code",
   "execution_count": 59,
   "id": "ee26723f-1d36-4ad9-9f11-0824286646eb",
   "metadata": {},
   "outputs": [
    {
     "data": {
      "text/html": [
       "<div>\n",
       "<style scoped>\n",
       "    .dataframe tbody tr th:only-of-type {\n",
       "        vertical-align: middle;\n",
       "    }\n",
       "\n",
       "    .dataframe tbody tr th {\n",
       "        vertical-align: top;\n",
       "    }\n",
       "\n",
       "    .dataframe thead th {\n",
       "        text-align: right;\n",
       "    }\n",
       "</style>\n",
       "<table border=\"1\" class=\"dataframe\">\n",
       "  <thead>\n",
       "    <tr style=\"text-align: right;\">\n",
       "      <th></th>\n",
       "      <th>Region</th>\n",
       "      <th>Alcohol</th>\n",
       "      <th>Tobacco</th>\n",
       "      <th>Alcohol Centered</th>\n",
       "      <th>Tobacco Centered</th>\n",
       "      <th>covariation</th>\n",
       "      <th>covariation_values</th>\n",
       "    </tr>\n",
       "  </thead>\n",
       "  <tbody>\n",
       "    <tr>\n",
       "      <th>0</th>\n",
       "      <td>North</td>\n",
       "      <td>6.47</td>\n",
       "      <td>4.03</td>\n",
       "      <td>1.026364</td>\n",
       "      <td>0.411818</td>\n",
       "      <td>0.422675</td>\n",
       "      <td>0.422675</td>\n",
       "    </tr>\n",
       "    <tr>\n",
       "      <th>1</th>\n",
       "      <td>Yorkshire</td>\n",
       "      <td>6.13</td>\n",
       "      <td>3.76</td>\n",
       "      <td>0.686364</td>\n",
       "      <td>0.141818</td>\n",
       "      <td>0.097339</td>\n",
       "      <td>0.097339</td>\n",
       "    </tr>\n",
       "    <tr>\n",
       "      <th>2</th>\n",
       "      <td>Northeast</td>\n",
       "      <td>6.19</td>\n",
       "      <td>3.77</td>\n",
       "      <td>0.746364</td>\n",
       "      <td>0.151818</td>\n",
       "      <td>0.113312</td>\n",
       "      <td>0.113312</td>\n",
       "    </tr>\n",
       "    <tr>\n",
       "      <th>3</th>\n",
       "      <td>East Midlands</td>\n",
       "      <td>4.89</td>\n",
       "      <td>3.34</td>\n",
       "      <td>-0.553636</td>\n",
       "      <td>-0.278182</td>\n",
       "      <td>0.154012</td>\n",
       "      <td>0.154012</td>\n",
       "    </tr>\n",
       "    <tr>\n",
       "      <th>4</th>\n",
       "      <td>West Midlands</td>\n",
       "      <td>5.63</td>\n",
       "      <td>3.47</td>\n",
       "      <td>0.186364</td>\n",
       "      <td>-0.148182</td>\n",
       "      <td>-0.027616</td>\n",
       "      <td>-0.027616</td>\n",
       "    </tr>\n",
       "    <tr>\n",
       "      <th>5</th>\n",
       "      <td>East Anglia</td>\n",
       "      <td>4.52</td>\n",
       "      <td>2.92</td>\n",
       "      <td>-0.923636</td>\n",
       "      <td>-0.698182</td>\n",
       "      <td>0.644866</td>\n",
       "      <td>0.644866</td>\n",
       "    </tr>\n",
       "    <tr>\n",
       "      <th>6</th>\n",
       "      <td>Southeast</td>\n",
       "      <td>5.89</td>\n",
       "      <td>3.20</td>\n",
       "      <td>0.446364</td>\n",
       "      <td>-0.418182</td>\n",
       "      <td>-0.186661</td>\n",
       "      <td>-0.186661</td>\n",
       "    </tr>\n",
       "    <tr>\n",
       "      <th>7</th>\n",
       "      <td>Southwest</td>\n",
       "      <td>4.79</td>\n",
       "      <td>2.71</td>\n",
       "      <td>-0.653636</td>\n",
       "      <td>-0.908182</td>\n",
       "      <td>0.593621</td>\n",
       "      <td>0.593621</td>\n",
       "    </tr>\n",
       "    <tr>\n",
       "      <th>8</th>\n",
       "      <td>Wales</td>\n",
       "      <td>5.27</td>\n",
       "      <td>3.53</td>\n",
       "      <td>-0.173636</td>\n",
       "      <td>-0.088182</td>\n",
       "      <td>0.015312</td>\n",
       "      <td>0.015312</td>\n",
       "    </tr>\n",
       "    <tr>\n",
       "      <th>9</th>\n",
       "      <td>Scotland</td>\n",
       "      <td>6.08</td>\n",
       "      <td>4.51</td>\n",
       "      <td>0.636364</td>\n",
       "      <td>0.891818</td>\n",
       "      <td>0.567521</td>\n",
       "      <td>0.567521</td>\n",
       "    </tr>\n",
       "    <tr>\n",
       "      <th>10</th>\n",
       "      <td>Northern Ireland</td>\n",
       "      <td>4.02</td>\n",
       "      <td>4.56</td>\n",
       "      <td>-1.423636</td>\n",
       "      <td>0.941818</td>\n",
       "      <td>-1.340807</td>\n",
       "      <td>-1.340807</td>\n",
       "    </tr>\n",
       "  </tbody>\n",
       "</table>\n",
       "</div>"
      ],
      "text/plain": [
       "              Region  Alcohol  Tobacco  Alcohol Centered  Tobacco Centered  \\\n",
       "0              North     6.47     4.03          1.026364          0.411818   \n",
       "1          Yorkshire     6.13     3.76          0.686364          0.141818   \n",
       "2          Northeast     6.19     3.77          0.746364          0.151818   \n",
       "3      East Midlands     4.89     3.34         -0.553636         -0.278182   \n",
       "4      West Midlands     5.63     3.47          0.186364         -0.148182   \n",
       "5        East Anglia     4.52     2.92         -0.923636         -0.698182   \n",
       "6          Southeast     5.89     3.20          0.446364         -0.418182   \n",
       "7          Southwest     4.79     2.71         -0.653636         -0.908182   \n",
       "8              Wales     5.27     3.53         -0.173636         -0.088182   \n",
       "9           Scotland     6.08     4.51          0.636364          0.891818   \n",
       "10  Northern Ireland     4.02     4.56         -1.423636          0.941818   \n",
       "\n",
       "    covariation  covariation_values  \n",
       "0      0.422675            0.422675  \n",
       "1      0.097339            0.097339  \n",
       "2      0.113312            0.113312  \n",
       "3      0.154012            0.154012  \n",
       "4     -0.027616           -0.027616  \n",
       "5      0.644866            0.644866  \n",
       "6     -0.186661           -0.186661  \n",
       "7      0.593621            0.593621  \n",
       "8      0.015312            0.015312  \n",
       "9      0.567521            0.567521  \n",
       "10    -1.340807           -1.340807  "
      ]
     },
     "execution_count": 59,
     "metadata": {},
     "output_type": "execute_result"
    }
   ],
   "source": [
    "covariation_values = df[\"Alcohol Centered\"] * df[\"Tobacco Centered\"]\n",
    "df['covariation_values'] = covariation_values\n",
    "df"
   ]
  },
  {
   "cell_type": "code",
   "execution_count": 69,
   "id": "76f4cd5f-2f6f-4fd7-aeff-98ff2cbcab66",
   "metadata": {},
   "outputs": [
    {
     "data": {
      "text/plain": [
       "0.09577933884297528"
      ]
     },
     "execution_count": 69,
     "metadata": {},
     "output_type": "execute_result"
    }
   ],
   "source": [
    "entries_count = df.shape[0]\n",
    "covariation = sum(df['covariation_values']) / entries_count\n",
    "covariation"
   ]
  },
  {
   "cell_type": "code",
   "execution_count": 70,
   "id": "b62300fa-6371-44c5-8a14-51e793803e69",
   "metadata": {},
   "outputs": [
    {
     "data": {
      "text/plain": [
       "0.2235721142626436"
      ]
     },
     "execution_count": 70,
     "metadata": {},
     "output_type": "execute_result"
    }
   ],
   "source": [
    "correlation = covariation / (np.std(df['Alcohol']) * np.std(df['Tobacco']))\n",
    "correlation"
   ]
  },
  {
   "cell_type": "code",
   "execution_count": 72,
   "id": "d63cd61c-a91d-4400-99e9-fe826c91802c",
   "metadata": {},
   "outputs": [
    {
     "data": {
      "text/html": [
       "<div>\n",
       "<style scoped>\n",
       "    .dataframe tbody tr th:only-of-type {\n",
       "        vertical-align: middle;\n",
       "    }\n",
       "\n",
       "    .dataframe tbody tr th {\n",
       "        vertical-align: top;\n",
       "    }\n",
       "\n",
       "    .dataframe thead th {\n",
       "        text-align: right;\n",
       "    }\n",
       "</style>\n",
       "<table border=\"1\" class=\"dataframe\">\n",
       "  <thead>\n",
       "    <tr style=\"text-align: right;\">\n",
       "      <th></th>\n",
       "      <th>Alcohol</th>\n",
       "      <th>Tobacco</th>\n",
       "    </tr>\n",
       "  </thead>\n",
       "  <tbody>\n",
       "    <tr>\n",
       "      <th>Alcohol</th>\n",
       "      <td>1.000000</td>\n",
       "      <td>0.223572</td>\n",
       "    </tr>\n",
       "    <tr>\n",
       "      <th>Tobacco</th>\n",
       "      <td>0.223572</td>\n",
       "      <td>1.000000</td>\n",
       "    </tr>\n",
       "  </tbody>\n",
       "</table>\n",
       "</div>"
      ],
      "text/plain": [
       "          Alcohol   Tobacco\n",
       "Alcohol  1.000000  0.223572\n",
       "Tobacco  0.223572  1.000000"
      ]
     },
     "execution_count": 72,
     "metadata": {},
     "output_type": "execute_result"
    }
   ],
   "source": [
    "correlation2 = df[['Alcohol', 'Tobacco']].corr()\n",
    "correlation2"
   ]
  },
  {
   "cell_type": "code",
   "execution_count": 73,
   "id": "8326ab5a-0c25-4a85-b077-9b59f103a505",
   "metadata": {},
   "outputs": [
    {
     "data": {
      "text/html": [
       "<div>\n",
       "<style scoped>\n",
       "    .dataframe tbody tr th:only-of-type {\n",
       "        vertical-align: middle;\n",
       "    }\n",
       "\n",
       "    .dataframe tbody tr th {\n",
       "        vertical-align: top;\n",
       "    }\n",
       "\n",
       "    .dataframe thead th {\n",
       "        text-align: right;\n",
       "    }\n",
       "</style>\n",
       "<table border=\"1\" class=\"dataframe\">\n",
       "  <thead>\n",
       "    <tr style=\"text-align: right;\">\n",
       "      <th></th>\n",
       "      <th>Alcohol</th>\n",
       "      <th>Tobacco</th>\n",
       "    </tr>\n",
       "  </thead>\n",
       "  <tbody>\n",
       "    <tr>\n",
       "      <th>Alcohol</th>\n",
       "      <td>1.000000</td>\n",
       "      <td>0.372727</td>\n",
       "    </tr>\n",
       "    <tr>\n",
       "      <th>Tobacco</th>\n",
       "      <td>0.372727</td>\n",
       "      <td>1.000000</td>\n",
       "    </tr>\n",
       "  </tbody>\n",
       "</table>\n",
       "</div>"
      ],
      "text/plain": [
       "          Alcohol   Tobacco\n",
       "Alcohol  1.000000  0.372727\n",
       "Tobacco  0.372727  1.000000"
      ]
     },
     "execution_count": 73,
     "metadata": {},
     "output_type": "execute_result"
    }
   ],
   "source": [
    "df[['Alcohol', 'Tobacco']].corr(method='spearman')"
   ]
  },
  {
   "cell_type": "code",
   "execution_count": null,
   "id": "ea3c6fbc-3c38-4283-97ef-dd9d981b4226",
   "metadata": {},
   "outputs": [],
   "source": []
  }
 ],
 "metadata": {
  "kernelspec": {
   "display_name": "Python 3 (ipykernel)",
   "language": "python",
   "name": "python3"
  },
  "language_info": {
   "codemirror_mode": {
    "name": "ipython",
    "version": 3
   },
   "file_extension": ".py",
   "mimetype": "text/x-python",
   "name": "python",
   "nbconvert_exporter": "python",
   "pygments_lexer": "ipython3",
   "version": "3.9.7"
  }
 },
 "nbformat": 4,
 "nbformat_minor": 5
}
