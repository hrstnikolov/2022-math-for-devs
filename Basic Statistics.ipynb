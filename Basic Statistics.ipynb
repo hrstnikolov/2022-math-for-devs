{
 "cells": [
  {
   "cell_type": "code",
   "execution_count": 1,
   "id": "40084fe7-3731-4d14-9bff-110b36de6793",
   "metadata": {},
   "outputs": [],
   "source": [
    "%matplotlib inline"
   ]
  },
  {
   "cell_type": "code",
   "execution_count": 2,
   "id": "e8d1b591-dc6d-41fb-8786-2d52c359ef6f",
   "metadata": {},
   "outputs": [],
   "source": [
    "import numpy as np\n",
    "import matplotlib.pyplot as plt\n"
   ]
  },
  {
   "cell_type": "markdown",
   "id": "d2181740-9678-4378-a0b4-06a547b21de4",
   "metadata": {
    "tags": []
   },
   "source": [
    "# Basic Statistics"
   ]
  },
  {
   "cell_type": "markdown",
   "id": "7c4d441e-1367-4985-963e-4e59ae5fa291",
   "metadata": {},
   "source": [
    "## Variance and Standard Deviation"
   ]
  },
  {
   "cell_type": "code",
   "execution_count": 3,
   "id": "6166f76f-0321-48df-a3a0-8fef278dcc40",
   "metadata": {},
   "outputs": [
    {
     "data": {
      "text/plain": [
       "array([12, 23, 34, 44, 59, 70, 98])"
      ]
     },
     "execution_count": 3,
     "metadata": {},
     "output_type": "execute_result"
    }
   ],
   "source": [
    "dataset = np.array([12, 23, 34, 44, 59, 70, 98])\n",
    "dataset"
   ]
  },
  {
   "cell_type": "code",
   "execution_count": 4,
   "id": "68f6f6b9-bad0-4219-8694-0b90bff3230f",
   "metadata": {},
   "outputs": [
    {
     "data": {
      "text/plain": [
       "48.57142857142857"
      ]
     },
     "execution_count": 4,
     "metadata": {},
     "output_type": "execute_result"
    }
   ],
   "source": [
    "mean = dataset.mean()\n",
    "mean"
   ]
  },
  {
   "cell_type": "code",
   "execution_count": 8,
   "id": "fa09a13b-9752-4996-8fdc-6a8abefa2439",
   "metadata": {},
   "outputs": [
    {
     "data": {
      "text/plain": [
       "array([-36.6, -25.6, -14.6,  -4.6,  10.4,  21.4,  49.4])"
      ]
     },
     "execution_count": 8,
     "metadata": {},
     "output_type": "execute_result"
    }
   ],
   "source": [
    "distances_to_mean = dataset - mean\n",
    "distances_to_mean.round(1)"
   ]
  },
  {
   "cell_type": "code",
   "execution_count": 9,
   "id": "61c67f5c-3aab-4ecb-8554-13d8820d74e4",
   "metadata": {},
   "outputs": [
    {
     "data": {
      "text/plain": [
       "5235.714285714286"
      ]
     },
     "execution_count": 9,
     "metadata": {},
     "output_type": "execute_result"
    }
   ],
   "source": [
    "sq_distances = sum(distances_to_mean ** 2)\n",
    "sq_distances"
   ]
  },
  {
   "cell_type": "code",
   "execution_count": 10,
   "id": "d7a2bc56-5335-4840-b35a-92b60fa6cb91",
   "metadata": {},
   "outputs": [
    {
     "data": {
      "text/plain": [
       "7"
      ]
     },
     "execution_count": 10,
     "metadata": {},
     "output_type": "execute_result"
    }
   ],
   "source": [
    "n = dataset.shape[0]\n",
    "n"
   ]
  },
  {
   "cell_type": "code",
   "execution_count": 11,
   "id": "d6dd0b63-15c2-47ca-b9f2-1d89cbafd2ef",
   "metadata": {},
   "outputs": [
    {
     "data": {
      "text/plain": [
       "872.6190476190477"
      ]
     },
     "execution_count": 11,
     "metadata": {},
     "output_type": "execute_result"
    }
   ],
   "source": [
    "v = sq_distances / (n - 1)  # дисперсия, variation\n",
    "v"
   ]
  },
  {
   "cell_type": "code",
   "execution_count": 12,
   "id": "a5c61c9d-8519-47d7-9200-977e395809be",
   "metadata": {},
   "outputs": [
    {
     "data": {
      "text/plain": [
       "29.54012605963366"
      ]
     },
     "execution_count": 12,
     "metadata": {},
     "output_type": "execute_result"
    }
   ],
   "source": [
    "s = np.sqrt(v)  # std\n",
    "s"
   ]
  },
  {
   "cell_type": "code",
   "execution_count": 13,
   "id": "3781349e-af49-416a-bfce-442276a550d2",
   "metadata": {},
   "outputs": [
    {
     "data": {
      "text/plain": [
       "(29.54012605963366, 29.54012605963366)"
      ]
     },
     "execution_count": 13,
     "metadata": {},
     "output_type": "execute_result"
    }
   ],
   "source": [
    "s, np.std(dataset, ddof=1) # Validate: calculated s == np.std(dataset)"
   ]
  },
  {
   "cell_type": "markdown",
   "id": "0410fd26-7390-487e-b508-d8a00b60dfce",
   "metadata": {},
   "source": [
    "## CoVariance"
   ]
  },
  {
   "cell_type": "markdown",
   "id": "c850effe-0c8e-4098-b234-426537a1d0fd",
   "metadata": {},
   "source": [
    "###  2-dimensional data set and covariance calculation"
   ]
  },
  {
   "attachments": {
    "a72df0e1-5aa1-4fd5-8af9-8c4371969004.png": {
     "image/png": "[encoded data removed]"
    }
   },
   "cell_type": "markdown",
   "id": "d8b138bc-7ece-495c-843e-e6569ee016ce",
   "metadata": {},
   "source": [
    "<div>\n",
    "<img src=\"attachment:a72df0e1-5aa1-4fd5-8af9-8c4371969004.png\" width=\"300\">\n",
    "</div>"
   ]
  },
  {
   "attachments": {
    "54f247b8-2f63-429e-8ae4-4c9162ea9ecb.png": {
     "image/png": "[encoded data removed]"
    }
   },
   "cell_type": "markdown",
   "id": "cd0ddaf1-4105-4a9e-946e-c283a6eb53ab",
   "metadata": {},
   "source": [
    "<div>\n",
    "<img src=\"attachment:54f247b8-2f63-429e-8ae4-4c9162ea9ecb.png\" width=\"300\">\n",
    "</div>"
   ]
  },
  {
   "cell_type": "code",
   "execution_count": 56,
   "id": "2c57a897-5de7-410f-bc62-c19ed87a3715",
   "metadata": {},
   "outputs": [
    {
     "data": {
      "text/plain": [
       "array([[ 9, 39],\n",
       "       [15, 56],\n",
       "       [25, 93],\n",
       "       [14, 61],\n",
       "       [10, 50],\n",
       "       [18, 75],\n",
       "       [ 0, 32],\n",
       "       [16, 85],\n",
       "       [ 5, 42],\n",
       "       [19, 70],\n",
       "       [16, 66],\n",
       "       [20, 80]])"
      ]
     },
     "execution_count": 56,
     "metadata": {},
     "output_type": "execute_result"
    }
   ],
   "source": [
    "# Hours studed. hrs  |  Mark on exam, %\n",
    "dataset = np.array([\n",
    "    [9, 39],\n",
    "    [15, 56],\n",
    "    [25, 93],\n",
    "    [14, 61],\n",
    "    [10, 50],\n",
    "    [18, 75],\n",
    "    [0, 32],\n",
    "    [16, 85],\n",
    "    [5, 42],\n",
    "    [19, 70],\n",
    "    [16, 66],\n",
    "    [20, 80],\n",
    "])\n",
    "dataset"
   ]
  },
  {
   "cell_type": "code",
   "execution_count": 57,
   "id": "bf13273e-4fef-427f-8838-805b3bcb4b7f",
   "metadata": {},
   "outputs": [
    {
     "data": {
      "text/plain": [
       "(13.916666666666666, 62.416666666666664)"
      ]
     },
     "execution_count": 57,
     "metadata": {},
     "output_type": "execute_result"
    }
   ],
   "source": [
    "mean_hours, mean_mark = np.mean(dataset, axis=0)\n",
    "mean_hours, mean_mark"
   ]
  },
  {
   "cell_type": "code",
   "execution_count": 58,
   "id": "ee051655-8e15-42ce-9f2a-38d839e71571",
   "metadata": {},
   "outputs": [
    {
     "data": {
      "text/plain": [
       "array([ -4.91666667,   1.08333333,  11.08333333,   0.08333333,\n",
       "        -3.91666667,   4.08333333, -13.91666667,   2.08333333,\n",
       "        -8.91666667,   5.08333333,   2.08333333,   6.08333333])"
      ]
     },
     "execution_count": 58,
     "metadata": {},
     "output_type": "execute_result"
    }
   ],
   "source": [
    "hour_differences_to_mean = dataset[:,0] - mean_hours\n",
    "hour_differences_to_mean"
   ]
  },
  {
   "cell_type": "code",
   "execution_count": 59,
   "id": "30846449-c1a6-44ef-8045-85af1a380b54",
   "metadata": {},
   "outputs": [
    {
     "data": {
      "text/plain": [
       "array([-23.41666667,  -6.41666667,  30.58333333,  -1.41666667,\n",
       "       -12.41666667,  12.58333333, -30.41666667,  22.58333333,\n",
       "       -20.41666667,   7.58333333,   3.58333333,  17.58333333])"
      ]
     },
     "execution_count": 59,
     "metadata": {},
     "output_type": "execute_result"
    }
   ],
   "source": [
    "mark_differences_to_mean = dataset[:,1] - mean_mark\n",
    "mark_differences_to_mean"
   ]
  },
  {
   "cell_type": "code",
   "execution_count": 60,
   "id": "6d40fb9e-9e6a-4a72-9a14-30ef3cab44da",
   "metadata": {},
   "outputs": [
    {
     "data": {
      "text/plain": [
       "array([ 1.15131944e+02, -6.95138889e+00,  3.38965278e+02, -1.18055556e-01,\n",
       "        4.86319444e+01,  5.13819444e+01,  4.23298611e+02,  4.70486111e+01,\n",
       "        1.82048611e+02,  3.85486111e+01,  7.46527778e+00,  1.06965278e+02])"
      ]
     },
     "execution_count": 60,
     "metadata": {},
     "output_type": "execute_result"
    }
   ],
   "source": [
    "product = hour_difference_to_mean * mark_differences_to_mean\n",
    "product"
   ]
  },
  {
   "cell_type": "code",
   "execution_count": 61,
   "id": "cf8fdb66-0722-4f68-ad30-0a2612215c33",
   "metadata": {},
   "outputs": [
    {
     "data": {
      "text/plain": [
       "1352.4166666666667"
      ]
     },
     "execution_count": 61,
     "metadata": {},
     "output_type": "execute_result"
    }
   ],
   "source": [
    "np.sum(product)"
   ]
  },
  {
   "cell_type": "code",
   "execution_count": 62,
   "id": "c3e8bbb5-729e-4f93-b41a-6da2114ea203",
   "metadata": {},
   "outputs": [
    {
     "data": {
      "text/plain": [
       "12"
      ]
     },
     "execution_count": 62,
     "metadata": {},
     "output_type": "execute_result"
    }
   ],
   "source": [
    "n = dataset.shape[0]  # number or measurements (rows)\n",
    "n"
   ]
  },
  {
   "cell_type": "code",
   "execution_count": 63,
   "id": "c92edc2b-b0d6-4a24-8a97-11b179e2e777",
   "metadata": {},
   "outputs": [
    {
     "data": {
      "text/plain": [
       "122.9469696969697"
      ]
     },
     "execution_count": 63,
     "metadata": {},
     "output_type": "execute_result"
    }
   ],
   "source": [
    "cov = sum(product) / (n - 1)  # covariance, Коварация\n",
    "cov"
   ]
  },
  {
   "attachments": {
    "54f247b8-2f63-429e-8ae4-4c9162ea9ecb.png": {
     "image/png": "[encoded data removed]"
    }
   },
   "cell_type": "markdown",
   "id": "135249a0-772b-4667-8598-5155c6098e7d",
   "metadata": {},
   "source": [
    "<div>\n",
    "<img src=\"attachment:54f247b8-2f63-429e-8ae4-4c9162ea9ecb.png\" width=\"300\">\n",
    "</div>"
   ]
  },
  {
   "cell_type": "markdown",
   "id": "d4ef413a-39fe-4ae6-8bc2-adeee2afd109",
   "metadata": {},
   "source": [
    "Verify calculation is correct - compare to `np.cov()`."
   ]
  },
  {
   "cell_type": "code",
   "execution_count": 66,
   "id": "f4cd1977-aaff-46c0-8acc-716229d1798b",
   "metadata": {},
   "outputs": [
    {
     "data": {
      "text/plain": [
       "array([[ 47.71969697, 122.9469697 ],\n",
       "       [122.9469697 , 370.08333333]])"
      ]
     },
     "execution_count": 66,
     "metadata": {},
     "output_type": "execute_result"
    }
   ],
   "source": [
    "np.cov(dataset.T)"
   ]
  },
  {
   "cell_type": "code",
   "execution_count": 71,
   "id": "d7ebbb54-c813-4689-a155-f9c12a01f989",
   "metadata": {},
   "outputs": [
    {
     "data": {
      "text/plain": [
       "(47.71969696969697, 370.08333333333337)"
      ]
     },
     "execution_count": 71,
     "metadata": {},
     "output_type": "execute_result"
    }
   ],
   "source": [
    "hours_variation = np.var(dataset[:,0], ddof=1)\n",
    "marks_variation = np.var(dataset[:,1], ddof=1)\n",
    "\n",
    "hours_variation, marks_variation"
   ]
  },
  {
   "cell_type": "markdown",
   "id": "8e596376-dde0-4269-bbfe-3e8250f0fc2e",
   "metadata": {},
   "source": [
    "Variations on the diagonal (COvariance between the same columns).\n",
    "\n",
    "Co-Variation on the sides, the same one as var(H, M) = var(M, H)"
   ]
  },
  {
   "cell_type": "markdown",
   "id": "ce7204e4-1c70-433a-a9ea-715ca76f97a5",
   "metadata": {},
   "source": [
    "**Conclusions:**\n",
    "* Non-diagonal values of the covariance matrix are > 0. Therefore the two dimensions **increase together**: the greater the hours studied the higher is the mark. \n",
    "* The value (122) depends on how big are the numbers, the nature of what is measured. It does **not** provide helpful information. \n"
   ]
  },
  {
   "cell_type": "markdown",
   "id": "45dc45bb-b359-4f7c-b94d-ad415a0acd1d",
   "metadata": {},
   "source": [
    "###  3-dimensional data set and covariance matrix"
   ]
  },
  {
   "cell_type": "markdown",
   "id": "9a4e874c-0d67-40e1-9854-ca24759b229b",
   "metadata": {},
   "source": [
    "`x, y, z` are vectors and are the columns of matrix `a`."
   ]
  },
  {
   "cell_type": "code",
   "execution_count": 90,
   "id": "a649f229-f0b8-44e2-8709-996c3e5f2f1e",
   "metadata": {},
   "outputs": [],
   "source": [
    "a = np.array([\n",
    "    [1, 2, 1],\n",
    "    [-1, 1, 3],  \n",
    "    [4, 3, -1],  \n",
    "])"
   ]
  },
  {
   "cell_type": "markdown",
   "id": "83b28475-3b72-4e3e-b57d-d6230eb5e765",
   "metadata": {},
   "source": [
    "`np.cov` calculates the covariance between **row vectors**, therefore we need to transpose the matrix: `a.T`."
   ]
  },
  {
   "cell_type": "code",
   "execution_count": 91,
   "id": "de9e8392-bc1c-4302-995d-68c3da13cb1b",
   "metadata": {},
   "outputs": [
    {
     "data": {
      "text/plain": [
       "array([[ 6.33333333,  2.5       , -5.        ],\n",
       "       [ 2.5       ,  1.        , -2.        ],\n",
       "       [-5.        , -2.        ,  4.        ]])"
      ]
     },
     "execution_count": 91,
     "metadata": {},
     "output_type": "execute_result"
    }
   ],
   "source": [
    "np.cov(a.T, ddof=1)"
   ]
  },
  {
   "cell_type": "markdown",
   "id": "74d8491b-01ba-4b8f-8703-44f29a66566a",
   "metadata": {},
   "source": []
  }
 ],
 "metadata": {
  "kernelspec": {
   "display_name": "Python 3 (ipykernel)",
   "language": "python",
   "name": "python3"
  },
  "language_info": {
   "codemirror_mode": {
    "name": "ipython",
    "version": 3
   },
   "file_extension": ".py",
   "mimetype": "text/x-python",
   "name": "python",
   "nbconvert_exporter": "python",
   "pygments_lexer": "ipython3",
   "version": "3.9.7"
  }
 },
 "nbformat": 4,
 "nbformat_minor": 5
}
