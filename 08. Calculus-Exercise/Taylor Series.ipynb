{
 "cells": [
  {
   "cell_type": "markdown",
   "id": "92a1f83e-1982-4eea-ba6c-80f3440fcff6",
   "metadata": {},
   "source": [
    "# Taylor Series"
   ]
  },
  {
   "cell_type": "code",
   "execution_count": 3,
   "id": "a96a88cc-a3e1-4d5b-ba53-4161ad82649f",
   "metadata": {},
   "outputs": [],
   "source": [
    "%matplotlib inline"
   ]
  },
  {
   "cell_type": "code",
   "execution_count": 27,
   "id": "21db2dc2-4af8-48c4-ab2f-4892a5224f87",
   "metadata": {},
   "outputs": [],
   "source": [
    "import numpy as np\n",
    "import matplotlib.pyplot as plt\n",
    "import math"
   ]
  },
  {
   "cell_type": "markdown",
   "id": "7a609ee4-a2ae-4387-a261-84154a35cd49",
   "metadata": {},
   "source": [
    "## Function Аpproximation"
   ]
  },
  {
   "cell_type": "markdown",
   "id": "1ee7c66c-a984-44fa-b361-cc652ed62653",
   "metadata": {},
   "source": [
    "An action.\n",
    "\n",
    "An action to represent a function as a combination of simpler and easily solvable muliple functions."
   ]
  },
  {
   "cell_type": "markdown",
   "id": "1707e795-80e2-4dcd-9245-1aef95278c2e",
   "metadata": {},
   "source": [
    "An example: "
   ]
  },
  {
   "cell_type": "markdown",
   "id": "d801d3c0-b882-4047-937b-8819d0e36702",
   "metadata": {
    "tags": []
   },
   "source": [
    "## Series\n",
    "А sequence of numbers e.g. $1, 5, -2$.\n",
    "\n",
    "In practice most series are not random (as the one above) but the successive terms have some sort of relationship e.g. $1, 1/2, 1/4, 1/8...$ "
   ]
  },
  {
   "cell_type": "markdown",
   "id": "817d908b-9c69-4fc3-aeaf-daede5fb16c0",
   "metadata": {
    "tags": []
   },
   "source": [
    "#### Problem: Dropping a ball\n",
    "Consider a ball that drops from a height of 27 m and on each bounce retains only a third of its kinetic energy; thus after one bounce it will return to a height of 9 m, after two bounces to 3 m, and so on. Find the total distance travelled between the ﬁrst bounce and the Mth bounce."
   ]
  },
  {
   "cell_type": "markdown",
   "id": "3069cb92-278f-4de0-b044-d71fb36be1b0",
   "metadata": {},
   "source": [
    "**Solution**: This is a geometric series. The total distance between the "
   ]
  },
  {
   "cell_type": "code",
   "execution_count": 21,
   "id": "9a50e16b-1fe1-4241-b233-f5da9b1574af",
   "metadata": {},
   "outputs": [],
   "source": [
    "h = 9  # initial height\n",
    "r = 1 / 3  # common ratio\n",
    "S_n = lambda n: 2 * h * (1 - r ** n) / (1 - r)  # sum up to the n-th element"
   ]
  },
  {
   "cell_type": "code",
   "execution_count": 22,
   "id": "73c8c655-406b-4892-96aa-1a516e173d19",
   "metadata": {},
   "outputs": [
    {
     "name": "stdout",
     "output_type": "stream",
     "text": [
      "0: 0.0\n",
      "1: 18.0\n",
      "2: 23.999999999999996\n",
      "3: 26.0\n",
      "4: 26.666666666666664\n",
      "5: 26.88888888888889\n",
      "6: 26.962962962962962\n",
      "7: 26.98765432098765\n",
      "8: 26.99588477366255\n",
      "9: 26.998628257887518\n"
     ]
    }
   ],
   "source": [
    "for n in range(10):\n",
    "    print(f'{n}: {S_n(n)}')"
   ]
  },
  {
   "cell_type": "code",
   "execution_count": 29,
   "id": "ff55c3f6-5a88-4faf-85dc-9e8a4359c9f0",
   "metadata": {},
   "outputs": [
    {
     "name": "stdout",
     "output_type": "stream",
     "text": [
      "stopped bouncing at t=7.762\n",
      "\n"
     ]
    },
    {
     "data": {
      "text/plain": [
       "Text(0.5, 1.0, 'bouncing ball')"
      ]
     },
     "execution_count": 29,
     "metadata": {},
     "output_type": "execute_result"
    },
    {
     "data": {
      "image/png": "[encoded data removed]",
      "text/plain": [
       "<Figure size 432x288 with 1 Axes>"
      ]
     },
     "metadata": {
      "needs_background": "light"
     },
     "output_type": "display_data"
    }
   ],
   "source": [
    "h0 = 5         # m/s\n",
    "v = 0          # m/s, current velocity\n",
    "g = 10         # m/s/s\n",
    "t = 0          # starting time\n",
    "dt = 0.001     # time step\n",
    "rho = 0.75     # coefficient of restitution\n",
    "tau = 0.10     # contact time for bounce\n",
    "hmax = h0      # keep track of the maximum height\n",
    "h = h0\n",
    "hstop = 0.01   # stop when bounce is less than 1 cm\n",
    "freefall = True # state: freefall or in contact\n",
    "t_last = -math.sqrt(2*h0/g) # time we would have launched to get to h0 at t=0\n",
    "vmax = math.sqrt(2 * hmax * g)\n",
    "H = []\n",
    "T = []\n",
    "while(hmax > hstop):\n",
    "  if(freefall):\n",
    "    hnew = h + v*dt - 0.5*g*dt*dt\n",
    "    if(hnew<0):\n",
    "      t = t_last + 2*math.sqrt(2*hmax/g)\n",
    "      freefall = False\n",
    "      t_last = t + tau\n",
    "      h = 0\n",
    "    else:\n",
    "      t = t + dt\n",
    "      v = v - g*dt\n",
    "      h = hnew\n",
    "  else:\n",
    "    t = t + tau\n",
    "    vmax = vmax * rho\n",
    "    v = vmax\n",
    "    freefall = True\n",
    "    h = 0\n",
    "  hmax = 0.5*vmax*vmax/g\n",
    "  H.append(h)\n",
    "  T.append(t)\n",
    "\n",
    "print(\"stopped bouncing at t=%.3f\\n\"%(t))\n",
    "\n",
    "plt.figure()\n",
    "plt.plot(T, H)\n",
    "plt.xlabel('time')\n",
    "plt.ylabel('height')\n",
    "plt.title('bouncing ball')"
   ]
  },
  {
   "cell_type": "markdown",
   "id": "f5615beb-a06c-4c39-9140-3f215af8aebf",
   "metadata": {
    "jp-MarkdownHeadingCollapsed": true,
    "tags": []
   },
   "source": [
    "### ** Problem 5. Taylor Series. Computing Function Value Approximations\n",
    "Some functions can be really hard to compute, or even impossible. However, there are ways to approximate functions with other functions, which are simpler. The idea is the same as what we already used: we approximated the function with its tangent line to find the derivative at a given point. Research what Taylor series are and how they're used in approximating functions. Derive and implement the Taylor expansions of several functions.\n",
    "* What is \"function approximation\"?\n",
    "* Why can't we compute all functions numerically?\n",
    "* What are some easy ways to approximate a function near a given point?\n",
    "* Polynomial functions are very useful approximators. Why? Think about their continuity and derivatives\n",
    "* What information does the first derivative of a function give us?\n",
    "    * How does that information generalize to higher-order derivatives (second, third, fourth, etc.)?\n",
    "* What are Taylor series? Why does it work?\n",
    "    * Derive the formula\n",
    "    * What are Maclaurin series? What's the difference?\n",
    "* Derive some Taylor series expansions. Some common functions are $\\sin(x)$ and $\\cos(x)$\n",
    "    * To work with infinite sums, we have to \"cut\" them somewhere. Why are we allowed to do that? Think about the different terms: one Taylor expansion term doesn't affect the others\n",
    "    * How are those expansions used in calculators / numerical libraries?\n",
    "    * Write the code that computes the approximations\n",
    "    * Test the code\n",
    "* How many terms do we need?\n",
    "    * Visualize how the approximation is getting better as we include more terms in the Taylor expansion\n",
    "    "
   ]
  },
  {
   "cell_type": "markdown",
   "id": "119b9ac1-5e69-431f-9f63-ebb4b439b005",
   "metadata": {},
   "source": [
    "## Resources\n",
    "1) [Fundamentals of Approximation Theory](https://books.google.bg/books?id=643OA9qwXLgC&dq=%22approximation+theory%22&pg=PA1&redir_esc=y#v=onepage&q=%22approximation%20theory%22&f=false)"
   ]
  },
  {
   "cell_type": "code",
   "execution_count": null,
   "id": "3c9fdef0-4f29-434c-9264-8f18e039d31a",
   "metadata": {},
   "outputs": [],
   "source": []
  }
 ],
 "metadata": {
  "kernelspec": {
   "display_name": "Python 3 (ipykernel)",
   "language": "python",
   "name": "python3"
  },
  "language_info": {
   "codemirror_mode": {
    "name": "ipython",
    "version": 3
   },
   "file_extension": ".py",
   "mimetype": "text/x-python",
   "name": "python",
   "nbconvert_exporter": "python",
   "pygments_lexer": "ipython3",
   "version": "3.9.7"
  }
 },
 "nbformat": 4,
 "nbformat_minor": 5
}
