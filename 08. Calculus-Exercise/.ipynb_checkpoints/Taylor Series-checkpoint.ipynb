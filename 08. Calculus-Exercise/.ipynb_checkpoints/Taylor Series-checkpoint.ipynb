{
 "cells": [
  {
   "cell_type": "markdown",
   "id": "92a1f83e-1982-4eea-ba6c-80f3440fcff6",
   "metadata": {},
   "source": [
    "# Taylor Series"
   ]
  },
  {
   "cell_type": "markdown",
   "id": "d801d3c0-b882-4047-937b-8819d0e36702",
   "metadata": {},
   "source": [
    "**Series** = sequence of numbers e.g. $1, 5, -2$.\n",
    "\n",
    "In practice / nature, random series are not common nor interesting. What is quite common on the other hand are series where successive terms have some relationship e.g. $1, 1/2, 1/4, 1/8...$ "
   ]
  },
  {
   "cell_type": "code",
   "execution_count": 11,
   "id": "6b43d905-36c7-4a32-ba93-85b7d5a09436",
   "metadata": {},
   "outputs": [],
   "source": [
    "import numpy as np\n",
    "import sympy\n",
    "from sympy.abc import a, b, c, x, y"
   ]
  },
  {
   "cell_type": "code",
   "execution_count": 12,
   "id": "fe702b82-7bcf-490c-a8bd-bd9d9a750514",
   "metadata": {},
   "outputs": [
    {
     "ename": "AttributeError",
     "evalue": "module 'sympy' has no attribute 'pr'",
     "output_type": "error",
     "traceback": [
      "\u001b[1;31m---------------------------------------------------------------------------\u001b[0m",
      "\u001b[1;31mAttributeError\u001b[0m                            Traceback (most recent call last)",
      "\u001b[1;32m~\\AppData\\Local\\Temp/ipykernel_19288/2651240840.py\u001b[0m in \u001b[0;36m<module>\u001b[1;34m\u001b[0m\n\u001b[0;32m      5\u001b[0m \u001b[0mprogression\u001b[0m\u001b[1;33m\u001b[0m\u001b[1;33m\u001b[0m\u001b[0m\n\u001b[0;32m      6\u001b[0m \u001b[0msympy\u001b[0m\u001b[1;33m.\u001b[0m\u001b[0minit_printing\u001b[0m\u001b[1;33m(\u001b[0m\u001b[1;33m)\u001b[0m\u001b[1;33m\u001b[0m\u001b[1;33m\u001b[0m\u001b[0m\n\u001b[1;32m----> 7\u001b[1;33m \u001b[0msympy\u001b[0m\u001b[1;33m.\u001b[0m\u001b[0mpr\u001b[0m\u001b[1;33m\u001b[0m\u001b[1;33m\u001b[0m\u001b[0m\n\u001b[0m",
      "\u001b[1;31mAttributeError\u001b[0m: module 'sympy' has no attribute 'pr'"
     ]
    }
   ],
   "source": [
    "start = 1\n",
    "ratio = 1/2\n",
    "n = 10\n",
    "progression = [start * ratio**i for i in range(n)]\n",
    "progression\n",
    "sympy.init_printing()\n",
    "sympy.pr"
   ]
  },
  {
   "cell_type": "code",
   "execution_count": 18,
   "id": "1008111b-7e30-4e17-b3db-99f7bbfabfdd",
   "metadata": {},
   "outputs": [
    {
     "data": {
      "image/png": "[encoded data removed]",
      "text/latex": [
       "$\\displaystyle \\left[ - \\sqrt{a}, \\  \\sqrt{a}\\right]$"
      ],
      "text/plain": [
       "[-√a, √a]"
      ]
     },
     "execution_count": 18,
     "metadata": {},
     "output_type": "execute_result"
    }
   ],
   "source": [
    "sympy.solve(sin* - a, x)"
   ]
  },
  {
   "cell_type": "code",
   "execution_count": null,
   "id": "735873aa-684f-4cac-b35a-eb20c6a224fa",
   "metadata": {},
   "outputs": [],
   "source": []
  }
 ],
 "metadata": {
  "kernelspec": {
   "display_name": "Python 3 (ipykernel)",
   "language": "python",
   "name": "python3"
  },
  "language_info": {
   "codemirror_mode": {
    "name": "ipython",
    "version": 3
   },
   "file_extension": ".py",
   "mimetype": "text/x-python",
   "name": "python",
   "nbconvert_exporter": "python",
   "pygments_lexer": "ipython3",
   "version": "3.9.7"
  }
 },
 "nbformat": 4,
 "nbformat_minor": 5
}
