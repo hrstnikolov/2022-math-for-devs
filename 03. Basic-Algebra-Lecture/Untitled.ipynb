{
 "cells": [
  {
   "cell_type": "code",
   "execution_count": 1,
   "id": "e4e01764-aaa6-41b8-a95d-cc5311621d78",
   "metadata": {},
   "outputs": [],
   "source": [
    "%matplotlib inline\n"
   ]
  },
  {
   "cell_type": "code",
   "execution_count": 2,
   "id": "7992ebe4-ebd5-47f4-b88a-6ec737a088c1",
   "metadata": {},
   "outputs": [],
   "source": [
    "import numpy as np\n",
    "import numpy.polynomial.polynomial as p\n",
    "import matplotlib.pyplot as plt\n",
    "import sympy\n",
    "from sympy.abc import x"
   ]
  },
  {
   "cell_type": "markdown",
   "id": "c49cb4d6-eead-4b12-9257-989c9989e063",
   "metadata": {},
   "source": [
    "$$ Polinom 1 = 3x^2 + 2x - 9 $$\n",
    "$$ Polinom 2 = -4x^2 - 1x + 3 $$"
   ]
  },
  {
   "cell_type": "code",
   "execution_count": 3,
   "id": "d9d56785-4ffc-4b57-ac5d-8a955fc6a081",
   "metadata": {
    "tags": []
   },
   "outputs": [
    {
     "name": "stdout",
     "output_type": "stream",
     "text": [
      "<class 'numpy.polynomial.polynomial.Polynomial'>\n",
      "<class 'numpy.ndarray'>\n",
      "<class 'numpy.ndarray'>\n",
      "56.0*x**3 + 2.0\n"
     ]
    }
   ],
   "source": [
    "p1 = [-9, 2, 3]\n",
    "p2 = [3, -1, -4]\n",
    "\n",
    "p_sum = p.polyadd(p1, p2)\n",
    "\n",
    "p3 = p.Polynomial([2, 0, 0, 56])\n",
    "\n",
    "print(type(p3))\n",
    "print(type(p3.coef))\n",
    "print(type(p_sum))\n",
    "\n",
    "sympy.init_printing()\n",
    "print(sympy.Poly(reversed(p3.coef), x).as_expr())"
   ]
  },
  {
   "cell_type": "code",
   "execution_count": 4,
   "id": "0da80729-4333-4b98-839a-8bf027a0f6a3",
   "metadata": {},
   "outputs": [],
   "source": [
    "# декларативно: КАКВО Е\n",
    "s1 = {x for x in range(10) if x % 2 == 0}\n",
    "\n",
    "# императивно: КАК СЕ ПРАВИ\n",
    "s = []\n",
    "for x in range(10):\n",
    "    if x % 2 == 0:\n",
    "        s.append(x)\n",
    "s = list(s)\n",
    "\n"
   ]
  },
  {
   "cell_type": "code",
   "execution_count": null,
   "id": "ca39ad5e-dacc-4874-ac9d-24a42f0793c4",
   "metadata": {},
   "outputs": [],
   "source": []
  },
  {
   "cell_type": "code",
   "execution_count": null,
   "id": "54adc222-0b69-4ed0-b194-928fb9caf46f",
   "metadata": {},
   "outputs": [],
   "source": []
  }
 ],
 "metadata": {
  "kernelspec": {
   "display_name": "Python 3 (ipykernel)",
   "language": "python",
   "name": "python3"
  },
  "language_info": {
   "codemirror_mode": {
    "name": "ipython",
    "version": 3
   },
   "file_extension": ".py",
   "mimetype": "text/x-python",
   "name": "python",
   "nbconvert_exporter": "python",
   "pygments_lexer": "ipython3",
   "version": "3.9.7"
  }
 },
 "nbformat": 4,
 "nbformat_minor": 5
}
