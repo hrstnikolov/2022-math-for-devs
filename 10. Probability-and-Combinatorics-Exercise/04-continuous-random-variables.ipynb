{
 "cells": [
  {
   "cell_type": "code",
   "execution_count": 2,
   "id": "98f10d61-54d8-460b-af64-c0cff67cb33c",
   "metadata": {},
   "outputs": [],
   "source": [
    "%matplotlib inline"
   ]
  },
  {
   "cell_type": "code",
   "execution_count": 3,
   "id": "376ace05-c04c-4c42-8504-0c3c68397700",
   "metadata": {},
   "outputs": [],
   "source": [
    "import pandas as pd\n",
    "import numpy as np\n",
    "import matplotlib.pyplot as plt\n",
    "import scipy.stats"
   ]
  },
  {
   "cell_type": "markdown",
   "id": "94b0732f-107f-4db1-9789-e472e85b8864",
   "metadata": {},
   "source": [
    "# Continuous Random Variables and Probability Distributions"
   ]
  },
  {
   "cell_type": "code",
   "execution_count": 18,
   "id": "0aca35cc-0374-4ba8-b490-a1a5a9923a84",
   "metadata": {},
   "outputs": [
    {
     "data": {
      "text/plain": [
       "0.13590512198327787"
      ]
     },
     "execution_count": 18,
     "metadata": {},
     "output_type": "execute_result"
    }
   ],
   "source": [
    "scipy.stats.norm.cdf(2, loc=0, scale=1) - scipy.stats.norm.cdf(1, loc=0, scale=1)"
   ]
  },
  {
   "cell_type": "code",
   "execution_count": null,
   "id": "2f8355e1-916f-496d-9059-45f34ba1c305",
   "metadata": {},
   "outputs": [],
   "source": []
  },
  {
   "cell_type": "markdown",
   "id": "2f28b039-bc73-4c4e-a35b-45a8782c2ca2",
   "metadata": {},
   "source": [
    "### Example 4.2 Hole Diameter"
   ]
  },
  {
   "cell_type": "code",
   "execution_count": 4,
   "id": "596b789d-136a-49ca-9360-d438e5bdf51b",
   "metadata": {},
   "outputs": [],
   "source": [
    "target_diameter = 12.5  # mm\n",
    "pdf = lambda x: 20*np.exp(-20*(x-12.5))  # x ≥ 12.5"
   ]
  },
  {
   "cell_type": "code",
   "execution_count": 6,
   "id": "0308e172-c25b-41a7-b358-f23cb07def30",
   "metadata": {},
   "outputs": [
    {
     "data": {
      "image/png": "[encoded data removed]",
      "text/plain": [
       "<Figure size 432x288 with 1 Axes>"
      ]
     },
     "metadata": {
      "needs_background": "light"
     },
     "output_type": "display_data"
    }
   ],
   "source": [
    "x = np.linspace(12.5, 13)\n",
    "y = pdf(x)\n",
    "\n",
    "plt.plot(x, y)\n",
    "plt.show()"
   ]
  },
  {
   "cell_type": "markdown",
   "id": "e34f040b-7723-4b8e-976e-babd3b481f4e",
   "metadata": {},
   "source": [
    "If a part with a diameter greater than 12.60 mm is scrapped, what proportion of parts is scrapped?"
   ]
  },
  {
   "cell_type": "code",
   "execution_count": null,
   "id": "7a5ee5a4-fb75-4062-b1d8-d1b9088e1a47",
   "metadata": {},
   "outputs": [],
   "source": []
  }
 ],
 "metadata": {
  "kernelspec": {
   "display_name": "Python 3 (ipykernel)",
   "language": "python",
   "name": "python3"
  },
  "language_info": {
   "codemirror_mode": {
    "name": "ipython",
    "version": 3
   },
   "file_extension": ".py",
   "mimetype": "text/x-python",
   "name": "python",
   "nbconvert_exporter": "python",
   "pygments_lexer": "ipython3",
   "version": "3.8.13"
  }
 },
 "nbformat": 4,
 "nbformat_minor": 5
}
