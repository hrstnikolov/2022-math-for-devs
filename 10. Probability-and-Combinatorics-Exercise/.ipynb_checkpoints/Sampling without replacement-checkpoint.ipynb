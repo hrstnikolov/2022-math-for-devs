{
 "cells": [
  {
   "cell_type": "code",
   "execution_count": 1,
   "id": "6c275f24-0e31-41fe-b3e1-bf89b0cc0a5e",
   "metadata": {},
   "outputs": [],
   "source": [
    "import numpy as np\n",
    "import pandas as pd\n",
    "from scipy.special import comb"
   ]
  },
  {
   "cell_type": "markdown",
   "id": "07afc215-93ab-46b2-8993-6e65ed9a5fd0",
   "metadata": {},
   "source": [
    "# Sampling without replacement"
   ]
  },
  {
   "cell_type": "code",
   "execution_count": 6,
   "id": "2c049175-3343-451c-a639-1eedf5b4df77",
   "metadata": {},
   "outputs": [],
   "source": [
    "total = 1000\n",
    "defective = 1\n",
    "acceptable = total - defective"
   ]
  },
  {
   "cell_type": "code",
   "execution_count": 15,
   "id": "9dc791b7-56c2-4831-9610-ff7eaf2386b2",
   "metadata": {},
   "outputs": [],
   "source": [
    "sample = 30\n",
    "defective_in_sample = 1\n",
    "acceptable_in_sample = sample - defective_in_sample"
   ]
  },
  {
   "cell_type": "markdown",
   "id": "f103097c-6832-4248-8053-ffe39a3c1857",
   "metadata": {},
   "source": [
    "Event $A$: choose exactly `defective_in_sample` out of total `defective`\n",
    "\n",
    "Event $B$: select the remaining parts (`acceptable_in_sample`) from the ok total parts `acceptable`"
   ]
  },
  {
   "cell_type": "code",
   "execution_count": 16,
   "id": "154d68c1-fbee-4d7c-8953-06392b9e559d",
   "metadata": {},
   "outputs": [
    {
     "data": {
      "text/plain": [
       "1.0"
      ]
     },
     "execution_count": 16,
     "metadata": {},
     "output_type": "execute_result"
    }
   ],
   "source": [
    "number_of_ways_A = comb(N=defective, k=defective_in_sample)\n",
    "number_of_ways_A"
   ]
  },
  {
   "cell_type": "code",
   "execution_count": 17,
   "id": "f6cc115c-60c8-412a-806c-eab2c9fffe4f",
   "metadata": {},
   "outputs": [
    {
     "data": {
      "text/plain": [
       "7.28882457651816e+55"
      ]
     },
     "execution_count": 17,
     "metadata": {},
     "output_type": "execute_result"
    }
   ],
   "source": [
    "number_of_ways_B = comb(N=acceptable, k=acceptable_in_sample)\n",
    "number_of_ways_B"
   ]
  },
  {
   "cell_type": "markdown",
   "id": "7347c4dc-96f6-4b94-8533-020885bb082d",
   "metadata": {},
   "source": [
    "Event $C$: Choose a sample with size `sample` with **exactly** `defective_in_sample` number of defective parts: `number_of_ways_A` * `number_of_ways_B`\n",
    "\n",
    "Event $D$: Choose any a random sample with size `sample` from the total parts (`total`)\n",
    "\n",
    "Probability to get **exactly** `defective_in_sample` number of defectives in a sample of size `sample`:\n",
    "$$p(C) / p(D)$$"
   ]
  },
  {
   "cell_type": "code",
   "execution_count": 18,
   "id": "127c32d0-5523-4b84-a6d6-7424e577ae61",
   "metadata": {},
   "outputs": [
    {
     "data": {
      "text/plain": [
       "7.28882457651816e+55"
      ]
     },
     "execution_count": 18,
     "metadata": {},
     "output_type": "execute_result"
    }
   ],
   "source": [
    "number_of_ways_C = number_of_ways_A * number_of_ways_B\n",
    "number_of_ways_C"
   ]
  },
  {
   "cell_type": "code",
   "execution_count": 19,
   "id": "6a6ec896-9180-48e5-bcab-a08c192db96f",
   "metadata": {},
   "outputs": [
    {
     "data": {
      "text/plain": [
       "2.4296081921721185e+57"
      ]
     },
     "execution_count": 19,
     "metadata": {},
     "output_type": "execute_result"
    }
   ],
   "source": [
    "number_of_ways_D = comb(N=total, k=sample)\n",
    "number_of_ways_D"
   ]
  },
  {
   "cell_type": "code",
   "execution_count": 20,
   "id": "83849c68-7da7-4ad0-b47d-1c65f3f209ad",
   "metadata": {},
   "outputs": [
    {
     "data": {
      "text/plain": [
       "0.030000000000007427"
      ]
     },
     "execution_count": 20,
     "metadata": {},
     "output_type": "execute_result"
    }
   ],
   "source": [
    "p = number_of_ways_C / number_of_ways_D\n",
    "p"
   ]
  },
  {
   "cell_type": "markdown",
   "id": "c29713fb-ef57-4daa-9746-06704d7c159f",
   "metadata": {},
   "source": [
    "## Population defective"
   ]
  },
  {
   "cell_type": "code",
   "execution_count": 13,
   "id": "260f1897-d621-4741-9956-f747fb7e9716",
   "metadata": {},
   "outputs": [
    {
     "name": "stdout",
     "output_type": "stream",
     "text": [
      "1000 5 20 0.1\n",
      "1000 10 20 0.18\n",
      "1000 100 20 0.88\n"
     ]
    }
   ],
   "source": [
    "def get_probability(p_total, p_defective, s_total):\n",
    "    p_ok = p_total - p_defective\n",
    "    all_ok_sample = comb(p_ok, s_total)\n",
    "    any_sample = comb(p_total, s_total)\n",
    "    p1 = all_ok_sample / any_sample\n",
    "    p2 = 1 - p1\n",
    "    return p2\n",
    "    \n",
    "\n",
    "p_totals = np.array([1000, 1000, 1000])\n",
    "p_defectives = np.array([5, 10, 100])\n",
    "s_totals = np.array([20, 20, 20])\n",
    "\n",
    "for p_total, p_defective, s_total in zip(p_totals, p_defectives, s_totals):\n",
    "    probability = get_probability(p_total, p_defective, s_total)\n",
    "    \n",
    "    print(p_total, p_defective, s_total, probability.round(2))"
   ]
  },
  {
   "cell_type": "code",
   "execution_count": 10,
   "id": "ea3cc6ed-a635-4320-bc06-47b6976d7fa6",
   "metadata": {},
   "outputs": [
    {
     "data": {
      "text/plain": [
       "0.2636081103897028"
      ]
     },
     "execution_count": 10,
     "metadata": {},
     "output_type": "execute_result"
    }
   ],
   "source": [
    "population_total = 1000\n",
    "population_defective = 10\n",
    "population_ok = population_total - population_defective\n",
    "\n",
    "sample_total = 30\n",
    "\n",
    "# ways_to_get_sample_with_all_ok\n",
    "all_ok_sample = comb(population_ok, sample_total)\n",
    "\n",
    "# ways_to_get_any_sample\n",
    "any_sample = comb(population_total, sample_total)\n",
    "\n",
    "# probability_to_get_sample_with_all_ok\n",
    "p1 = all_ok_sample / any_sample\n",
    "\n",
    "# probability_to_get_at_least_1_defective\n",
    "p2 = 1 - p1\n",
    "p2"
   ]
  },
  {
   "cell_type": "code",
   "execution_count": null,
   "id": "41506405-a184-481e-a469-2e856e4903fb",
   "metadata": {},
   "outputs": [],
   "source": []
  }
 ],
 "metadata": {
  "kernelspec": {
   "display_name": "Python 3 (ipykernel)",
   "language": "python",
   "name": "python3"
  },
  "language_info": {
   "codemirror_mode": {
    "name": "ipython",
    "version": 3
   },
   "file_extension": ".py",
   "mimetype": "text/x-python",
   "name": "python",
   "nbconvert_exporter": "python",
   "pygments_lexer": "ipython3",
   "version": "3.9.0"
  }
 },
 "nbformat": 4,
 "nbformat_minor": 5
}
