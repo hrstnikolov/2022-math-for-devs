{
 "cells": [
  {
   "cell_type": "code",
   "execution_count": 2,
   "id": "e4768b25-7397-448f-876b-3f6868d7fe83",
   "metadata": {},
   "outputs": [],
   "source": [
    "%matplotlib inline"
   ]
  },
  {
   "cell_type": "code",
   "execution_count": 3,
   "id": "4b4e1938-ed34-4cf7-9b1f-c03a3c8ddf8d",
   "metadata": {},
   "outputs": [],
   "source": [
    "import numpy as np\n",
    "import matplotlib.pyplot as plt"
   ]
  },
  {
   "cell_type": "markdown",
   "id": "fa9e0c7b-bf70-410c-915d-97821c3a8688",
   "metadata": {},
   "source": [
    "# Calculus"
   ]
  },
  {
   "cell_type": "code",
   "execution_count": 28,
   "id": "f603fefa-76b9-49e5-880c-7a46ff8bb310",
   "metadata": {},
   "outputs": [
    {
     "name": "stdout",
     "output_type": "stream",
     "text": [
      "[[-1.e-07  1.e+00]\n",
      " [-1.e-08  1.e+00]\n",
      " [-1.e-09  1.e+00]\n",
      " [-1.e-10  1.e+00]\n",
      " [ 1.e-10  1.e+00]\n",
      " [ 1.e-09  1.e+00]\n",
      " [ 1.e-08  1.e+00]\n",
      " [ 1.e-07  1.e+00]]\n"
     ]
    },
    {
     "data": {
      "image/png": "[encoded data removed]",
      "text/plain": [
       "<Figure size 432x288 with 1 Axes>"
      ]
     },
     "metadata": {
      "needs_background": "light"
     },
     "output_type": "display_data"
    }
   ],
   "source": [
    "def get_limit(func, x_0):\n",
    "    delta = [10 ** power for power in np.arange(-7, -11, -1, dtype=float)]\n",
    "    # print(delta)\n",
    "    x = [x_0 - d for d in delta] + [x_0 + d for d in delta]\n",
    "    x.sort()\n",
    "    y = func(x)\n",
    "    print(np.array(list(zip(x, y))))\n",
    "    plt.scatter(x, y)\n",
    "    plt.show()\n",
    "    \n",
    "\n",
    "get_limit(lambda x: np.sin(x)/x, 0)"
   ]
  },
  {
   "cell_type": "code",
   "execution_count": 38,
   "id": "82ee3e64-0827-4334-9c04-e7f2fe78701f",
   "metadata": {},
   "outputs": [],
   "source": [
    "def calculate_derivative(func, x_0, h):\n",
    "    return (func(x_0 + h) - func(x_0)) / h"
   ]
  },
  {
   "cell_type": "code",
   "execution_count": 42,
   "id": "68b8c964-228e-4365-861e-d8d75d5c14b5",
   "metadata": {},
   "outputs": [
    {
     "data": {
      "text/plain": [
       "[(0.1, 0.8521693479083237),\n",
       " (0.01, 0.8751708278704473),\n",
       " (0.001, 0.8773427028773151),\n",
       " (0.0001, 0.8775585891507287),\n",
       " (1e-05, 0.8775801647431524),\n",
       " (1e-06, 0.8775823222006984),\n",
       " (1e-07, 0.8775825371953871),\n",
       " (1e-08, 0.8775825621754052),\n",
       " (1e-09, 0.877582506664254),\n",
       " (1e-10, 0.8775824511531027)]"
      ]
     },
     "execution_count": 42,
     "metadata": {},
     "output_type": "execute_result"
    }
   ],
   "source": [
    "all_h = [10.0 ** power for power in range(-1, -11, -1)]\n",
    "\n",
    "# y = lambda x: x ** 2\n",
    "y = lambda x: np.sin(x)\n",
    "[(h, calculate_derivative(y, 0.5, h)) for h in all_h]"
   ]
  },
  {
   "cell_type": "code",
   "execution_count": null,
   "id": "72f7ab69-7144-4079-ba04-587019122749",
   "metadata": {},
   "outputs": [],
   "source": []
  }
 ],
 "metadata": {
  "kernelspec": {
   "display_name": "Python 3 (ipykernel)",
   "language": "python",
   "name": "python3"
  },
  "language_info": {
   "codemirror_mode": {
    "name": "ipython",
    "version": 3
   },
   "file_extension": ".py",
   "mimetype": "text/x-python",
   "name": "python",
   "nbconvert_exporter": "python",
   "pygments_lexer": "ipython3",
   "version": "3.8.13"
  }
 },
 "nbformat": 4,
 "nbformat_minor": 5
}
