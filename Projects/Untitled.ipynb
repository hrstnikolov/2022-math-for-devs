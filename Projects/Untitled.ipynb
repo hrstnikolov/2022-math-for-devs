{
 "cells": [
  {
   "cell_type": "markdown",
   "id": "607b3ab1-ec20-4791-8b40-472edd2e6425",
   "metadata": {},
   "source": [
    "Piesoresistivity\n"
   ]
  },
  {
   "cell_type": "markdown",
   "id": "06de4017-d981-42c7-813c-6c32fb0d7e18",
   "metadata": {},
   "source": [
    "$$ \\rho_0 - \\text{unstressed resistivity} $$\n",
    "$$ \\pi - \\text{piesoresistivity = pi coefficient} $$\n",
    "$$ \\sigma: \\text{piesoresistivity = pi coefficient}  $$"
   ]
  }
 ],
 "metadata": {
  "kernelspec": {
   "display_name": "Python 3 (ipykernel)",
   "language": "python",
   "name": "python3"
  },
  "language_info": {
   "codemirror_mode": {
    "name": "ipython",
    "version": 3
   },
   "file_extension": ".py",
   "mimetype": "text/x-python",
   "name": "python",
   "nbconvert_exporter": "python",
   "pygments_lexer": "ipython3",
   "version": "3.9.7"
  }
 },
 "nbformat": 4,
 "nbformat_minor": 5
}
