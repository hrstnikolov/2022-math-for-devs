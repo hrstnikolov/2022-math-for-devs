{
 "cells": [
  {
   "cell_type": "code",
   "execution_count": 2,
   "id": "596776d1-c99f-4989-8b43-52e8c3b5eb44",
   "metadata": {},
   "outputs": [],
   "source": [
    "%matplotlib inline"
   ]
  },
  {
   "cell_type": "code",
   "execution_count": 1,
   "id": "de3ea04c-0634-498a-8b59-74b6477dac6b",
   "metadata": {},
   "outputs": [],
   "source": [
    "import numpy as np\n",
    "import pandas as pd\n",
    "import matplotlib.pyplot as plt\n",
    "\n",
    "import scipy.stats as st"
   ]
  },
  {
   "cell_type": "markdown",
   "id": "65b92636-779d-4a94-9039-34ab51143676",
   "metadata": {},
   "source": [
    "# 06 Discriptive Staitics Notes"
   ]
  },
  {
   "cell_type": "markdown",
   "id": "a7b58619-6660-44fd-a1fd-abd8800640ae",
   "metadata": {},
   "source": [
    "### Example 6.7\n",
    "\n",
    "Ten  observations  on  the  effective  service  life  in  minutes  of  batteries  used  in  a portable personal computer"
   ]
  },
  {
   "cell_type": "code",
   "execution_count": 6,
   "id": "2834189f-1bd5-45ac-91fd-80cfb07904a3",
   "metadata": {},
   "outputs": [],
   "source": [
    "X = np.array([176, 191, 214, 220, 205, 192, 201, 190, 183, 185])"
   ]
  },
  {
   "cell_type": "code",
   "execution_count": 11,
   "id": "c24e8bc7-5afd-43e4-9ac8-2eaf72179496",
   "metadata": {},
   "outputs": [
    {
     "data": {
      "text/plain": [
       "(195.7, 177.21)"
      ]
     },
     "execution_count": 11,
     "metadata": {},
     "output_type": "execute_result"
    }
   ],
   "source": [
    "mu = X.mean()\n",
    "variance = X.std() ** 2\n",
    "\n",
    "mu, variance"
   ]
  },
  {
   "cell_type": "code",
   "execution_count": 13,
   "id": "60da4568-47e2-4252-bb05-d615fe462ec8",
   "metadata": {},
   "outputs": [
    {
     "data": {
      "text/plain": [
       "13.312024639400274"
      ]
     },
     "execution_count": 13,
     "metadata": {},
     "output_type": "execute_result"
    }
   ],
   "source": [
    "stdiv = np.sqrt(variance)\n",
    "\n",
    "stdiv"
   ]
  },
  {
   "cell_type": "markdown",
   "id": "608e6a84-f0a8-49d7-a269-5ee8d8d9b425",
   "metadata": {},
   "source": [
    "The random variable X is modeled by a normal pdf. We hypothsize that X is adequately modeled by a normal distribution."
   ]
  },
  {
   "cell_type": "code",
   "execution_count": 12,
   "id": "f7a86f94-70c6-42a4-bcf6-b3d2602ad1d3",
   "metadata": {},
   "outputs": [
    {
     "data": {
      "text/plain": [
       "(195.7, 13.312024639400274)"
      ]
     },
     "execution_count": 12,
     "metadata": {},
     "output_type": "execute_result"
    }
   ],
   "source": [
    "st.norm.fit(X)"
   ]
  },
  {
   "cell_type": "code",
   "execution_count": 18,
   "id": "f8eb3516-443a-43cc-adf3-a206cf80bcd9",
   "metadata": {},
   "outputs": [],
   "source": [
    "freq = np.unique(X, return_counts=True)"
   ]
  },
  {
   "cell_type": "code",
   "execution_count": 28,
   "id": "419a74f5-d2e6-45a2-aa5e-6094d686ccb0",
   "metadata": {},
   "outputs": [],
   "source": [
    "df = pd.DataFrame(freq).T"
   ]
  },
  {
   "cell_type": "markdown",
   "id": "354e0a55-a803-42d0-a3bd-4980adead5c1",
   "metadata": {},
   "source": [
    "x - measured value of the rand variable\n",
    "\n",
    "freq - freq"
   ]
  },
  {
   "cell_type": "code",
   "execution_count": 34,
   "id": "a2e70ad6-84d0-476a-8a7a-0a22f0803c88",
   "metadata": {},
   "outputs": [],
   "source": [
    "df.columns = [\"x\", \"freq\"]\n",
    "df = df.sort_values(\"x\")"
   ]
  },
  {
   "cell_type": "code",
   "execution_count": 39,
   "id": "fbb826fc-60fa-44cc-b3b4-397cc9fcc57e",
   "metadata": {},
   "outputs": [],
   "source": [
    "df['cumfreq'] = df.freq.cumsum()"
   ]
  },
  {
   "cell_type": "code",
   "execution_count": 41,
   "id": "760b417d-3d09-4d85-bce1-72b2315aad61",
   "metadata": {},
   "outputs": [],
   "source": [
    "df['relfreq'] = df.freq / df.freq.sum()"
   ]
  },
  {
   "cell_type": "code",
   "execution_count": 45,
   "id": "be2bcfb9-2cdc-485b-84dc-f85983316fa9",
   "metadata": {},
   "outputs": [],
   "source": [
    "df['cumrelfreq'] = df.cumfreq / df.freq.sum()"
   ]
  },
  {
   "cell_type": "code",
   "execution_count": 46,
   "id": "4a94fdfa-69a6-48c1-9143-ee8aced6b8f9",
   "metadata": {},
   "outputs": [
    {
     "data": {
      "text/html": [
       "<div>\n",
       "<style scoped>\n",
       "    .dataframe tbody tr th:only-of-type {\n",
       "        vertical-align: middle;\n",
       "    }\n",
       "\n",
       "    .dataframe tbody tr th {\n",
       "        vertical-align: top;\n",
       "    }\n",
       "\n",
       "    .dataframe thead th {\n",
       "        text-align: right;\n",
       "    }\n",
       "</style>\n",
       "<table border=\"1\" class=\"dataframe\">\n",
       "  <thead>\n",
       "    <tr style=\"text-align: right;\">\n",
       "      <th></th>\n",
       "      <th>x</th>\n",
       "      <th>freq</th>\n",
       "      <th>cumfreq</th>\n",
       "      <th>relfreq</th>\n",
       "      <th>cumrelfreq</th>\n",
       "    </tr>\n",
       "  </thead>\n",
       "  <tbody>\n",
       "    <tr>\n",
       "      <th>0</th>\n",
       "      <td>176</td>\n",
       "      <td>1</td>\n",
       "      <td>1</td>\n",
       "      <td>0.1</td>\n",
       "      <td>0.1</td>\n",
       "    </tr>\n",
       "    <tr>\n",
       "      <th>1</th>\n",
       "      <td>183</td>\n",
       "      <td>1</td>\n",
       "      <td>2</td>\n",
       "      <td>0.1</td>\n",
       "      <td>0.2</td>\n",
       "    </tr>\n",
       "    <tr>\n",
       "      <th>2</th>\n",
       "      <td>185</td>\n",
       "      <td>1</td>\n",
       "      <td>3</td>\n",
       "      <td>0.1</td>\n",
       "      <td>0.3</td>\n",
       "    </tr>\n",
       "    <tr>\n",
       "      <th>3</th>\n",
       "      <td>190</td>\n",
       "      <td>1</td>\n",
       "      <td>4</td>\n",
       "      <td>0.1</td>\n",
       "      <td>0.4</td>\n",
       "    </tr>\n",
       "    <tr>\n",
       "      <th>4</th>\n",
       "      <td>191</td>\n",
       "      <td>1</td>\n",
       "      <td>5</td>\n",
       "      <td>0.1</td>\n",
       "      <td>0.5</td>\n",
       "    </tr>\n",
       "    <tr>\n",
       "      <th>5</th>\n",
       "      <td>192</td>\n",
       "      <td>1</td>\n",
       "      <td>6</td>\n",
       "      <td>0.1</td>\n",
       "      <td>0.6</td>\n",
       "    </tr>\n",
       "    <tr>\n",
       "      <th>6</th>\n",
       "      <td>201</td>\n",
       "      <td>1</td>\n",
       "      <td>7</td>\n",
       "      <td>0.1</td>\n",
       "      <td>0.7</td>\n",
       "    </tr>\n",
       "    <tr>\n",
       "      <th>7</th>\n",
       "      <td>205</td>\n",
       "      <td>1</td>\n",
       "      <td>8</td>\n",
       "      <td>0.1</td>\n",
       "      <td>0.8</td>\n",
       "    </tr>\n",
       "    <tr>\n",
       "      <th>8</th>\n",
       "      <td>214</td>\n",
       "      <td>1</td>\n",
       "      <td>9</td>\n",
       "      <td>0.1</td>\n",
       "      <td>0.9</td>\n",
       "    </tr>\n",
       "    <tr>\n",
       "      <th>9</th>\n",
       "      <td>220</td>\n",
       "      <td>1</td>\n",
       "      <td>10</td>\n",
       "      <td>0.1</td>\n",
       "      <td>1.0</td>\n",
       "    </tr>\n",
       "  </tbody>\n",
       "</table>\n",
       "</div>"
      ],
      "text/plain": [
       "     x  freq  cumfreq  relfreq  cumrelfreq\n",
       "0  176     1        1      0.1         0.1\n",
       "1  183     1        2      0.1         0.2\n",
       "2  185     1        3      0.1         0.3\n",
       "3  190     1        4      0.1         0.4\n",
       "4  191     1        5      0.1         0.5\n",
       "5  192     1        6      0.1         0.6\n",
       "6  201     1        7      0.1         0.7\n",
       "7  205     1        8      0.1         0.8\n",
       "8  214     1        9      0.1         0.9\n",
       "9  220     1       10      0.1         1.0"
      ]
     },
     "execution_count": 46,
     "metadata": {},
     "output_type": "execute_result"
    }
   ],
   "source": [
    "df"
   ]
  },
  {
   "cell_type": "code",
   "execution_count": 47,
   "id": "dd9fa277-2385-48f9-88c5-9b922a536e37",
   "metadata": {},
   "outputs": [],
   "source": [
    "df['y1'] = (df.cumfreq - 0.5) / df.freq.sum()"
   ]
  },
  {
   "cell_type": "code",
   "execution_count": 48,
   "id": "57c80539-b75d-4264-90fb-4b86720f4191",
   "metadata": {},
   "outputs": [
    {
     "data": {
      "text/html": [
       "<div>\n",
       "<style scoped>\n",
       "    .dataframe tbody tr th:only-of-type {\n",
       "        vertical-align: middle;\n",
       "    }\n",
       "\n",
       "    .dataframe tbody tr th {\n",
       "        vertical-align: top;\n",
       "    }\n",
       "\n",
       "    .dataframe thead th {\n",
       "        text-align: right;\n",
       "    }\n",
       "</style>\n",
       "<table border=\"1\" class=\"dataframe\">\n",
       "  <thead>\n",
       "    <tr style=\"text-align: right;\">\n",
       "      <th></th>\n",
       "      <th>x</th>\n",
       "      <th>freq</th>\n",
       "      <th>cumfreq</th>\n",
       "      <th>relfreq</th>\n",
       "      <th>cumrelfreq</th>\n",
       "      <th>y1</th>\n",
       "    </tr>\n",
       "  </thead>\n",
       "  <tbody>\n",
       "    <tr>\n",
       "      <th>0</th>\n",
       "      <td>176</td>\n",
       "      <td>1</td>\n",
       "      <td>1</td>\n",
       "      <td>0.1</td>\n",
       "      <td>0.1</td>\n",
       "      <td>0.05</td>\n",
       "    </tr>\n",
       "    <tr>\n",
       "      <th>1</th>\n",
       "      <td>183</td>\n",
       "      <td>1</td>\n",
       "      <td>2</td>\n",
       "      <td>0.1</td>\n",
       "      <td>0.2</td>\n",
       "      <td>0.15</td>\n",
       "    </tr>\n",
       "    <tr>\n",
       "      <th>2</th>\n",
       "      <td>185</td>\n",
       "      <td>1</td>\n",
       "      <td>3</td>\n",
       "      <td>0.1</td>\n",
       "      <td>0.3</td>\n",
       "      <td>0.25</td>\n",
       "    </tr>\n",
       "    <tr>\n",
       "      <th>3</th>\n",
       "      <td>190</td>\n",
       "      <td>1</td>\n",
       "      <td>4</td>\n",
       "      <td>0.1</td>\n",
       "      <td>0.4</td>\n",
       "      <td>0.35</td>\n",
       "    </tr>\n",
       "    <tr>\n",
       "      <th>4</th>\n",
       "      <td>191</td>\n",
       "      <td>1</td>\n",
       "      <td>5</td>\n",
       "      <td>0.1</td>\n",
       "      <td>0.5</td>\n",
       "      <td>0.45</td>\n",
       "    </tr>\n",
       "    <tr>\n",
       "      <th>5</th>\n",
       "      <td>192</td>\n",
       "      <td>1</td>\n",
       "      <td>6</td>\n",
       "      <td>0.1</td>\n",
       "      <td>0.6</td>\n",
       "      <td>0.55</td>\n",
       "    </tr>\n",
       "    <tr>\n",
       "      <th>6</th>\n",
       "      <td>201</td>\n",
       "      <td>1</td>\n",
       "      <td>7</td>\n",
       "      <td>0.1</td>\n",
       "      <td>0.7</td>\n",
       "      <td>0.65</td>\n",
       "    </tr>\n",
       "    <tr>\n",
       "      <th>7</th>\n",
       "      <td>205</td>\n",
       "      <td>1</td>\n",
       "      <td>8</td>\n",
       "      <td>0.1</td>\n",
       "      <td>0.8</td>\n",
       "      <td>0.75</td>\n",
       "    </tr>\n",
       "    <tr>\n",
       "      <th>8</th>\n",
       "      <td>214</td>\n",
       "      <td>1</td>\n",
       "      <td>9</td>\n",
       "      <td>0.1</td>\n",
       "      <td>0.9</td>\n",
       "      <td>0.85</td>\n",
       "    </tr>\n",
       "    <tr>\n",
       "      <th>9</th>\n",
       "      <td>220</td>\n",
       "      <td>1</td>\n",
       "      <td>10</td>\n",
       "      <td>0.1</td>\n",
       "      <td>1.0</td>\n",
       "      <td>0.95</td>\n",
       "    </tr>\n",
       "  </tbody>\n",
       "</table>\n",
       "</div>"
      ],
      "text/plain": [
       "     x  freq  cumfreq  relfreq  cumrelfreq    y1\n",
       "0  176     1        1      0.1         0.1  0.05\n",
       "1  183     1        2      0.1         0.2  0.15\n",
       "2  185     1        3      0.1         0.3  0.25\n",
       "3  190     1        4      0.1         0.4  0.35\n",
       "4  191     1        5      0.1         0.5  0.45\n",
       "5  192     1        6      0.1         0.6  0.55\n",
       "6  201     1        7      0.1         0.7  0.65\n",
       "7  205     1        8      0.1         0.8  0.75\n",
       "8  214     1        9      0.1         0.9  0.85\n",
       "9  220     1       10      0.1         1.0  0.95"
      ]
     },
     "execution_count": 48,
     "metadata": {},
     "output_type": "execute_result"
    }
   ],
   "source": [
    "df"
   ]
  },
  {
   "cell_type": "code",
   "execution_count": 49,
   "id": "e2a0cd7e-e2d2-4def-a5ab-720224fbaf99",
   "metadata": {},
   "outputs": [
    {
     "data": {
      "image/png": "[encoded data removed]",
      "text/plain": [
       "<Figure size 640x480 with 1 Axes>"
      ]
     },
     "metadata": {},
     "output_type": "display_data"
    }
   ],
   "source": [
    "plt.scatter(df.x, df.y1)\n",
    "plt.show()"
   ]
  },
  {
   "cell_type": "code",
   "execution_count": 53,
   "id": "c24ccae6-9793-4603-b0a3-f93c8c0ca479",
   "metadata": {},
   "outputs": [
    {
     "data": {
      "text/plain": [
       "(186.25, 187.0)"
      ]
     },
     "execution_count": 53,
     "metadata": {},
     "output_type": "execute_result"
    }
   ],
   "source": [
    "values_range = df.x.max() - df.x.min()\n",
    "quantile_25 = df.x.min() + 0.25 * values_range\n",
    "\n",
    "np.quantile(df.x, 0.25), quantile_25"
   ]
  },
  {
   "cell_type": "code",
   "execution_count": 54,
   "id": "2ea2cf89-51ce-4dfb-a502-7314bcddb290",
   "metadata": {},
   "outputs": [
    {
     "data": {
      "text/plain": [
       "(204.0, 209.0)"
      ]
     },
     "execution_count": 54,
     "metadata": {},
     "output_type": "execute_result"
    }
   ],
   "source": [
    "values_range = df.x.max() - df.x.min()\n",
    "quantile_75 = df.x.min() + 0.75 * values_range\n",
    "\n",
    "np.quantile(df.x, 0.75), quantile_75"
   ]
  },
  {
   "cell_type": "code",
   "execution_count": null,
   "id": "94f85820-ffa9-4cde-a631-85afbed21fbb",
   "metadata": {},
   "outputs": [],
   "source": []
  }
 ],
 "metadata": {
  "kernelspec": {
   "display_name": "Python 3 (ipykernel)",
   "language": "python",
   "name": "python3"
  },
  "language_info": {
   "codemirror_mode": {
    "name": "ipython",
    "version": 3
   },
   "file_extension": ".py",
   "mimetype": "text/x-python",
   "name": "python",
   "nbconvert_exporter": "python",
   "pygments_lexer": "ipython3",
   "version": "3.9.0"
  }
 },
 "nbformat": 4,
 "nbformat_minor": 5
}
